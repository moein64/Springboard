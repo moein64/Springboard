{
 "cells": [
  {
   "cell_type": "markdown",
   "metadata": {},
   "source": [
    "### Preliminary Actions: Read the dataset from csv file. Create dummy variables for geographical regions. Then, Create the predictors DataFrame and the target variable Series. At the end, create train and test sets.\n",
    "\n",
    "#### P.S. Rural-urban continuum codes (RUCC) are integers from 1 to 9. Lower  numbers refer to more populated and more metropolitan areas while higher numbers mean less populated and less metropolitan areas. Therefore, RUCC could be considered either as a quantitative variable or a categorical variables with nine levels. Both scenarios will be investigated to find out which one results in a better model."
   ]
  },
  {
   "cell_type": "code",
   "execution_count": 31,
   "metadata": {},
   "outputs": [
    {
     "name": "stdout",
     "output_type": "stream",
     "text": [
      "The first five rows of X are\n",
      "    RUCC  less_than_high_school  high_school_diploma  bachelors/higher  \\\n",
      "0     2                 12.417               34.331            24.593   \n",
      "1     3                  9.972               28.692            29.547   \n",
      "2     6                 26.236               34.927            12.868   \n",
      "3     1                 19.302               41.816            12.000   \n",
      "4     1                 19.969               32.942            13.050   \n",
      "\n",
      "   unemployment  region_Northeast  region_South  region_West  \n",
      "0           5.3                 0             1            0  \n",
      "1           5.4                 0             1            0  \n",
      "2           8.6                 0             1            0  \n",
      "3           6.6                 0             1            0  \n",
      "4           5.5                 0             1            0  \n"
     ]
    }
   ],
   "source": [
    "# There are many warnings regarding the updates in the future releases of the libraries. Ignore them.\n",
    "import warnings\n",
    "warnings.filterwarnings(\"ignore\")\n",
    "\n",
    "# Improt necessary libraries\n",
    "import matplotlib.pyplot as plt\n",
    "import pandas as pd\n",
    "import numpy as np\n",
    "import statsmodels.api as sm\n",
    "import scipy.stats as stats\n",
    "from sklearn.model_selection import cross_val_score\n",
    "from sklearn.model_selection import train_test_split\n",
    "from sklearn.model_selection import GridSearchCV\n",
    "from sklearn.linear_model import LinearRegression\n",
    "from sklearn.preprocessing import PolynomialFeatures\n",
    "from sklearn.pipeline import make_pipeline\n",
    "from sklearn.ensemble import RandomForestRegressor\n",
    "from sklearn.cluster import KMeans\n",
    "from sklearn.model_selection import KFold\n",
    "import seaborn as sns\n",
    "\n",
    "# Load the data set\n",
    "df = pd.read_csv('wrangled_data.csv')\n",
    "\n",
    "# define the predictors DataFrame and the target variable Series\n",
    "X = df.drop(['state','county','poverty'],axis=1)\n",
    "y = df['poverty']\n",
    "\n",
    "# Create dummy variables for region. I will investigate RUCC as both categorical and quantitative. \n",
    "# Therefore, I will not create dummy variables for RUCC at this step.\n",
    "X = pd.get_dummies(X)\n",
    "\n",
    "# drop one column of the dummy variables to avoid collinearity. I pick Midwest and remove it.\n",
    "# Also, the sum of the four education levels is 100 and one of them must be removed to avoid collinearity.\n",
    "# I pick college/associate_degree and remove it\n",
    "\n",
    "X.drop(['region_Midwest','college/associate_degree'],axis=1,inplace=True)\n",
    "\n",
    "# print the first five rows of X\n",
    "print('The first five rows of X are\\n',X.head())\n",
    "# X.head()\n",
    "# Split data into train and test\n",
    "X_train, X_test, y_train, y_test = train_test_split(X,y,test_size=0.2,random_state=21)"
   ]
  },
  {
   "cell_type": "markdown",
   "metadata": {},
   "source": [
    "### Step 1: Build a linear model"
   ]
  },
  {
   "cell_type": "markdown",
   "metadata": {},
   "source": [
    "#### 1.1) Keep RUCC as a quantitative variable, run cross-validation, and average the scores."
   ]
  },
  {
   "cell_type": "code",
   "execution_count": 3,
   "metadata": {},
   "outputs": [
    {
     "name": "stdout",
     "output_type": "stream",
     "text": [
      "The average of 5-fold cross-validation scores for the linear model with RUCC as a quantitative variable is 0.582\n"
     ]
    }
   ],
   "source": [
    "# Build the linear model \n",
    "model = LinearRegression()\n",
    "\n",
    "# Run cross-validation and print the average of scores\n",
    "scores = cross_val_score(model,X_train,y_train,cv=5)\n",
    "print('The average of 5-fold cross-validation scores for the linear model with RUCC as a quantitative variable is %.3f'\n",
    "      %np.mean(scores))"
   ]
  },
  {
   "cell_type": "markdown",
   "metadata": {},
   "source": [
    "#### 1.2) First, consider RUCC as a categorical variable and create dummy variables. Then, run cross-validation and average the scores."
   ]
  },
  {
   "cell_type": "code",
   "execution_count": 4,
   "metadata": {},
   "outputs": [
    {
     "name": "stdout",
     "output_type": "stream",
     "text": [
      "The average of 5-fold cross-validation scores for the linear model with RUCC as a categorical variable is 0.589\n"
     ]
    }
   ],
   "source": [
    "# Create a copy of X_train\n",
    "X1 = X_train.copy()\n",
    "# Transform RUCC column from integer to string, create dummy variables and remove one of them to avoid collinearity\n",
    "X1.RUCC = X1.RUCC.astype('str')\n",
    "X1 = pd.get_dummies(X1).drop(['RUCC_9'],axis=1)\n",
    "\n",
    "# Run cross-validation and print the average of scores\n",
    "scores = cross_val_score(model,X1,y_train,cv=5)\n",
    "print('The average of 5-fold cross-validation scores for the linear model with RUCC as a categorical variable is %.3f'\n",
    "      %np.mean(scores))"
   ]
  },
  {
   "cell_type": "markdown",
   "metadata": {},
   "source": [
    "#### Observation: The average of 5-fold cross-validation goes up only by 0.007 after creating dummy variables for RUCC. Since the number of features increases by 7, the improvement in the average cross-validation score is artificial. Therefore, in order to make the model simpler, I will keep RUCC as a quantitative variable in the following steps of developing the linear model."
   ]
  },
  {
   "cell_type": "markdown",
   "metadata": {},
   "source": [
    "#### 1.3) Examine if removing outliers will result in a model with a better performance in prediction. In order to do so, split the train dataset into 5 folds. Run five tests; in each test, leave one fold out, remove the outliers from the rest and fit a linear model on them. Then, find the score of the model predicting the left-out fold. At the end, average the five scores, and compare it with the average of 5-fold cross-validation scores for the linear model with no outliers removed in step 1.1.\n",
    "\n",
    "#### P.S.  I consider a data point an outlier if the the absolute value of the external studentized residual corresponding to that point is more than 3. I pick 3 because more than 99% of the observations for a normal distribution fall within 3 standard deviation of the mean."
   ]
  },
  {
   "cell_type": "code",
   "execution_count": 5,
   "metadata": {},
   "outputs": [
    {
     "name": "stdout",
     "output_type": "stream",
     "text": [
      "The average of five scores is 0.584\n"
     ]
    }
   ],
   "source": [
    "# Create KFold\n",
    "kf = KFold(n_splits = 5)\n",
    "score = np.empty([5])\n",
    "i = 0\n",
    "# Loop over the splits of the train set  \n",
    "for train_index, test_index in kf.split(X_train):\n",
    "    X_train_kf = X_train.iloc[train_index]\n",
    "    X_test_kf = X_train.iloc[test_index]\n",
    "    y_train_kf = y_train.iloc[train_index]\n",
    "    y_test_kf = y_train.iloc[test_index]\n",
    "    # fit the model on the X_train_kf and y_train_kf\n",
    "    model = sm.OLS(y_train_kf,X_train_kf).fit()\n",
    "    # Define the influence array and create a panda Series with the external studentized residuals\n",
    "    infl = model.get_influence()\n",
    "    p = pd.Series(infl.resid_studentized_external,index=X_train_kf.index)\n",
    "    # Remove the outliers from X_train_kf and y_train_kf\n",
    "    X_reduced=X_train_kf.loc[p[np.abs(p)<=3].index]\n",
    "    y_reduced=y_train_kf.loc[p[np.abs(p)<=3].index]\n",
    "    # Build the classifier on X_reduced and y_reduced, and calculate the score of the model predicting the left-out fold\n",
    "    clf = LinearRegression()\n",
    "    clf.fit(X_reduced,y_reduced)\n",
    "    score[i] = clf.score(X_test_kf,y_test_kf)\n",
    "    i += 1\n",
    "# Print the average of five scores\n",
    "print('The average of five scores is %.3f'%np.mean(score))"
   ]
  },
  {
   "cell_type": "markdown",
   "metadata": {},
   "source": [
    "#### Observation: The average of five scores is 0.584 which is only 0.002 more than the average of 5-fold cross-validation scores for the linear model with no outliers removed. Therefore, removing outliers does not improve the performance of the linear model in prediction."
   ]
  },
  {
   "cell_type": "markdown",
   "metadata": {},
   "source": [
    "#### 1.4) Add second-degree interaction and nonlinear terms to the linear model. Then, run 5-fold cross-validation and average the scores. "
   ]
  },
  {
   "cell_type": "code",
   "execution_count": 6,
   "metadata": {},
   "outputs": [
    {
     "name": "stdout",
     "output_type": "stream",
     "text": [
      "The average of 5-fold cross-validation scores for the linear model which includes second-degree nonlinear and interaction terms is 0.627\n"
     ]
    }
   ],
   "source": [
    "# Create linear regression and second-degree polynomial features, and use pipeline\n",
    "linear = LinearRegression()\n",
    "poly = PolynomialFeatures(degree = 2, interaction_only = False)\n",
    "pipeline = make_pipeline(poly, linear)\n",
    "\n",
    "# Run cross-validation and print the average of scores\n",
    "scores = cross_val_score(pipeline,X_train,y_train,cv=5)\n",
    "print('The average of 5-fold cross-validation scores for the linear model which includes second-degree\\\n",
    " nonlinear and interaction terms is %.3f'%np.mean(scores))"
   ]
  },
  {
   "cell_type": "markdown",
   "metadata": {},
   "source": [
    "#### Observation: The average of 5-fold cross-validation scores after adding second-degree nonlinear and interaction terms to the linear model have increased by 0.045 compared to the linear model without those terms (0.627 compared to 0.582). Since the number of features have increased from 8 to 44, the improvement in the score is artificial and is not reliable. Therefore, I will not add the nonlinear and interaction terms to the linear model."
   ]
  },
  {
   "cell_type": "markdown",
   "metadata": {},
   "source": [
    "#### 1.5) Fit the linear model on the entire train set and predict the test score. "
   ]
  },
  {
   "cell_type": "code",
   "execution_count": 67,
   "metadata": {},
   "outputs": [
    {
     "name": "stdout",
     "output_type": "stream",
     "text": [
      "The test score for the linear model is 0.565\n"
     ]
    }
   ],
   "source": [
    "# Build the linear model, fit it on the train set\n",
    "linear = LinearRegression()\n",
    "linear.fit(X_train,y_train)\n",
    "\n",
    "# Find the test score and print it\n",
    "score = linear.score(X_test,y_test)\n",
    "print('The test score for the linear model is %.3f'%score)"
   ]
  },
  {
   "cell_type": "markdown",
   "metadata": {},
   "source": [
    "#### 1.6) Build the final linear model by fitting the linear model to the entire data set,and then, simplify the model by removing the features with p-value less than 0.05"
   ]
  },
  {
   "cell_type": "code",
   "execution_count": 71,
   "metadata": {},
   "outputs": [
    {
     "data": {
      "text/html": [
       "<table class=\"simpletable\">\n",
       "<caption>OLS Regression Results</caption>\n",
       "<tr>\n",
       "  <th>Dep. Variable:</th>         <td>poverty</td>     <th>  R-squared:         </th> <td>   0.587</td> \n",
       "</tr>\n",
       "<tr>\n",
       "  <th>Model:</th>                   <td>OLS</td>       <th>  Adj. R-squared:    </th> <td>   0.586</td> \n",
       "</tr>\n",
       "<tr>\n",
       "  <th>Method:</th>             <td>Least Squares</td>  <th>  F-statistic:       </th> <td>   556.3</td> \n",
       "</tr>\n",
       "<tr>\n",
       "  <th>Date:</th>             <td>Sun, 06 Jan 2019</td> <th>  Prob (F-statistic):</th>  <td>  0.00</td>  \n",
       "</tr>\n",
       "<tr>\n",
       "  <th>Time:</th>                 <td>22:16:35</td>     <th>  Log-Likelihood:    </th> <td> -8841.3</td> \n",
       "</tr>\n",
       "<tr>\n",
       "  <th>No. Observations:</th>      <td>  3141</td>      <th>  AIC:               </th> <td>1.770e+04</td>\n",
       "</tr>\n",
       "<tr>\n",
       "  <th>Df Residuals:</th>          <td>  3132</td>      <th>  BIC:               </th> <td>1.776e+04</td>\n",
       "</tr>\n",
       "<tr>\n",
       "  <th>Df Model:</th>              <td>     8</td>      <th>                     </th>     <td> </td>    \n",
       "</tr>\n",
       "<tr>\n",
       "  <th>Covariance Type:</th>      <td>nonrobust</td>    <th>                     </th>     <td> </td>    \n",
       "</tr>\n",
       "</table>\n",
       "<table class=\"simpletable\">\n",
       "<tr>\n",
       "            <td></td>               <th>coef</th>     <th>std err</th>      <th>t</th>      <th>P>|t|</th>  <th>[0.025</th>    <th>0.975]</th>  \n",
       "</tr>\n",
       "<tr>\n",
       "  <th>const</th>                 <td>   -1.4608</td> <td>    1.205</td> <td>   -1.213</td> <td> 0.225</td> <td>   -3.823</td> <td>    0.901</td>\n",
       "</tr>\n",
       "<tr>\n",
       "  <th>RUCC</th>                  <td>    0.3348</td> <td>    0.030</td> <td>   11.103</td> <td> 0.000</td> <td>    0.276</td> <td>    0.394</td>\n",
       "</tr>\n",
       "<tr>\n",
       "  <th>less_than_high_school</th> <td>    0.4442</td> <td>    0.019</td> <td>   22.832</td> <td> 0.000</td> <td>    0.406</td> <td>    0.482</td>\n",
       "</tr>\n",
       "<tr>\n",
       "  <th>high_school_diploma</th>   <td>    0.0556</td> <td>    0.020</td> <td>    2.801</td> <td> 0.005</td> <td>    0.017</td> <td>    0.095</td>\n",
       "</tr>\n",
       "<tr>\n",
       "  <th>bachelors/higher</th>      <td>    0.0433</td> <td>    0.019</td> <td>    2.296</td> <td> 0.022</td> <td>    0.006</td> <td>    0.080</td>\n",
       "</tr>\n",
       "<tr>\n",
       "  <th>unemployment</th>          <td>    1.1342</td> <td>    0.045</td> <td>   24.970</td> <td> 0.000</td> <td>    1.045</td> <td>    1.223</td>\n",
       "</tr>\n",
       "<tr>\n",
       "  <th>region_Northeast</th>      <td>   -0.7242</td> <td>    0.328</td> <td>   -2.206</td> <td> 0.027</td> <td>   -1.368</td> <td>   -0.080</td>\n",
       "</tr>\n",
       "<tr>\n",
       "  <th>region_South</th>          <td>    1.3980</td> <td>    0.202</td> <td>    6.907</td> <td> 0.000</td> <td>    1.001</td> <td>    1.795</td>\n",
       "</tr>\n",
       "<tr>\n",
       "  <th>region_West</th>           <td>    0.2609</td> <td>    0.249</td> <td>    1.047</td> <td> 0.295</td> <td>   -0.228</td> <td>    0.749</td>\n",
       "</tr>\n",
       "</table>\n",
       "<table class=\"simpletable\">\n",
       "<tr>\n",
       "  <th>Omnibus:</th>       <td>698.564</td> <th>  Durbin-Watson:     </th> <td>   1.701</td>\n",
       "</tr>\n",
       "<tr>\n",
       "  <th>Prob(Omnibus):</th> <td> 0.000</td>  <th>  Jarque-Bera (JB):  </th> <td>3909.878</td>\n",
       "</tr>\n",
       "<tr>\n",
       "  <th>Skew:</th>          <td> 0.939</td>  <th>  Prob(JB):          </th> <td>    0.00</td>\n",
       "</tr>\n",
       "<tr>\n",
       "  <th>Kurtosis:</th>      <td> 8.133</td>  <th>  Cond. No.          </th> <td>    730.</td>\n",
       "</tr>\n",
       "</table><br/><br/>Warnings:<br/>[1] Standard Errors assume that the covariance matrix of the errors is correctly specified."
      ],
      "text/plain": [
       "<class 'statsmodels.iolib.summary.Summary'>\n",
       "\"\"\"\n",
       "                            OLS Regression Results                            \n",
       "==============================================================================\n",
       "Dep. Variable:                poverty   R-squared:                       0.587\n",
       "Model:                            OLS   Adj. R-squared:                  0.586\n",
       "Method:                 Least Squares   F-statistic:                     556.3\n",
       "Date:                Sun, 06 Jan 2019   Prob (F-statistic):               0.00\n",
       "Time:                        22:16:35   Log-Likelihood:                -8841.3\n",
       "No. Observations:                3141   AIC:                         1.770e+04\n",
       "Df Residuals:                    3132   BIC:                         1.776e+04\n",
       "Df Model:                           8                                         \n",
       "Covariance Type:            nonrobust                                         \n",
       "=========================================================================================\n",
       "                            coef    std err          t      P>|t|      [0.025      0.975]\n",
       "-----------------------------------------------------------------------------------------\n",
       "const                    -1.4608      1.205     -1.213      0.225      -3.823       0.901\n",
       "RUCC                      0.3348      0.030     11.103      0.000       0.276       0.394\n",
       "less_than_high_school     0.4442      0.019     22.832      0.000       0.406       0.482\n",
       "high_school_diploma       0.0556      0.020      2.801      0.005       0.017       0.095\n",
       "bachelors/higher          0.0433      0.019      2.296      0.022       0.006       0.080\n",
       "unemployment              1.1342      0.045     24.970      0.000       1.045       1.223\n",
       "region_Northeast         -0.7242      0.328     -2.206      0.027      -1.368      -0.080\n",
       "region_South              1.3980      0.202      6.907      0.000       1.001       1.795\n",
       "region_West               0.2609      0.249      1.047      0.295      -0.228       0.749\n",
       "==============================================================================\n",
       "Omnibus:                      698.564   Durbin-Watson:                   1.701\n",
       "Prob(Omnibus):                  0.000   Jarque-Bera (JB):             3909.878\n",
       "Skew:                           0.939   Prob(JB):                         0.00\n",
       "Kurtosis:                       8.133   Cond. No.                         730.\n",
       "==============================================================================\n",
       "\n",
       "Warnings:\n",
       "[1] Standard Errors assume that the covariance matrix of the errors is correctly specified.\n",
       "\"\"\""
      ]
     },
     "execution_count": 71,
     "metadata": {},
     "output_type": "execute_result"
    }
   ],
   "source": [
    "# sm.OLS does not have constant by default\n",
    "X2 = sm.add_constant(X)\n",
    "model_linear = sm.OLS(y,X2).fit()\n",
    "\n",
    "# Print the summary of the model\n",
    "model_linear.summary()"
   ]
  },
  {
   "cell_type": "markdown",
   "metadata": {},
   "source": [
    "#### Constant and region_West have p-values higher than 0.05 and can be removed from the model"
   ]
  },
  {
   "cell_type": "code",
   "execution_count": 72,
   "metadata": {},
   "outputs": [
    {
     "data": {
      "text/html": [
       "<table class=\"simpletable\">\n",
       "<caption>OLS Regression Results</caption>\n",
       "<tr>\n",
       "  <th>Dep. Variable:</th>         <td>poverty</td>     <th>  R-squared:         </th> <td>   0.944</td> \n",
       "</tr>\n",
       "<tr>\n",
       "  <th>Model:</th>                   <td>OLS</td>       <th>  Adj. R-squared:    </th> <td>   0.944</td> \n",
       "</tr>\n",
       "<tr>\n",
       "  <th>Method:</th>             <td>Least Squares</td>  <th>  F-statistic:       </th> <td>   7596.</td> \n",
       "</tr>\n",
       "<tr>\n",
       "  <th>Date:</th>             <td>Sun, 06 Jan 2019</td> <th>  Prob (F-statistic):</th>  <td>  0.00</td>  \n",
       "</tr>\n",
       "<tr>\n",
       "  <th>Time:</th>                 <td>22:16:59</td>     <th>  Log-Likelihood:    </th> <td> -8842.4</td> \n",
       "</tr>\n",
       "<tr>\n",
       "  <th>No. Observations:</th>      <td>  3141</td>      <th>  AIC:               </th> <td>1.770e+04</td>\n",
       "</tr>\n",
       "<tr>\n",
       "  <th>Df Residuals:</th>          <td>  3134</td>      <th>  BIC:               </th> <td>1.774e+04</td>\n",
       "</tr>\n",
       "<tr>\n",
       "  <th>Df Model:</th>              <td>     7</td>      <th>                     </th>     <td> </td>    \n",
       "</tr>\n",
       "<tr>\n",
       "  <th>Covariance Type:</th>      <td>nonrobust</td>    <th>                     </th>     <td> </td>    \n",
       "</tr>\n",
       "</table>\n",
       "<table class=\"simpletable\">\n",
       "<tr>\n",
       "            <td></td>               <th>coef</th>     <th>std err</th>      <th>t</th>      <th>P>|t|</th>  <th>[0.025</th>    <th>0.975]</th>  \n",
       "</tr>\n",
       "<tr>\n",
       "  <th>RUCC</th>                  <td>    0.3324</td> <td>    0.030</td> <td>   11.174</td> <td> 0.000</td> <td>    0.274</td> <td>    0.391</td>\n",
       "</tr>\n",
       "<tr>\n",
       "  <th>less_than_high_school</th> <td>    0.4312</td> <td>    0.015</td> <td>   28.120</td> <td> 0.000</td> <td>    0.401</td> <td>    0.461</td>\n",
       "</tr>\n",
       "<tr>\n",
       "  <th>high_school_diploma</th>   <td>    0.0321</td> <td>    0.008</td> <td>    4.038</td> <td> 0.000</td> <td>    0.017</td> <td>    0.048</td>\n",
       "</tr>\n",
       "<tr>\n",
       "  <th>bachelors/higher</th>      <td>    0.0235</td> <td>    0.006</td> <td>    3.856</td> <td> 0.000</td> <td>    0.012</td> <td>    0.035</td>\n",
       "</tr>\n",
       "<tr>\n",
       "  <th>unemployment</th>          <td>    1.1373</td> <td>    0.044</td> <td>   26.092</td> <td> 0.000</td> <td>    1.052</td> <td>    1.223</td>\n",
       "</tr>\n",
       "<tr>\n",
       "  <th>region_Northeast</th>      <td>   -0.6812</td> <td>    0.307</td> <td>   -2.222</td> <td> 0.026</td> <td>   -1.282</td> <td>   -0.080</td>\n",
       "</tr>\n",
       "<tr>\n",
       "  <th>region_South</th>          <td>    1.3605</td> <td>    0.184</td> <td>    7.407</td> <td> 0.000</td> <td>    1.000</td> <td>    1.721</td>\n",
       "</tr>\n",
       "</table>\n",
       "<table class=\"simpletable\">\n",
       "<tr>\n",
       "  <th>Omnibus:</th>       <td>699.668</td> <th>  Durbin-Watson:     </th> <td>   1.699</td>\n",
       "</tr>\n",
       "<tr>\n",
       "  <th>Prob(Omnibus):</th> <td> 0.000</td>  <th>  Jarque-Bera (JB):  </th> <td>3899.038</td>\n",
       "</tr>\n",
       "<tr>\n",
       "  <th>Skew:</th>          <td> 0.942</td>  <th>  Prob(JB):          </th> <td>    0.00</td>\n",
       "</tr>\n",
       "<tr>\n",
       "  <th>Kurtosis:</th>      <td> 8.123</td>  <th>  Cond. No.          </th> <td>    188.</td>\n",
       "</tr>\n",
       "</table><br/><br/>Warnings:<br/>[1] Standard Errors assume that the covariance matrix of the errors is correctly specified."
      ],
      "text/plain": [
       "<class 'statsmodels.iolib.summary.Summary'>\n",
       "\"\"\"\n",
       "                            OLS Regression Results                            \n",
       "==============================================================================\n",
       "Dep. Variable:                poverty   R-squared:                       0.944\n",
       "Model:                            OLS   Adj. R-squared:                  0.944\n",
       "Method:                 Least Squares   F-statistic:                     7596.\n",
       "Date:                Sun, 06 Jan 2019   Prob (F-statistic):               0.00\n",
       "Time:                        22:16:59   Log-Likelihood:                -8842.4\n",
       "No. Observations:                3141   AIC:                         1.770e+04\n",
       "Df Residuals:                    3134   BIC:                         1.774e+04\n",
       "Df Model:                           7                                         \n",
       "Covariance Type:            nonrobust                                         \n",
       "=========================================================================================\n",
       "                            coef    std err          t      P>|t|      [0.025      0.975]\n",
       "-----------------------------------------------------------------------------------------\n",
       "RUCC                      0.3324      0.030     11.174      0.000       0.274       0.391\n",
       "less_than_high_school     0.4312      0.015     28.120      0.000       0.401       0.461\n",
       "high_school_diploma       0.0321      0.008      4.038      0.000       0.017       0.048\n",
       "bachelors/higher          0.0235      0.006      3.856      0.000       0.012       0.035\n",
       "unemployment              1.1373      0.044     26.092      0.000       1.052       1.223\n",
       "region_Northeast         -0.6812      0.307     -2.222      0.026      -1.282      -0.080\n",
       "region_South              1.3605      0.184      7.407      0.000       1.000       1.721\n",
       "==============================================================================\n",
       "Omnibus:                      699.668   Durbin-Watson:                   1.699\n",
       "Prob(Omnibus):                  0.000   Jarque-Bera (JB):             3899.038\n",
       "Skew:                           0.942   Prob(JB):                         0.00\n",
       "Kurtosis:                       8.123   Cond. No.                         188.\n",
       "==============================================================================\n",
       "\n",
       "Warnings:\n",
       "[1] Standard Errors assume that the covariance matrix of the errors is correctly specified.\n",
       "\"\"\""
      ]
     },
     "execution_count": 72,
     "metadata": {},
     "output_type": "execute_result"
    }
   ],
   "source": [
    "# drop constant and Region_West from X2\n",
    "X2.drop(['region_West','const'],axis=1,inplace=True)\n",
    "# Build the linear model with new X2 and print p-values\n",
    "model_linear = sm.OLS(y,X2).fit()\n",
    "model_linear.summary()"
   ]
  },
  {
   "cell_type": "markdown",
   "metadata": {},
   "source": [
    "#### P.S. sm.OLS is not showing the correct value for R-squared here because  it was 0.587 before removing constant and region_West but it is 0.944 after removing them. Such a huge jump in R-squared does not make sense. There should be some bug with the command (only regarding R-squared) when there is no constant. R-squared for the data set after removing region_West is calculated with LinearRegression here."
   ]
  },
  {
   "cell_type": "code",
   "execution_count": 75,
   "metadata": {},
   "outputs": [
    {
     "name": "stdout",
     "output_type": "stream",
     "text": [
      "The R-squared of the linear model fitted on the entire dataset after removing region_West from features is 0.587\n"
     ]
    }
   ],
   "source": [
    "# Build the linear model and fit it to the dataset with no region_West\n",
    "model_linear = LinearRegression()\n",
    "model_linear.fit(X2,y)\n",
    "\n",
    "# Calculate the r_squared and print it\n",
    "r_squared = model_linear.score(X2,y)\n",
    "print('The R-squared of the linear model fitted on the entire dataset after removing region_West from features is %.3f'%r_squared)"
   ]
  },
  {
   "cell_type": "markdown",
   "metadata": {},
   "source": [
    "#### 1.7) Examine if the assumptions associated with linear models, i.e. linearity, independent erros, and normal distribution of errors are valid. To do so, plot residual vs. fitted values and quantile-quantile plots"
   ]
  },
  {
   "cell_type": "code",
   "execution_count": 77,
   "metadata": {},
   "outputs": [
    {
     "data": {
      "image/png": "[encoded data removed]",
      "text/plain": [
       "<Figure size 720x432 with 1 Axes>"
      ]
     },
     "metadata": {},
     "output_type": "display_data"
    },
    {
     "data": {
      "image/png": "[encoded data removed]",
      "text/plain": [
       "<Figure size 720x432 with 1 Axes>"
      ]
     },
     "metadata": {},
     "output_type": "display_data"
    }
   ],
   "source": [
    "# Set style and context\n",
    "sns.set_style('whitegrid')\n",
    "sns.set_context('talk')\n",
    "\n",
    "#Build the linear model with sm.OLS\n",
    "model_linear = sm.OLS(y,X2).fit()\n",
    "\n",
    "# Plot residuals vs. fitted values\n",
    "figure,ax = plt.subplots(figsize=(10,6))\n",
    "ax.scatter(model_linear.fittedvalues,model_linear.resid)\n",
    "ax.set_xlabel('Fitted values')\n",
    "ax.set_ylabel('Residuals');\n",
    "ax.set_title('Residuals vs. fitted values',y=1.02)\n",
    "ax.axis([0,45,-35,35])\n",
    "\n",
    "# Plot quantile-quantile plot\n",
    "figure,ax = plt.subplots(figsize=(10,6))\n",
    "stats.probplot(model_linear.resid,plot=ax)\n",
    "ax.set_ylabel('Residual quantiles')\n",
    "ax.set_title('Quantile-Quantile plot',y=1.02)\n",
    "ax.axis([-4,4,-35,35])\n",
    "\n",
    "# Show plots\n",
    "plt.show()"
   ]
  },
  {
   "cell_type": "markdown",
   "metadata": {},
   "source": [
    "#### Observation\n",
    "\n",
    "#### 1) residual vs. fitted values plot\n",
    "#### 1.a) Linearity: The residuals bounce randomly around the 0 line. This suggests that the assumption of the linear relationship between features and target variable is reasonable.\n",
    "#### 1.b) Independent errors: The residuals roughly form a horizontal band around the 0 line. This suggests the variances of the error terms are quite equal and the assumption of independent errors is reasonable.\n",
    "\n",
    "#### 2) Quantile-Quantile plot\n",
    "#### Normal distribution of errors: The Quantile-Quantile plot shows the distribution of the residuals is close to the normal distribution except it is heavy tailed"
   ]
  },
  {
   "cell_type": "markdown",
   "metadata": {},
   "source": [
    "### Conclusion 1:\n",
    "\n",
    "### 1) The final linear model, which is fitted on the entire data set, has the following features and corresponding coefficients: RUCC (as a quantitative feature) with coefficent 0.3324, less_than_high_school with coefficient 0.4312, high_school_diploma with coefficient 0.0321, bachelors/higher with coefficient 0.0235, unemployment with coefficient 1.1373, region_Northeast with coefficient -0.6812 , and region_South with coefficient 1.3605. This model adheres to linearity, independent errors, and normal distribution of errors assumptions.\n",
    "\n",
    "### 2) The test score of the linear model is 0.565."
   ]
  },
  {
   "cell_type": "markdown",
   "metadata": {},
   "source": [
    "### The test score of the linear model is not high. A Random Forest model is developed in the next step."
   ]
  },
  {
   "cell_type": "markdown",
   "metadata": {
    "collapsed": true
   },
   "source": [
    "### Step 2: Develop a Random Forest model"
   ]
  },
  {
   "cell_type": "markdown",
   "metadata": {},
   "source": [
    "#### 2-1) Build a Random Forest without parameter tuning, run 5-fold cross-validation and average the scores."
   ]
  },
  {
   "cell_type": "code",
   "execution_count": 5,
   "metadata": {},
   "outputs": [
    {
     "name": "stdout",
     "output_type": "stream",
     "text": [
      "The average of 5-fold cross-validation scores for the Random Forest model with no parameter tuning is 0.501\n"
     ]
    }
   ],
   "source": [
    "# Build the model without parameter tuning. \n",
    "forest = RandomForestRegressor(random_state=21)\n",
    "\n",
    "# Run cross-validation, and average the scores\n",
    "scores = cross_val_score(forest,X,y,cv=5)\n",
    "print('The average of 5-fold cross-validation scores for the Random Forest model with no parameter tuning is %.3f'\n",
    "      %np.mean(scores))"
   ]
  },
  {
   "cell_type": "markdown",
   "metadata": {},
   "source": [
    "#### 2.2) Tune parameters of the Random Forest model. (min_samples_leaf lower than 5 could result in overfitting. Therefore, no value below 5 will be tested.)"
   ]
  },
  {
   "cell_type": "code",
   "execution_count": 6,
   "metadata": {},
   "outputs": [],
   "source": [
    "# Define a function which receives a random forest, parameters, X_train, and y_train as inputs, tune parameters \n",
    "# and prints the best score and best parameters\n",
    "\n",
    "def tuning(forest,parameters,X_train,y_train):\n",
    "    model = GridSearchCV(forest,param_grid=parameters,cv=5)    \n",
    "    model.fit(X_train,y_train)\n",
    "    print('The best score in parameter tuning is: %.3f'%model.best_score_)\n",
    "    print('The best parameters are: ',model.best_params_)    \n",
    "    return model"
   ]
  },
  {
   "cell_type": "code",
   "execution_count": 7,
   "metadata": {},
   "outputs": [
    {
     "name": "stdout",
     "output_type": "stream",
     "text": [
      "The best score in parameter tuning is: 0.631\n",
      "The best parameters are:  {'criterion': 'mse', 'max_features': 'log2', 'min_samples_leaf': 5, 'n_estimators': 80}\n"
     ]
    }
   ],
   "source": [
    "# Build the random forest\n",
    "forest = RandomForestRegressor(random_state=21)\n",
    "\n",
    "# Tune parameters\n",
    "parameters = {'n_estimators':[50,80,100],\n",
    "              'criterion': ['mse','mae'],\n",
    "             'min_samples_leaf':[5,7,10],\n",
    "             'max_features':['auto','sqrt','log2']}\n",
    "model = tuning(forest,parameters,X_train,y_train)"
   ]
  },
  {
   "cell_type": "markdown",
   "metadata": {},
   "source": [
    "#### The performance of the random forest in prediction has improved after tuning parameters because its best score (0.631) is higher than the average of 5-fold cross-validation scores for the random forest without parameter tuning (0.501)"
   ]
  },
  {
   "cell_type": "markdown",
   "metadata": {},
   "source": [
    "#### 2.3)  Consider RUCC as a categorical variable, create dummy variables and re-run parameter tuning"
   ]
  },
  {
   "cell_type": "code",
   "execution_count": 9,
   "metadata": {},
   "outputs": [
    {
     "name": "stdout",
     "output_type": "stream",
     "text": [
      "The best score in parameter tuning is: 0.616\n",
      "The best parameters are:  {'criterion': 'mse', 'max_features': 'sqrt', 'min_samples_leaf': 5, 'n_estimators': 100}\n"
     ]
    }
   ],
   "source": [
    "# Create a copy of X_train\n",
    "X1 = X_train.copy()\n",
    "# Transform RUCC column from integer to string, create dummy variables and remove one of them to avoid collinearity\n",
    "X1.RUCC = X1.RUCC.astype('str')\n",
    "X1 = pd.get_dummies(X1).drop(['RUCC_9'],axis=1)\n",
    "\n",
    "# Tune parameters\n",
    "model = tuning(forest,parameters,X1,y_train)"
   ]
  },
  {
   "cell_type": "markdown",
   "metadata": {},
   "source": [
    "#### Best 'n_estimators' is 100 which is the largest tested value. A couple of more values will be tested."
   ]
  },
  {
   "cell_type": "code",
   "execution_count": 10,
   "metadata": {},
   "outputs": [
    {
     "name": "stdout",
     "output_type": "stream",
     "text": [
      "The best score in parameter tuning is: 0.618\n",
      "The best parameters are:  {'n_estimators': 1000}\n"
     ]
    }
   ],
   "source": [
    "# Build the random forest with tuned parameters\n",
    "forest = RandomForestRegressor(criterion='mse', max_features='sqrt', min_samples_leaf=5,random_state=21)\n",
    "# Tune parameter\n",
    "parameter2 = {'n_estimators':[100,300,500,1000]}\n",
    "model = tuning(forest,parameter2,X1,y_train)"
   ]
  },
  {
   "cell_type": "markdown",
   "metadata": {},
   "source": [
    "#### The best score only improved by 0.002 when 'n_estimators' changed from 100 to 1000. Therefore, it is not necessary to test values beyond 1000. "
   ]
  },
  {
   "cell_type": "markdown",
   "metadata": {},
   "source": [
    "#### 2.4) Combine the dummy variables of RUCC into three levels; level 1 is RUCC 1 (metropolitan areas with more than one million population), level 2 is RUCC 2 or 3 (i.e. metropolitan areas with less than one million population), and level 3 is RUCC 4-9 (i.e. non-metropolitan areas). Then, run parameter tuning."
   ]
  },
  {
   "cell_type": "code",
   "execution_count": 12,
   "metadata": {},
   "outputs": [
    {
     "name": "stdout",
     "output_type": "stream",
     "text": [
      "The best score in parameter tuning is: 0.626\n",
      "The best parameters are:  {'criterion': 'mse', 'max_features': 'sqrt', 'min_samples_leaf': 5, 'n_estimators': 100}\n"
     ]
    }
   ],
   "source": [
    "# Define new column for X1.\n",
    "X1['RUCC_2_3'] = X1['RUCC_2'] + X1['RUCC_3']\n",
    "\n",
    "# Pick the required columns.\n",
    "X2 = X1.loc[:,['less_than_high_school','high_school_diploma','bachelors/higher','unemployment','region_Northeast',\n",
    "              'region_South','region_West','RUCC_1','RUCC_2_3']]\n",
    "\n",
    "# Build the random forest\n",
    "forest = RandomForestRegressor(random_state=21)\n",
    "\n",
    "# Tune parameter\n",
    "model = tuning(forest,parameters,X2,y_train)"
   ]
  },
  {
   "cell_type": "markdown",
   "metadata": {},
   "source": [
    "#### Observation: there is no improvement in the best score in steps 2.3 and 2.4 compared to step 2.2. Therefore, I will move forward with RUCC as a quantitative variable. In this way, the model will be simpler too."
   ]
  },
  {
   "cell_type": "markdown",
   "metadata": {},
   "source": [
    "#### 2.5) Add one more predictor to the predictors DataFrame and find out if it improves the model. In order to create this predictor, the dataset is clustered; the cluster is the new predictor. The number of clusters is a parameter which will be tuned along with the random forest parameters by grid search."
   ]
  },
  {
   "cell_type": "markdown",
   "metadata": {},
   "source": [
    "####   2.5.a) First, I define a function which generates clusters for a train set and predcits clusters for a test set."
   ]
  },
  {
   "cell_type": "code",
   "execution_count": 17,
   "metadata": {},
   "outputs": [],
   "source": [
    "#Define clustering function\n",
    "def clustering(X_train,X_test,n_cluster):\n",
    "    \n",
    "    # Build the KMeans cluster, fit it to the train set, create the new predictor for the train set, \n",
    "    # and cocatenate it to the predictors DataFrame \n",
    "    kmeans = KMeans(n_clusters=n_cluster,random_state=21)\n",
    "    kmeans.fit(X_train)\n",
    "    new_column_train = kmeans.predict(X_train) \n",
    "    new_df_train = pd.DataFrame(new_column_train,columns = ['cluster'], index = X_train.index)\n",
    "    X_train_extended = pd.concat([X_train,new_df_train],axis=1)\n",
    "    \n",
    "    # Build the new predictor for the test set and concatenate it to the predictors DataFrame of the test set\n",
    "    new_column_test = kmeans.predict(X_test) \n",
    "    new_df_test = pd.DataFrame(new_column_test,columns = ['cluster'], index = X_test.index)\n",
    "    X_test_extended = pd.concat([X_test,new_df_test],axis=1)\n",
    "    \n",
    "    # Return the new predictors DataFrame for both train and test sets\n",
    "    return X_train_extended,X_test_extended"
   ]
  },
  {
   "cell_type": "markdown",
   "metadata": {},
   "source": [
    "#### 2.5.b) Then I define a function which runs the grid search and finds the best values for number of clusters, n_estimators, min_samples_leaf, criterion, and max_features. Then, it will print the best score of parameter tuning and the best parameters. "
   ]
  },
  {
   "cell_type": "code",
   "execution_count": 21,
   "metadata": {},
   "outputs": [],
   "source": [
    "def cluster_forest_SearchCV(cluster_numbers,n_estimators,min_samples_leaf,criterion,max_features,X_train,y_train):\n",
    "    \n",
    "    # Create KFold with 5 as the number of splits.\n",
    "    kf = KFold(n_splits = 5)\n",
    "    # Create a zero array which will hold the score of each split run. Since the number of splits is 5, the first dimention is 5\n",
    "    a = np.zeros(shape = (5,len(cluster_numbers),len(n_estimators),len(min_samples_leaf),len(criterion),len(max_features)))\n",
    "    \n",
    "    t = 0\n",
    "    # Loop over the splits of the train set  \n",
    "    for train_index, test_index in kf.split(X_train):\n",
    "        X_train_kf = X_train.iloc[train_index]\n",
    "        X_test_kf = X_train.iloc[test_index]\n",
    "        y_train_kf = y_train.iloc[train_index]\n",
    "        y_test_kf = y_train.iloc[test_index]\n",
    "        \n",
    "        # Loop over number of clusters\n",
    "        for i,n_cluster in enumerate(cluster_numbers):\n",
    "            # Cluster each dataset in train set \n",
    "            X_train_kf_extended,X_test_kf_extended = clustering(X_train_kf,X_test_kf,n_cluster)\n",
    "            # Loop over n_estimators\n",
    "            for j,n_estimator in enumerate(n_estimators):\n",
    "                # Loop over min_samples_leaf\n",
    "                for k,min_sample_leaf in enumerate(min_samples_leaf):\n",
    "                    # Loop over criterion\n",
    "                    for l,criteria in enumerate(criterion):\n",
    "                        # Loop over max features\n",
    "                        for m,max_feature in enumerate (max_features):\n",
    "                            # Create the random forest and find the score\n",
    "                            model = RandomForestRegressor(n_estimators = n_estimator, min_samples_leaf = min_sample_leaf,\n",
    "                                                   criterion = criteria, max_features = max_feature, random_state=21)\n",
    "                            model.fit(X_train_kf_extended,y_train_kf)\n",
    "                            score = model.score(X_test_kf_extended,y_test_kf)\n",
    "                            # Save the score in the array\n",
    "                            a[t,i,j,k,l,m] = score\n",
    "        t += 1\n",
    "     \n",
    "    # Average the scores \n",
    "    average_score = np.mean(a,axis = 0)\n",
    "    \n",
    "    \n",
    "    #Find the highest average score\n",
    "    max_score = np.amax(average_score)\n",
    "    \n",
    "    # Find the cluster_number, n_estimator, and min_sample_leaf corresponding to the best score\n",
    "    max_score_index = np.unravel_index(average_score.argmax(), average_score.shape)\n",
    "    cluster_number = cluster_numbers[max_score_index[0]]\n",
    "    n_estimator = n_estimators[max_score_index[1]]\n",
    "    min_sample_leaf = min_samples_leaf[max_score_index[2]]\n",
    "    criteria = criterion[max_score_index[3]]\n",
    "    max_feature = max_features[max_score_index[4]]\n",
    "    \n",
    "    # Print the best score of parameter tuning and best parameters\n",
    "    print('The best score is %.3f'%max_score)\n",
    "    print('\\nThe best parameters are:')\n",
    "    print('Number of clusters: ',cluster_number)\n",
    "    print('n_estimators: ',n_estimator)\n",
    "    print('min_samples_leaf: ',min_sample_leaf)\n",
    "    print('criterion: ',criteria)\n",
    "    print('max_features: ',max_feature)"
   ]
  },
  {
   "cell_type": "markdown",
   "metadata": {},
   "source": [
    "#### Tune the parameters and find the test-set score"
   ]
  },
  {
   "cell_type": "code",
   "execution_count": 22,
   "metadata": {},
   "outputs": [
    {
     "name": "stdout",
     "output_type": "stream",
     "text": [
      "The best score is 0.634\n",
      "\n",
      "The best parameters are:\n",
      "Number of clusters:  2\n",
      "n_estimators:  100\n",
      "min_samples_leaf:  5\n",
      "criterion:  mse\n",
      "max_features:  sqrt\n"
     ]
    }
   ],
   "source": [
    "# Tune the parameters of the random forest fitted on the train set with cluster as the new predictor\n",
    "cluster_numbers = [1,2,5,10]\n",
    "n_estimators = [50,80,100]\n",
    "min_samples_leaf = [5,7,10]\n",
    "criterion = ['mse','mae']\n",
    "max_features = ['auto','sqrt','log2']\n",
    "cluster_forest_SearchCV(cluster_numbers,n_estimators,min_samples_leaf,criterion,max_features,X_train,y_train)"
   ]
  },
  {
   "cell_type": "markdown",
   "metadata": {},
   "source": [
    "#### Observation: The best score is 0.634 which is only 0.003 more than the best score of the random forest model with no cluster feature obtained in step 2.2. This improvement in the best score is artificial since the former model had one more feature than the latter one. Therefore, I will not add custer to the features."
   ]
  },
  {
   "cell_type": "markdown",
   "metadata": {},
   "source": [
    "#### 2.6) Fit the random forest model with tuned parameters in step 2.2 to the entire train set. Then calculate the test score."
   ]
  },
  {
   "cell_type": "code",
   "execution_count": 26,
   "metadata": {},
   "outputs": [
    {
     "name": "stdout",
     "output_type": "stream",
     "text": [
      "The test score for the random forest model is 0.646\n"
     ]
    }
   ],
   "source": [
    "# Build the random forest with tuned parameters\n",
    "forest = RandomForestRegressor(criterion='mse', max_features='log2', min_samples_leaf=5, n_estimators=80, random_state=21)\n",
    "# Fit the random forest to the train set\n",
    "forest.fit(X_train,y_train)\n",
    "\n",
    "# Find the test score and print it\n",
    "score = forest.score(X_test,y_test)\n",
    "print('The test score for the random forest model is %.3f'%score)"
   ]
  },
  {
   "cell_type": "markdown",
   "metadata": {},
   "source": [
    "#### 2.7) Build the final random forest by fitting the random forest to the entire data set. "
   ]
  },
  {
   "cell_type": "code",
   "execution_count": 29,
   "metadata": {},
   "outputs": [
    {
     "data": {
      "text/plain": [
       "RandomForestRegressor(bootstrap=True, criterion='mse', max_depth=None,\n",
       "           max_features='log2', max_leaf_nodes=None,\n",
       "           min_impurity_decrease=0.0, min_impurity_split=None,\n",
       "           min_samples_leaf=5, min_samples_split=2,\n",
       "           min_weight_fraction_leaf=0.0, n_estimators=80, n_jobs=1,\n",
       "           oob_score=False, random_state=21, verbose=0, warm_start=False)"
      ]
     },
     "execution_count": 29,
     "metadata": {},
     "output_type": "execute_result"
    }
   ],
   "source": [
    "# Build the random forest with tuned parameters\n",
    "model_forest = RandomForestRegressor(criterion='mse', max_features='log2', min_samples_leaf=5, n_estimators=80, random_state=21)\n",
    "# Fit the random forest to the entire set\n",
    "model_forest.fit(X,y)"
   ]
  },
  {
   "cell_type": "markdown",
   "metadata": {},
   "source": [
    "### Conclusion 2:\n",
    "### 1) The final random forest model, which is fitted on the entire data set (with no extra feature and RUCC as a quantitative variable), has the following parameters: criterion = mse, max_features = log2, min_samples_leaf = 5, and n_estimators = 80.\n",
    "### 2) The test score of the random forest model is 0.646."
   ]
  },
  {
   "cell_type": "markdown",
   "metadata": {},
   "source": [
    "### Final Conclusion:\n",
    "### The random forest model with tuned parameters is selected over the linear model because its test score is around 14 percent better (0.646 compared to 0.565)."
   ]
  },
  {
   "cell_type": "code",
   "execution_count": null,
   "metadata": {},
   "outputs": [],
   "source": []
  }
 ],
 "metadata": {
  "kernelspec": {
   "display_name": "Python 3",
   "language": "python",
   "name": "python3"
  },
  "language_info": {
   "codemirror_mode": {
    "name": "ipython",
    "version": 3
   },
   "file_extension": ".py",
   "mimetype": "text/x-python",
   "name": "python",
   "nbconvert_exporter": "python",
   "pygments_lexer": "ipython3",
   "version": "3.6.6"
  }
 },
 "nbformat": 4,
 "nbformat_minor": 1
}
