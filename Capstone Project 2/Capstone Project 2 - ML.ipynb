{
 "cells": [
  {
   "cell_type": "code",
   "execution_count": 1,
   "metadata": {},
   "outputs": [],
   "source": [
    "# Import necessary libraries\n",
    "import pandas as pd\n",
    "import seaborn as sns\n",
    "import numpy as np\n",
    "import matplotlib.pyplot as plt\n",
    "from sklearn.model_selection import train_test_split\n",
    "from sklearn.model_selection import StratifiedKFold\n",
    "from sklearn.impute import SimpleImputer\n",
    "from sklearn.preprocessing import StandardScaler\n",
    "from sklearn.linear_model import LogisticRegression\n",
    "from sklearn.model_selection import cross_val_score\n",
    "from sklearn.model_selection import cross_validate\n",
    "from sklearn.preprocessing import PolynomialFeatures\n",
    "from sklearn.metrics import roc_curve\n",
    "from sklearn.model_selection import GridSearchCV\n",
    "from sklearn.linear_model import LogisticRegressionCV\n",
    "from sklearn.feature_selection import SelectKBest,chi2\n",
    "from sklearn.pipeline import make_pipeline\n",
    "from xgboost import XGBClassifier\n",
    "from sklearn.metrics import recall_score, accuracy_score\n",
    "\n",
    "# Do not show warnings\n",
    "import warnings\n",
    "warnings.filterwarnings(\"ignore\")\n",
    "\n",
    "#Read the csv file\n",
    "df=pd.read_csv('df_wrangled_2.csv',low_memory=False)"
   ]
  },
  {
   "cell_type": "code",
   "execution_count": 4,
   "metadata": {},
   "outputs": [],
   "source": [
    "# Create feature dataframe and response variable series\n",
    "X = df.drop('loan_status',axis=1) # Feature dataframe\n",
    "y = df.loc[:,'loan_status'] #Response variable"
   ]
  },
  {
   "cell_type": "code",
   "execution_count": 5,
   "metadata": {},
   "outputs": [],
   "source": [
    "# Convert categorical features to dummy variables and drop one column of each feature\n",
    "X_dummy = pd.get_dummies(X,drop_first=True)\n",
    "\n",
    "# Convert response variable to dummy variables and keep only charged off column\n",
    "y_dummy = pd.get_dummies(y)\n",
    "y_dummy = y_dummy.loc[:,'Charged Off']"
   ]
  },
  {
   "cell_type": "code",
   "execution_count": 6,
   "metadata": {},
   "outputs": [],
   "source": [
    "# Split data into training and test sets\n",
    "X_train, X_test, y_train, y_test = train_test_split(X_dummy, y_dummy, test_size=0.25,random_state=21, stratify=y)"
   ]
  },
  {
   "cell_type": "code",
   "execution_count": 7,
   "metadata": {},
   "outputs": [
    {
     "data": {
      "text/plain": [
       "(949963, 136)"
      ]
     },
     "execution_count": 7,
     "metadata": {},
     "output_type": "execute_result"
    }
   ],
   "source": [
    "# Print shape of X_train\n",
    "X_train.shape"
   ]
  },
  {
   "cell_type": "code",
   "execution_count": 8,
   "metadata": {},
   "outputs": [],
   "source": [
    "# 3 stratified folds are defined to be used as cross-validation splitting strategy. Since the training set is quite large \n",
    "# 3-fold is used instead of typical 5-fold strategy to speed up the cross validation processes.\n",
    "kfolds = StratifiedKFold(n_splits=3,random_state=21) "
   ]
  },
  {
   "cell_type": "code",
   "execution_count": 9,
   "metadata": {},
   "outputs": [],
   "source": [
    "# Define imputer with median strategy and standard scaler\n",
    "imputer = SimpleImputer(strategy = 'median')\n",
    "scaler = StandardScaler()"
   ]
  },
  {
   "cell_type": "code",
   "execution_count": 10,
   "metadata": {},
   "outputs": [
    {
     "data": {
      "text/plain": [
       "0    0.798854\n",
       "1    0.201146\n",
       "Name: Charged Off, dtype: float64"
      ]
     },
     "execution_count": 10,
     "metadata": {},
     "output_type": "execute_result"
    }
   ],
   "source": [
    "# Show the ratio of paid-off (0) and charged-off (1) loans in the training set\n",
    "y_test.value_counts(normalize=True)"
   ]
  },
  {
   "cell_type": "markdown",
   "metadata": {},
   "source": [
    "#### The machine learning process starts with logistic regression because of its simplicity. Scikit learn recommends to use stochastic gradient descent (SGD) for large scale data. The downside of SGD is it requires tuning several parameters to provide good results. Therefore, it is decided to use logistic regression but with ‘sag’ solver which is stochastic average gradient descent. The data set must be scaled before using the ‘sag’ solver. The model is built by deploying a pipeline of imputer, scaler, and classifier. "
   ]
  },
  {
   "cell_type": "code",
   "execution_count": 10,
   "metadata": {},
   "outputs": [],
   "source": [
    "# Define logistic regression. Set random state to 21. Set solver to sag because the data set is quite large and sag is faster\n",
    "clf = LogisticRegression(solver='sag',random_state=21)\n",
    "\n",
    "# define the pipeline. \n",
    "pipeline = make_pipeline(imputer,scaler,clf)\n",
    "\n",
    "# Two metrics are used to evaluate performance of the model: accuracy and recall.\n",
    "scores = cross_validate(pipeline,X_train,y_train,cv=kfolds,scoring=['accuracy','recall'])"
   ]
  },
  {
   "cell_type": "code",
   "execution_count": 11,
   "metadata": {},
   "outputs": [
    {
     "name": "stdout",
     "output_type": "stream",
     "text": [
      "The average of 3-fold cross-validation accuracy scores for the logistic regression with no weighted sampling is 0.803\n",
      "The average of 3-fold cross-validation recall scores for the logistic regression with no weighted sample is 0.096\n"
     ]
    }
   ],
   "source": [
    "# Print the average of results\n",
    "print('The average of 3-fold cross-validation accuracy scores for the logistic regression with no weighted sampling \\\n",
    "is %.3f'%np.mean(scores['test_accuracy']))\n",
    "print('The average of 3-fold cross-validation recall scores for the logistic regression with no weighted sample \\\n",
    "is %.3f'%np.mean(scores['test_recall']))"
   ]
  },
  {
   "cell_type": "markdown",
   "metadata": {},
   "source": [
    "#### Due to imbalanced data which is 20% charged-off and 80% paid-off, the default classifier classifies majority of loan as paid off. Therefore, the accuracy is almost equal to the ratio of paid-off to all loans; this makes the recall score very poor."
   ]
  },
  {
   "cell_type": "code",
   "execution_count": 12,
   "metadata": {},
   "outputs": [],
   "source": [
    "# Classifier with weighted balance\n",
    "clf = LogisticRegression(class_weight='balanced',solver='sag',random_state=21)\n",
    "\n",
    "# define the pipeline\n",
    "pipeline = make_pipeline(imputer,scaler,clf)\n",
    "\n",
    "# Run cross-validation with accuracy and recall scroing\n",
    "scores = cross_validate(pipeline,X_train,y_train,cv=kfolds,scoring=['accuracy','recall'])"
   ]
  },
  {
   "cell_type": "code",
   "execution_count": 13,
   "metadata": {},
   "outputs": [
    {
     "name": "stdout",
     "output_type": "stream",
     "text": [
      "The average of 3-fold cross-validation accuracy scores for the logistic regression with balanced weight is 0.654 \n",
      "The average of 3-fold cross-validation recall scores for the logistic regression with balanced weight is 0.676 \n"
     ]
    }
   ],
   "source": [
    "# Print the average of results\n",
    "print('The average of 3-fold cross-validation accuracy scores for the logistic regression with balanced weight is %.3f '\n",
    "        %np.mean(scores['test_accuracy']))\n",
    "print('The average of 3-fold cross-validation recall scores for the logistic regression with balanced weight is %.3f '\n",
    "        %np.mean(scores['test_recall']))"
   ]
  },
  {
   "cell_type": "markdown",
   "metadata": {},
   "source": [
    "#### Due to adding balanced weight to samples, significant improvement on recall is achieved but accuracy dropped."
   ]
  },
  {
   "cell_type": "code",
   "execution_count": 14,
   "metadata": {},
   "outputs": [
    {
     "data": {
      "text/plain": [
       "Pipeline(memory=None,\n",
       "     steps=[('simpleimputer', SimpleImputer(copy=True, fill_value=None, missing_values=nan,\n",
       "       strategy='median', verbose=0)), ('standardscaler', StandardScaler(copy=True, with_mean=True, with_std=True)), ('logisticregressioncv', LogisticRegressionCV(Cs=array([1.e-02, 1.e-01, 1.e+00, 1.e+01, 1.e+02])...    random_state=21, refit=True, scoring='recall', solver='sag',\n",
       "           tol=0.0001, verbose=0))])"
      ]
     },
     "execution_count": 14,
     "metadata": {},
     "output_type": "execute_result"
    }
   ],
   "source": [
    "# Tune parameter C\n",
    "\n",
    "# Define LogisticRegressionCV with recall scoring. Recall is chosen because it is more important \n",
    "# to predict charged-off loans than the paid-off ones.\n",
    "clf=LogisticRegressionCV(Cs=np.logspace(-2,2,5),class_weight='balanced',solver='sag',cv=kfolds,scoring='recall',random_state=21)\n",
    "\n",
    "# define the pipeline\n",
    "pipeline = make_pipeline(imputer,scaler,clf)\n",
    "\n",
    "# Fit the pipeline to the training set\n",
    "pipeline.fit(X_train,y_train)"
   ]
  },
  {
   "cell_type": "code",
   "execution_count": 15,
   "metadata": {},
   "outputs": [
    {
     "name": "stdout",
     "output_type": "stream",
     "text": [
      "Best C is  [100.]\n",
      "The average of the three scores for each C value:\n",
      " [0.6761041  0.67616166 0.6761983  0.676214   0.6762454 ]\n"
     ]
    }
   ],
   "source": [
    "# Access to LogisticRegressionCV\n",
    "regcv = pipeline.steps[2][1]\n",
    "\n",
    "# Print the best C\n",
    "print('Best C is ',regcv.C_)\n",
    "\n",
    "# Print the average of score for each C value\n",
    "print('The average of the three scores for each C value:\\n',regcv.scores_[1].mean(axis=0))"
   ]
  },
  {
   "cell_type": "markdown",
   "metadata": {},
   "source": [
    "#### Although the best C value is 100, the average of three scores across the five C values are within less than 0.001 of each other. Therefore, the default value C=1 will be kept. "
   ]
  },
  {
   "cell_type": "code",
   "execution_count": 15,
   "metadata": {},
   "outputs": [
    {
     "name": "stdout",
     "output_type": "stream",
     "text": [
      "The average of 3-fold cross-validation recall scores for the logistic regression with interaction terms is 0.661 \n"
     ]
    }
   ],
   "source": [
    "# Add interaction features. There are 136 features after transforming categorical features. Interaction between all of them\n",
    "# make the model too complex. Therefore, a feature selection is added before interaction.\n",
    "\n",
    "# Define feature selector. Select 25 features with highest chi2 scores which is more than one-third of the number of features \n",
    "# before transforming categorical features\n",
    "\n",
    "feature_selector = SelectKBest(chi2, k=25)\n",
    "\n",
    "# Define interaction terms\n",
    "interaction = PolynomialFeatures(degree = 2,interaction_only=True)\n",
    "\n",
    "# Classifier with weighted balance\n",
    "clf = LogisticRegression(class_weight='balanced',solver='sag',random_state=21)\n",
    "\n",
    "# Define pipeline\n",
    "pipeline = make_pipeline(imputer,feature_selector,interaction,scaler,clf)\n",
    "\n",
    "# Run cross-validation \n",
    "scores = cross_val_score(pipeline,X_train,y_train,cv=kfolds,scoring='recall')\n",
    "\n",
    "#print results\n",
    "print('The average of 3-fold cross-validation recall scores for the logistic regression with interaction terms is %.3f '\n",
    "      %np.mean(scores))"
   ]
  },
  {
   "cell_type": "markdown",
   "metadata": {},
   "source": [
    "#### The average of cross validation score slightly dropped. Therefore, interaction term did not improve the model."
   ]
  },
  {
   "cell_type": "code",
   "execution_count": 16,
   "metadata": {},
   "outputs": [
    {
     "data": {
      "image/png": "[encoded data removed]",
      "text/plain": [
       "<Figure size 432x288 with 1 Axes>"
      ]
     },
     "metadata": {
      "needs_background": "light"
     },
     "output_type": "display_data"
    }
   ],
   "source": [
    "# Plot ROC curve for the training data set\n",
    "\n",
    "# Classifier\n",
    "clf = LogisticRegression(class_weight='balanced',solver='sag',random_state=21)\n",
    "\n",
    "# Pipeline\n",
    "pipeline = make_pipeline(imputer,scaler,clf)\n",
    "\n",
    "# Fit pipeline to training set\n",
    "pipeline.fit(X_train,y_train)\n",
    "\n",
    "# Compute probability estimates\n",
    "y_predict_proba = pipeline.predict_proba(X_train)\n",
    "\n",
    "# Compute true positive ratio (recall) and false positive ratio\n",
    "fpr, tpr, thresholds = roc_curve(y_train,y_predict_proba[:,1])\n",
    "\n",
    "# Find the false positive ratio corresponding to recall 0.676\n",
    "a = np.argwhere(np.round(tpr,3)==0.676)[0]\n",
    "b = np.float(fpr[a])\n",
    "\n",
    "# Plot ROC curve and the point corresponding to threshold  = 0.5\n",
    "plt.plot([0, 1], [0, 1], 'k--')\n",
    "plt.plot(fpr,tpr)\n",
    "plt.plot(b,0.676,marker='x',markersize=5,color='black')\n",
    "plt.annotate('Threshold=0.5 \\n(0.676,%.2f)'%b,(b,0.7),(0.05,0.9),arrowprops={'color':'red'})\n",
    "plt.xlabel('false positive ratio')\n",
    "plt.ylabel('recall (true positive ratio)')\n",
    "plt.title('ROC curve')\n",
    "plt.show()"
   ]
  },
  {
   "cell_type": "markdown",
   "metadata": {},
   "source": [
    "#### Raising the threshold to increase recall in the expense of increasing false positive ratio is a business decision, but in my opinion, false positive ratio of 0.35 is already too high because it means more than one-third of eligible applicants are labeled as charged-off. Therefore, the threshold will bnot be raised."
   ]
  },
  {
   "cell_type": "markdown",
   "metadata": {},
   "source": [
    "####  Other feature engineering could be also tested, but it is preferred to develop a XGBoost model instead because logistic regression has limited capacities compared to XGBoost and there is a good chance its performance will not improve."
   ]
  },
  {
   "cell_type": "markdown",
   "metadata": {},
   "source": [
    "#### Conclusion: The final logistic regression classifier has the following parameters: class_weight='balanced', solver='sag', and C=1. The average of 3-fold cross-validation accuracy and recall scores for this classifier are 0.654 and 0.676, respectively."
   ]
  },
  {
   "cell_type": "markdown",
   "metadata": {},
   "source": [
    "# XGBoost Classifier"
   ]
  },
  {
   "cell_type": "code",
   "execution_count": 17,
   "metadata": {},
   "outputs": [],
   "source": [
    "# Define classifier \n",
    "clf = XGBClassifier(scale_pos_weight=4,random_state=21)\n",
    "\n",
    "# Run cross validation\n",
    "scores = cross_validate(clf,X_train,y_train,cv=kfolds,scoring=['accuracy','recall'])"
   ]
  },
  {
   "cell_type": "code",
   "execution_count": 18,
   "metadata": {},
   "outputs": [
    {
     "name": "stdout",
     "output_type": "stream",
     "text": [
      "The average of 3-fold cross-validation accuracy scores for the XGBoost classifier is 0.666 \n",
      "The average of 3-fold cross-validation recall scores for the XGBoost classifier is 0.694 \n"
     ]
    }
   ],
   "source": [
    "# Print the average of results\n",
    "print('The average of 3-fold cross-validation accuracy scores for the XGBoost classifier is %.3f '\n",
    "      %np.mean(scores['test_accuracy']))\n",
    "print('The average of 3-fold cross-validation recall scores for the XGBoost classifier is %.3f '\n",
    "        %np.mean(scores['test_recall']))"
   ]
  },
  {
   "cell_type": "markdown",
   "metadata": {},
   "source": [
    "#### Both accuracy and recall scores improved compared to the logistic regression classifier."
   ]
  },
  {
   "cell_type": "markdown",
   "metadata": {},
   "source": [
    "#### In order to improve the recall score, five parameters are tuned based on the mentioned values: n_estimators: {20,50,100}, learning_rate: {0.05,0.1,0.2}, max_depth: {3,4,5}, subsample:{0.6,0.8,1}, and colsample_bytree:{0.4,0.7,1}. Since the dataset is quite large, the parameters are tuned one by one. The process starts with number of estimators and assign the rest of parameters to the middle value of their corresponding set."
   ]
  },
  {
   "cell_type": "code",
   "execution_count": 11,
   "metadata": {},
   "outputs": [],
   "source": [
    "# Define a function which receives classifier, parameter values, cross-validation folds, and features and response \n",
    "# variable of training set as inputs, tune hyper parameters and prints the best score and best parameter value\n",
    "\n",
    "def tuning(classifier,param_set,cv_folds=kfolds,train_feature=X_train,train_response=y_train):\n",
    "    model = GridSearchCV(classifier,param_grid=param_set,cv=cv_folds,scoring='recall') \n",
    "    model.fit(train_feature,train_response)\n",
    "    print('The best score in parameter tuning is: %.3f'%model.best_score_)\n",
    "    print('The best parameter value is: ',model.best_params_)    \n",
    "    return model"
   ]
  },
  {
   "cell_type": "code",
   "execution_count": 22,
   "metadata": {},
   "outputs": [
    {
     "name": "stdout",
     "output_type": "stream",
     "text": [
      "The best score in parameter tuning is: 0.698\n",
      "The best parameter value is:  {'n_estimators': 100}\n"
     ]
    }
   ],
   "source": [
    "# Define classifier\n",
    "clf = XGBClassifier(scale_pos_weight=4,random_state=21,learning_rate=0.1,max_depth=4,subsample=0.8,colsample_bytree=0.7)\n",
    "\n",
    "# Define parameter\n",
    "parameter = {'n_estimators':[20,50,100]}\n",
    "\n",
    "# Run tuning on the classifier\n",
    "cv = tuning(clf,parameter)"
   ]
  },
  {
   "cell_type": "code",
   "execution_count": 23,
   "metadata": {},
   "outputs": [
    {
     "data": {
      "text/plain": [
       "array([0.69403871, 0.69567151, 0.69805791])"
      ]
     },
     "execution_count": 23,
     "metadata": {},
     "output_type": "execute_result"
    }
   ],
   "source": [
    "# Print the mean of test scores for each value of n_estimators \n",
    "cv.cv_results_['mean_test_score']"
   ]
  },
  {
   "cell_type": "code",
   "execution_count": 24,
   "metadata": {},
   "outputs": [
    {
     "name": "stdout",
     "output_type": "stream",
     "text": [
      "The best score in parameter tuning is: 0.699\n",
      "The best parameter value is:  {'learning_rate': 0.2}\n"
     ]
    }
   ],
   "source": [
    "# Score goes up very slowly.Therefore, n_estimators beyond 100 will not be tested. \n",
    "# Tune learning_rate\n",
    "\n",
    "# Define classifier\n",
    "clf = XGBClassifier(scale_pos_weight=4,random_state=21,n_estimators=100,max_depth=4,subsample=0.8,colsample_bytree=0.7)\n",
    "\n",
    "# Define parameter\n",
    "parameter = {'learning_rate':[0.05,0.1,0.2]}\n",
    "\n",
    "# Run tuning on the classifier\n",
    "cv = tuning(clf,parameter)"
   ]
  },
  {
   "cell_type": "code",
   "execution_count": 25,
   "metadata": {},
   "outputs": [
    {
     "data": {
      "text/plain": [
       "array([0.69533658, 0.69805791, 0.69913598])"
      ]
     },
     "execution_count": 25,
     "metadata": {},
     "output_type": "execute_result"
    }
   ],
   "source": [
    "# Print the mean of test scores for each value of learning_rate \n",
    "cv.cv_results_['mean_test_score']"
   ]
  },
  {
   "cell_type": "code",
   "execution_count": 26,
   "metadata": {},
   "outputs": [
    {
     "name": "stdout",
     "output_type": "stream",
     "text": [
      "The best score in parameter tuning is: 0.699\n",
      "The best parameter value is:  {'max_depth': 4}\n"
     ]
    }
   ],
   "source": [
    "# Score goes up very slowly. Therefore, learning_rate beyond 0.2 will not be tested. \n",
    "# Tune max_depth.\n",
    "\n",
    "# Define classifier\n",
    "clf = XGBClassifier(scale_pos_weight=4,random_state=21,n_estimators=100,learning_rate=0.2,subsample=0.8,colsample_bytree=0.7)\n",
    "\n",
    "# Define parameter\n",
    "parameter = {'max_depth':[3,4,5]}\n",
    "\n",
    "# Run tuning on the classifier\n",
    "cv = tuning(clf,parameter)"
   ]
  },
  {
   "cell_type": "code",
   "execution_count": 27,
   "metadata": {},
   "outputs": [
    {
     "data": {
      "text/plain": [
       "array([0.69815211, 0.69913598, 0.69849752])"
      ]
     },
     "execution_count": 27,
     "metadata": {},
     "output_type": "execute_result"
    }
   ],
   "source": [
    "# Print the mean of test scores for each value of max_depth\n",
    "cv.cv_results_['mean_test_score']"
   ]
  },
  {
   "cell_type": "code",
   "execution_count": 28,
   "metadata": {},
   "outputs": [
    {
     "name": "stdout",
     "output_type": "stream",
     "text": [
      "The best score in parameter tuning is: 0.699\n",
      "The best parameter value is:  {'subsample': 0.8}\n"
     ]
    }
   ],
   "source": [
    "# max_depth = 4\n",
    "#Tune subsample\n",
    "\n",
    "# Define classifier\n",
    "clf = XGBClassifier(scale_pos_weight=4,random_state=21,n_estimators=100,learning_rate=0.2,max_depth=4,colsample_bytree=0.7)\n",
    "\n",
    "# Define parameter\n",
    "parameter = {'subsample':[0.6,0.8,1]}\n",
    "\n",
    "# Run tuning on the classifier\n",
    "cv = tuning(clf,parameter)"
   ]
  },
  {
   "cell_type": "code",
   "execution_count": 29,
   "metadata": {},
   "outputs": [
    {
     "data": {
      "text/plain": [
       "array([0.69870161, 0.69913598, 0.69907318])"
      ]
     },
     "execution_count": 29,
     "metadata": {},
     "output_type": "execute_result"
    }
   ],
   "source": [
    "# Print the mean of test scores for each value of subsample \n",
    "cv.cv_results_['mean_test_score']"
   ]
  },
  {
   "cell_type": "code",
   "execution_count": 30,
   "metadata": {},
   "outputs": [
    {
     "name": "stdout",
     "output_type": "stream",
     "text": [
      "The best score in parameter tuning is: 0.700\n",
      "The best parameter value is:  {'colsample_bytree': 0.4}\n"
     ]
    }
   ],
   "source": [
    "# subsample = 0.8\n",
    "# Tune colsample_bytree\n",
    "\n",
    "# Define classifier\n",
    "clf = XGBClassifier(scale_pos_weight=4,random_state=21,n_estimators=100,learning_rate=0.2,max_depth=4,subsample=0.8)\n",
    "\n",
    "# Define parameter\n",
    "parameter = {'colsample_bytree':[0.4,0.7,1]}\n",
    "\n",
    "# Run tuning on the classifier\n",
    "cv = tuning(clf,parameter)"
   ]
  },
  {
   "cell_type": "code",
   "execution_count": 31,
   "metadata": {},
   "outputs": [
    {
     "data": {
      "text/plain": [
       "array([0.69961744, 0.69913598, 0.69878533])"
      ]
     },
     "execution_count": 31,
     "metadata": {},
     "output_type": "execute_result"
    }
   ],
   "source": [
    "# Print the mean of test scores for each value of colsample_bytree\n",
    "cv.cv_results_['mean_test_score']"
   ]
  },
  {
   "cell_type": "code",
   "execution_count": 12,
   "metadata": {},
   "outputs": [
    {
     "name": "stdout",
     "output_type": "stream",
     "text": [
      "The best score in parameter tuning is: 0.699\n",
      "The best parameter value is:  {'colsample_bytree': 0.3}\n"
     ]
    }
   ],
   "source": [
    "# The best score belongs to 0.4. colsample_bytree is Subsample ratio of columns when constructing each tree. \n",
    "# Therefore, lower value of the parameter make the process of model building faster and it is worth checking the 3-fold \n",
    "# cross-validation recall score of values lower than 0.4.\n",
    "\n",
    "# Define parameter\n",
    "parameter = {'colsample_bytree':[0.1,0.2,0.3]}\n",
    "\n",
    "# Run tuning on the classifier\n",
    "cv = tuning(clf,parameter)"
   ]
  },
  {
   "cell_type": "code",
   "execution_count": 13,
   "metadata": {},
   "outputs": [
    {
     "data": {
      "text/plain": [
       "array([0.69491792, 0.69636755, 0.69893188])"
      ]
     },
     "execution_count": 13,
     "metadata": {},
     "output_type": "execute_result"
    }
   ],
   "source": [
    "# Print the mean of test scores for each value of colsample_bytree\n",
    "cv.cv_results_['mean_test_score']"
   ]
  },
  {
   "cell_type": "code",
   "execution_count": 17,
   "metadata": {
    "scrolled": true
   },
   "outputs": [
    {
     "data": {
      "text/plain": [
       "Pipeline(memory=None,\n",
       "     steps=[('simpleimputer', SimpleImputer(copy=True, fill_value=None, missing_values=nan,\n",
       "       strategy='median', verbose=0)), ('xgbclassifier', XGBClassifier(base_score=0.5, booster='gbtree', colsample_bylevel=1,\n",
       "       colsample_bytree=0.4, gamma=0, learning_rate=0.2, max_delta_step=0,\n",
       "       max_d...e=21, reg_alpha=0, reg_lambda=1, scale_pos_weight=4,\n",
       "       seed=None, silent=True, subsample=0.8))])"
      ]
     },
     "execution_count": 17,
     "metadata": {},
     "output_type": "execute_result"
    }
   ],
   "source": [
    "# Scores go up very slowly as the parameter value goes down. Therefore,colsample_bytree below 0.4 will not be tested. \n",
    "\n",
    "# The classifier with tuned parameters is below.\n",
    "clf = XGBClassifier(scale_pos_weight=4,random_state=21,n_estimators=100,learning_rate=0.2,max_depth=4,subsample=0.8\n",
    "                    ,colsample_bytree=0.4)\n",
    "\n",
    "# Build the model by pipelining imputer and classifier\n",
    "pipeline = make_pipeline(imputer,clf)\n",
    "\n",
    "# Fit the pipeline to the training set\n",
    "pipeline.fit(X_train,y_train)"
   ]
  },
  {
   "cell_type": "code",
   "execution_count": 18,
   "metadata": {},
   "outputs": [
    {
     "data": {
      "image/png": "[encoded data removed]",
      "text/plain": [
       "<Figure size 1440x576 with 1 Axes>"
      ]
     },
     "metadata": {
      "needs_background": "light"
     },
     "output_type": "display_data"
    }
   ],
   "source": [
    "# Plot the feature importance diagram of top 20 most important features.\n",
    "features = pd.DataFrame(pipeline.steps[1][1].feature_importances_, index = X_train.columns,\n",
    "                            columns=['importance']).sort_values('importance',ascending=False)\n",
    "features.iloc[:20].plot.bar(figsize=(20,8))\n",
    "plt.title ('Feature importance diagram of XGBoost classifier - top 20 most important features')\n",
    "plt.show()"
   ]
  },
  {
   "cell_type": "code",
   "execution_count": 35,
   "metadata": {},
   "outputs": [
    {
     "name": "stdout",
     "output_type": "stream",
     "text": [
      "The average of 3-fold cross-validation recall scores for the XGBoost classifier after removing employment title and zip code \n",
      "is 0.681\n"
     ]
    }
   ],
   "source": [
    "# As the diagram above is showing, emp_title and zip_code are first and sixth most important features.\n",
    "# Since the two features were originally categorical variables and were transformed to numerical ones, it is worth \n",
    "# checking if removing them improves the performance of the model\n",
    "\n",
    "X_train_new = X_train.drop(['emp_title','zip_code'],axis=1)\n",
    "\n",
    "# Run cross-validation score\n",
    "scores = cross_val_score(pipeline,X_train_new,y_train,cv=kfolds,scoring='recall')\n",
    "\n",
    "# Print the average of results\n",
    "print('The average of 3-fold cross-validation recall scores for the XGBoost classifier after removing employment title \\\n",
    "and zip code \\nis %.3f'%np.mean(scores))"
   ]
  },
  {
   "cell_type": "code",
   "execution_count": 19,
   "metadata": {},
   "outputs": [
    {
     "data": {
      "image/png": "[encoded data removed]",
      "text/plain": [
       "<Figure size 1440x576 with 1 Axes>"
      ]
     },
     "metadata": {
      "needs_background": "light"
     },
     "output_type": "display_data"
    }
   ],
   "source": [
    "# The average recall score dropped. Therefore, the two features will be kept in the final model.\n",
    "\n",
    "# It was shown in EDA2 that some numerical features have quite large number of zeros. It is worth investigating\n",
    "# if these features have negatively impacted performance of the XGBoost.\n",
    "\n",
    "# First, the feature importance diagram of these features is plotted\n",
    "\n",
    "# Create list of median values of numerical features\n",
    "a = X.loc[:,X.dtypes[X.dtypes=='float64'].index].median()\n",
    "\n",
    "# Create list of numerical features with median less than 1\n",
    "feature_list = np.array(a[a<=1].index).tolist()\n",
    "\n",
    "# Plot the feature importance diagram\n",
    "features.loc[feature_list].plot.bar(figsize=(20,8))\n",
    "plt.title ('Feature importance diagram of XGBoost classifier - features with large number of zero values')\n",
    "plt.show()"
   ]
  },
  {
   "cell_type": "code",
   "execution_count": 37,
   "metadata": {},
   "outputs": [
    {
     "name": "stdout",
     "output_type": "stream",
     "text": [
      "The average of 3-fold cross-validation recall scores for the XGBoost classifier after removing features with many zero values is 0.699\n"
     ]
    }
   ],
   "source": [
    "# The importance of some features is high to some extent.\n",
    "\n",
    "# Drop features in feature_list from training set\n",
    "X_train_new = X_train.drop(feature_list,axis=1)\n",
    "\n",
    "# Run cross-validation score\n",
    "scores = cross_val_score(pipeline,X_train_new,y_train,cv=kfolds,scoring='recall')\n",
    "\n",
    "# Print the average of results\n",
    "print('The average of 3-fold cross-validation recall scores for the XGBoost classifier after removing features with \\\n",
    "many zero values is %.3f'%np.mean(scores))"
   ]
  },
  {
   "cell_type": "code",
   "execution_count": 24,
   "metadata": {
    "scrolled": false
   },
   "outputs": [
    {
     "name": "stdout",
     "output_type": "stream",
     "text": [
      "The number of features with importance more than 0 is  95\n"
     ]
    }
   ],
   "source": [
    "# Removing the features with many zero values did not improve the recall score. Therefore, they will be kept for now.\n",
    "\n",
    "# Improving the recall score of the classifier stops here. \n",
    "# Now the model is simplified by keeping the important features and removing the rest\n",
    "\n",
    "# Create a list of features with importance higher than 0\n",
    "feature_keep = features.loc[features.importance>0].index\n",
    "\n",
    "# Print the number of important features\n",
    "print('The number of features with importance more than 0 is ',len(feature_keep))"
   ]
  },
  {
   "cell_type": "code",
   "execution_count": 25,
   "metadata": {},
   "outputs": [
    {
     "name": "stdout",
     "output_type": "stream",
     "text": [
      "The average of 3-fold cross-validation accuracy scores for the XGBoost classifier after removing unimportant features is 0.675 \n",
      "The average of 3-fold cross-validation recall scores for the XGBoost classifier after removing unimportant features is 0.699 \n"
     ]
    }
   ],
   "source": [
    "# Remove unimportant features\n",
    "X_train_new = X_train.loc[:,feature_keep]\n",
    "\n",
    "# Run cross-validate score to make sure performance of the model did not decrease\n",
    "scores = cross_validate(pipeline,X_train_new,y_train,cv=kfolds,scoring=['recall','accuracy'])\n",
    "\n",
    "# Print the results\n",
    "print('The average of 3-fold cross-validation accuracy scores for the XGBoost classifier after removing unimportant features is %.3f '\n",
    "        %np.mean(scores['test_accuracy']))\n",
    "print('The average of 3-fold cross-validation recall scores for the XGBoost classifier after removing unimportant features is %.3f '\n",
    "        %np.mean(scores['test_recall']))"
   ]
  },
  {
   "cell_type": "markdown",
   "metadata": {},
   "source": [
    "### Find the accuracy and recall scores of the test set."
   ]
  },
  {
   "cell_type": "code",
   "execution_count": 26,
   "metadata": {},
   "outputs": [
    {
     "name": "stdout",
     "output_type": "stream",
     "text": [
      "The accuracy score of the test set is 0.673\n",
      "The recall score of the test set is 0.704\n"
     ]
    }
   ],
   "source": [
    "# Fit the pipeline on the new training set\n",
    "pipeline.fit(X_train_new,y_train)\n",
    "\n",
    "# Remove the unimportant features from the feature dataframe of the test set \n",
    "X_test_new = X_test.loc[:,feature_keep]\n",
    "\n",
    "# Predict the response variable of the test set\n",
    "y_predict = pipeline.predict(X_test_new)\n",
    "\n",
    "# Print recall and accuracy scores of the test set\n",
    "print('The accuracy score of the test set is %.3f'%accuracy_score(y_test,y_predict))\n",
    "print('The recall score of the test set is %.3f'%recall_score(y_test,y_predict))"
   ]
  },
  {
   "cell_type": "markdown",
   "metadata": {},
   "source": [
    "### Accuracy score of the test set is 0.002 lower than the average of 3-fold cross-validation  scores of the training set, but the recall score is 0.005 higher than the corresponding score of the training set."
   ]
  },
  {
   "cell_type": "code",
   "execution_count": null,
   "metadata": {},
   "outputs": [],
   "source": []
  }
 ],
 "metadata": {
  "kernelspec": {
   "display_name": "Python 3",
   "language": "python",
   "name": "python3"
  },
  "language_info": {
   "codemirror_mode": {
    "name": "ipython",
    "version": 3
   },
   "file_extension": ".py",
   "mimetype": "text/x-python",
   "name": "python",
   "nbconvert_exporter": "python",
   "pygments_lexer": "ipython3",
   "version": "3.6.6"
  }
 },
 "nbformat": 4,
 "nbformat_minor": 2
}
