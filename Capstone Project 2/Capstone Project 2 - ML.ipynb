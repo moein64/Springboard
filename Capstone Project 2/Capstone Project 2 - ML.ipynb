{
 "cells": [
  {
   "cell_type": "code",
   "execution_count": 1,
   "metadata": {},
   "outputs": [],
   "source": [
    "# Import necessary libraries\n",
    "import pandas as pd\n",
    "import seaborn as sns\n",
    "import numpy as np\n",
    "import matplotlib.pyplot as plt\n",
    "from sklearn.model_selection import train_test_split\n",
    "from sklearn.model_selection import StratifiedKFold\n",
    "from sklearn.preprocessing import StandardScaler\n",
    "from sklearn.linear_model import LogisticRegression\n",
    "from sklearn.model_selection import cross_val_score\n",
    "from sklearn.model_selection import cross_validate\n",
    "from sklearn.preprocessing import PolynomialFeatures\n",
    "from sklearn.metrics import roc_curve\n",
    "from sklearn.model_selection import GridSearchCV\n",
    "from sklearn.linear_model import LogisticRegressionCV\n",
    "from sklearn.feature_selection import SelectFromModel\n",
    "from sklearn.pipeline import make_pipeline\n",
    "from xgboost import XGBClassifier\n",
    "from sklearn.metrics import recall_score, accuracy_score\n",
    "\n",
    "# Do not show warnings\n",
    "import warnings\n",
    "warnings.filterwarnings(\"ignore\")\n",
    "\n",
    "#Read the csv files and save them in dataframes\n",
    "df_original=pd.read_csv('df_original.csv',low_memory=False)\n",
    "df_new=pd.read_csv('df_new.csv',low_memory=False)"
   ]
  },
  {
   "cell_type": "code",
   "execution_count": 2,
   "metadata": {},
   "outputs": [],
   "source": [
    "# Create feature dataframe and response variable series for both dataframes\n",
    "X1 = df_original.drop('charged_off',axis=1) # Feature dataframe\n",
    "X2 = df_new.drop('charged_off',axis=1) # Feature dataframe\n",
    "y = df_new.loc[:,'charged_off'] #Response variable is the same in both dataframes"
   ]
  },
  {
   "cell_type": "code",
   "execution_count": 3,
   "metadata": {},
   "outputs": [],
   "source": [
    "# Convert categorical features to dummy variables and drop one column of each feature\n",
    "X1_dummy = pd.get_dummies(X1,drop_first=True)\n",
    "X2_dummy = pd.get_dummies(X2,drop_first=True)"
   ]
  },
  {
   "cell_type": "code",
   "execution_count": 4,
   "metadata": {},
   "outputs": [],
   "source": [
    "# Split data into training and test sets\n",
    "X1_train, X1_test, y1_train, y1_test = train_test_split(X1_dummy, y, test_size=0.25,random_state=21, stratify=y)\n",
    "X2_train, X2_test, y2_train, y2_test = train_test_split(X2_dummy, y, test_size=0.25,random_state=21, stratify=y)"
   ]
  },
  {
   "cell_type": "code",
   "execution_count": 5,
   "metadata": {},
   "outputs": [],
   "source": [
    "# 3 stratified folds are defined to be used as cross-validation splitting strategy. Since the training set is quite large \n",
    "# 3-fold is used instead of typical 5-fold strategy to speed up the cross validation processes.\n",
    "kfolds = StratifiedKFold(n_splits=3,random_state=21) \n",
    "\n",
    "# Define standard scaler\n",
    "scaler = StandardScaler()"
   ]
  },
  {
   "cell_type": "code",
   "execution_count": 6,
   "metadata": {},
   "outputs": [
    {
     "data": {
      "text/plain": [
       "0    0.798853\n",
       "1    0.201147\n",
       "Name: charged_off, dtype: float64"
      ]
     },
     "execution_count": 6,
     "metadata": {},
     "output_type": "execute_result"
    }
   ],
   "source": [
    "# Show the ratio of paid-off (0) and charged-off (1) loans in the response variable\n",
    "y.value_counts(normalize=True)"
   ]
  },
  {
   "cell_type": "markdown",
   "metadata": {},
   "source": [
    "#### The machine learning process starts with logistic regression because of its simplicity. Scikit learn recommends to use stochastic gradient descent (SGD) for large scale data. The downside of SGD is it requires tuning several parameters to provide good results. Therefore, it is decided to use logistic regression but with ‘sag’ solver which is stochastic average gradient descent. The data set must be scaled before using the ‘sag’ solver. Also, class_weight parameter of the classifier is set to 'balanced' to address imbalance dataset. The model is built by deploying a pipeline of scaler and classifier. The model showed slightly better results on both accuracy and recall scores with X2_train set than X1_train."
   ]
  },
  {
   "cell_type": "code",
   "execution_count": 19,
   "metadata": {},
   "outputs": [],
   "source": [
    "# Classifier with weighted balance\n",
    "clf = LogisticRegression(class_weight='balanced',solver='sag',random_state=21)\n",
    "\n",
    "# define the pipeline\n",
    "pipeline = make_pipeline(scaler,clf)\n",
    "\n",
    "# Run cross-validation with accuracy and recall scroing\n",
    "scores = cross_validate(pipeline,X2_train,y2_train,cv=kfolds,scoring=['accuracy','recall'])"
   ]
  },
  {
   "cell_type": "code",
   "execution_count": 20,
   "metadata": {},
   "outputs": [
    {
     "name": "stdout",
     "output_type": "stream",
     "text": [
      "The average of 3-fold cross-validation accuracy scores for the logistic regression is 0.657 \n",
      "The average of 3-fold cross-validation recall scores for the logistic regression is 0.679 \n"
     ]
    }
   ],
   "source": [
    "# Print the average of results\n",
    "print('The average of 3-fold cross-validation accuracy scores for the logistic regression is %.3f '\n",
    "        %np.mean(scores['test_accuracy']))\n",
    "print('The average of 3-fold cross-validation recall scores for the logistic regression is %.3f '\n",
    "        %np.mean(scores['test_recall']))"
   ]
  },
  {
   "cell_type": "code",
   "execution_count": 21,
   "metadata": {},
   "outputs": [
    {
     "data": {
      "text/plain": [
       "Pipeline(memory=None,\n",
       "     steps=[('standardscaler', StandardScaler(copy=True, with_mean=True, with_std=True)), ('logisticregressioncv', LogisticRegressionCV(Cs=array([1.e-02, 1.e-01, 1.e+00, 1.e+01, 1.e+02]),\n",
       "           class_weight='balanced',\n",
       "           cv=StratifiedKFold(n_splits=3, random_state=21, shuffle=False),\n",
       "      ...    random_state=21, refit=True, scoring='recall', solver='sag',\n",
       "           tol=0.0001, verbose=0))])"
      ]
     },
     "execution_count": 21,
     "metadata": {},
     "output_type": "execute_result"
    }
   ],
   "source": [
    "# Tune parameter C\n",
    "\n",
    "# Define LogisticRegressionCV with recall scoring. Recall is chosen because it is more important \n",
    "# to predict charged-off loans than the paid-off ones.\n",
    "clf=LogisticRegressionCV(Cs=np.logspace(-2,2,5),class_weight='balanced',solver='sag',cv=kfolds,scoring='recall',random_state=21)\n",
    "\n",
    "# define the pipeline\n",
    "pipeline = make_pipeline(scaler,clf)\n",
    "\n",
    "# Fit the pipeline to the training set\n",
    "pipeline.fit(X2_train,y2_train)"
   ]
  },
  {
   "cell_type": "code",
   "execution_count": 22,
   "metadata": {},
   "outputs": [
    {
     "name": "stdout",
     "output_type": "stream",
     "text": [
      "Best C is  [10.]\n",
      "The average of the three scores for each C value:\n",
      " [0.67846956 0.67851666 0.67853236 0.6785376  0.6785376 ]\n"
     ]
    }
   ],
   "source": [
    "# Access to LogisticRegressionCV\n",
    "regcv = pipeline.steps[1][1]\n",
    "\n",
    "# Print the best C\n",
    "print('Best C is ',regcv.C_)\n",
    "\n",
    "# Print the average of score for each C value\n",
    "print('The average of the three scores for each C value:\\n',regcv.scores_[1].mean(axis=0))"
   ]
  },
  {
   "cell_type": "markdown",
   "metadata": {},
   "source": [
    "#### Although the best C value is 10, the average of three scores across the five C values are within less than 0.001 of each other. Therefore, the default value C=1 will be kept. "
   ]
  },
  {
   "cell_type": "code",
   "execution_count": 23,
   "metadata": {},
   "outputs": [
    {
     "name": "stdout",
     "output_type": "stream",
     "text": [
      "X2 has 128 features\n"
     ]
    }
   ],
   "source": [
    "# Print number of features in X2\n",
    "print('X2 has {} features'.format(len(X2_train.columns)))"
   ]
  },
  {
   "cell_type": "code",
   "execution_count": 24,
   "metadata": {},
   "outputs": [
    {
     "name": "stdout",
     "output_type": "stream",
     "text": [
      "The average of 3-fold cross-validation recall scores for the logistic regression with interaction terms is 0.681 \n"
     ]
    }
   ],
   "source": [
    "# Add interaction features. There are 128 features after transforming categorical features. Interaction between all of them\n",
    "# make the model too complex. Therefore, a feature selection is added before interaction.\n",
    "\n",
    "# Classifier with balanced weight\n",
    "clf = LogisticRegression(class_weight='balanced',solver='sag',random_state=21)\n",
    "\n",
    "# Define feature selector. \n",
    "feature_selector = SelectFromModel(clf, threshold='mean',max_features=50)\n",
    "\n",
    "# Define interaction terms\n",
    "interaction = PolynomialFeatures(degree = 2,interaction_only=True)\n",
    "\n",
    "# Define pipeline\n",
    "pipeline = make_pipeline(scaler,feature_selector,interaction,clf)\n",
    "\n",
    "# Run cross-validation \n",
    "scores = cross_val_score(pipeline,X2_train,y2_train,cv=kfolds,scoring='recall')\n",
    "\n",
    "#print results\n",
    "print('The average of 3-fold cross-validation recall scores for the logistic regression with interaction terms is %.3f '\n",
    "      %np.mean(scores))"
   ]
  },
  {
   "cell_type": "markdown",
   "metadata": {},
   "source": [
    "#### The average cross validation recall score improved only by 0.002. Since interaction terms add complexity to the model and the score improved only by 0.002, they will not be added to the logistic regression model."
   ]
  },
  {
   "cell_type": "code",
   "execution_count": 7,
   "metadata": {},
   "outputs": [
    {
     "data": {
      "image/png": "[encoded data removed]",
      "text/plain": [
       "<Figure size 432x288 with 1 Axes>"
      ]
     },
     "metadata": {
      "needs_background": "light"
     },
     "output_type": "display_data"
    }
   ],
   "source": [
    "# Plot ROC curve for the training data set\n",
    "\n",
    "# Classifier\n",
    "clf = LogisticRegression(class_weight='balanced',solver='sag',random_state=21)\n",
    "\n",
    "# Pipeline\n",
    "pipeline = make_pipeline(scaler,clf)\n",
    "\n",
    "# Fit pipeline to training set\n",
    "pipeline.fit(X2_train,y2_train)\n",
    "\n",
    "# Compute probability estimates\n",
    "y2_predict_proba = pipeline.predict_proba(X2_train)\n",
    "\n",
    "# Compute true positive ratio (recall) and false positive ratio\n",
    "fpr, tpr, thresholds = roc_curve(y2_train,y2_predict_proba[:,1])\n",
    "\n",
    "# Find the false positive ratio corresponding to recall 0.679\n",
    "a = np.argwhere(np.round(tpr,3)==0.679)[0]\n",
    "b = np.float(fpr[a])\n",
    "\n",
    "# Plot ROC curve and the point corresponding to threshold  = 0.5\n",
    "plt.plot([0, 1], [0, 1], 'k--')\n",
    "plt.plot(fpr,tpr)\n",
    "plt.plot(b,0.679,marker='x',markersize=5,color='black')\n",
    "plt.annotate('Threshold=0.5 \\n(0.679,%.2f)'%b,(b,0.7),(0.05,0.9),arrowprops={'color':'red'})\n",
    "plt.xlabel('false positive ratio')\n",
    "plt.ylabel('recall (true positive ratio)')\n",
    "plt.title('ROC curve')\n",
    "plt.show()"
   ]
  },
  {
   "cell_type": "markdown",
   "metadata": {},
   "source": [
    "#### Raising the threshold to increase recall in the expense of increasing false positive ratio is a business decision, but in my opinion, false positive ratio of 0.35 is already too high because it means more than one-third of eligible applicants are labeled as charged-off. Therefore, the threshold will not be raised."
   ]
  },
  {
   "cell_type": "code",
   "execution_count": 8,
   "metadata": {},
   "outputs": [
    {
     "data": {
      "image/png": "[encoded data removed]",
      "text/plain": [
       "<Figure size 576x1008 with 1 Axes>"
      ]
     },
     "metadata": {
      "needs_background": "light"
     },
     "output_type": "display_data"
    }
   ],
   "source": [
    "# Create dataframe of feature coefficients\n",
    "feature_df = pd.DataFrame(np.transpose(pipeline.steps[1][1].coef_),columns=['coefficient'],index=X2_train.columns)\\\n",
    ".sort_values(by='coefficient')\n",
    "\n",
    "# Plot features with absolute coefficients of more than 0.05\n",
    "feature_df.loc[np.abs(feature_df.coefficient)>0.05].plot.barh(figsize=(8,14),legend=False)\n",
    "plt.xlabel('Coefficients',fontsize=15)\n",
    "plt.ylabel('Features',fontsize=15)\n",
    "plt.title('Features and their coefficients if for coefficients more than 0.05',fontsize=15)\n",
    "plt.tick_params(axis='both', labelsize=15)\n",
    "plt.show()"
   ]
  },
  {
   "cell_type": "code",
   "execution_count": 97,
   "metadata": {},
   "outputs": [
    {
     "name": "stdout",
     "output_type": "stream",
     "text": [
      "The average of 3-fold cross-validation recall scores for the logistic regression classifier after removing employment title \n",
      "and zip code is 0.640\n"
     ]
    }
   ],
   "source": [
    "# 'emp_title','zip_code' were originally categorical and were transformed to numerical. They both\n",
    "# have high coefficients. It is worth checking the performnace of the logistic regression classifier after removing them.\n",
    "X2_train_new = X2_train.drop(['emp_title','zip_code'],axis=1)\n",
    "\n",
    "# Run cross-validation score\n",
    "scores = cross_val_score(clf,X2_train_new,y2_train,cv=kfolds,scoring='recall')\n",
    "\n",
    "# Print the average of results\n",
    "print('The average of 3-fold cross-validation recall scores for the logistic regression classifier after \\\n",
    "removing employment title \\nand zip code is %.3f'%np.mean(scores))"
   ]
  },
  {
   "cell_type": "code",
   "execution_count": null,
   "metadata": {},
   "outputs": [],
   "source": [
    "### Removing 'emp_title','zip_code' dropped the recall score. Therefore, they will be kept."
   ]
  },
  {
   "cell_type": "markdown",
   "metadata": {},
   "source": [
    "#### Conclusion: The final logistic regression classifier has the following parameters: class_weight='balanced', solver='sag', and C=1. The average3-fold cross-validation accuracy and recall scores of the logistic regression are 0.657 and 0.679, respectively."
   ]
  },
  {
   "cell_type": "markdown",
   "metadata": {},
   "source": [
    "#### It was necessary to make several data transformation on numerical features because of the special distribution of each feature. Tree-based models are robust to data distributions. Therefore, an XGBoost classifier is developed in the next section."
   ]
  },
  {
   "cell_type": "markdown",
   "metadata": {},
   "source": [
    "# XGBoost Classifier"
   ]
  },
  {
   "cell_type": "code",
   "execution_count": 9,
   "metadata": {},
   "outputs": [],
   "source": [
    "# Define classifier \n",
    "clf = XGBClassifier(scale_pos_weight=4,random_state=21)\n",
    "\n",
    "# Run cross validation\n",
    "scores = cross_validate(clf,X1_train,y1_train,cv=kfolds,scoring=['accuracy','recall'])"
   ]
  },
  {
   "cell_type": "code",
   "execution_count": 10,
   "metadata": {},
   "outputs": [
    {
     "name": "stdout",
     "output_type": "stream",
     "text": [
      "The average of 3-fold cross-validation accuracy scores for the XGBoost classifier is 0.659 \n",
      "The average of 3-fold cross-validation recall scores for the XGBoost classifier is 0.684 \n"
     ]
    }
   ],
   "source": [
    "# Print the average of results\n",
    "print('The average of 3-fold cross-validation accuracy scores for the XGBoost classifier is %.3f '\n",
    "      %np.mean(scores['test_accuracy']))\n",
    "print('The average of 3-fold cross-validation recall scores for the XGBoost classifier is %.3f '\n",
    "        %np.mean(scores['test_recall']))"
   ]
  },
  {
   "cell_type": "markdown",
   "metadata": {},
   "source": [
    "#### Both accuracy and recall scores slightly improved compared to the logistic regression classifier."
   ]
  },
  {
   "cell_type": "markdown",
   "metadata": {},
   "source": [
    "#### In order to improve the recall score, five parameters are tuned based on the mentioned values: n_estimators: {20,50,100}, learning_rate: {0.05,0.1,0.2}, max_depth: {3,4,5}, subsample:{0.6,0.8,1}, and colsample_bytree:{0.4,0.7,1}. Since the dataset is quite large, the parameters are tuned one by one. The process starts with number of estimators and assign the rest of parameters to the middle value of their corresponding set."
   ]
  },
  {
   "cell_type": "code",
   "execution_count": 12,
   "metadata": {},
   "outputs": [],
   "source": [
    "# Define a function which receives classifier, parameter values, cross-validation folds, and features and response \n",
    "# variable of training set as inputs, tune hyper parameters and prints the best score and best parameter value\n",
    "\n",
    "def tuning(classifier,param_set,cv_folds=kfolds,train_feature=X1_train,train_response=y1_train):\n",
    "    model = GridSearchCV(classifier,param_grid=param_set,cv=cv_folds,scoring='recall') \n",
    "    model.fit(train_feature,train_response)\n",
    "    print('The best score in parameter tuning is: %.3f'%model.best_score_)\n",
    "    print('The best parameter value is: ',model.best_params_)    \n",
    "    return model"
   ]
  },
  {
   "cell_type": "code",
   "execution_count": 13,
   "metadata": {},
   "outputs": [
    {
     "name": "stdout",
     "output_type": "stream",
     "text": [
      "The best score in parameter tuning is: 0.687\n",
      "The best parameter value is:  {'n_estimators': 100}\n"
     ]
    }
   ],
   "source": [
    "# Define classifier\n",
    "clf = XGBClassifier(scale_pos_weight=4,random_state=21,learning_rate=0.1,max_depth=4,subsample=0.8,colsample_bytree=0.7)\n",
    "\n",
    "# Define parameter\n",
    "parameter = {'n_estimators':[20,50,100]}\n",
    "\n",
    "# Run tuning on the classifier\n",
    "cv = tuning(clf,parameter)"
   ]
  },
  {
   "cell_type": "code",
   "execution_count": 14,
   "metadata": {},
   "outputs": [
    {
     "data": {
      "text/plain": [
       "array([0.68673298, 0.68503215, 0.68701558])"
      ]
     },
     "execution_count": 14,
     "metadata": {},
     "output_type": "execute_result"
    }
   ],
   "source": [
    "# Print the mean of test scores for each value of n_estimators \n",
    "cv.cv_results_['mean_test_score']"
   ]
  },
  {
   "cell_type": "code",
   "execution_count": 15,
   "metadata": {},
   "outputs": [
    {
     "name": "stdout",
     "output_type": "stream",
     "text": [
      "The best score in parameter tuning is: 0.688\n",
      "The best parameter value is:  {'learning_rate': 0.2}\n"
     ]
    }
   ],
   "source": [
    "# Score goes up very slowly.Therefore, n_estimators beyond 100 will not be tested. \n",
    "# Tune learning_rate\n",
    "\n",
    "# Define classifier\n",
    "clf = XGBClassifier(scale_pos_weight=4,random_state=21,n_estimators=100,max_depth=4,subsample=0.8,colsample_bytree=0.7)\n",
    "\n",
    "# Define parameter\n",
    "parameter = {'learning_rate':[0.05,0.1,0.2]}\n",
    "\n",
    "# Run tuning on the classifier\n",
    "cv = tuning(clf,parameter)"
   ]
  },
  {
   "cell_type": "code",
   "execution_count": 16,
   "metadata": {},
   "outputs": [
    {
     "data": {
      "text/plain": [
       "array([0.68663879, 0.68701558, 0.68807795])"
      ]
     },
     "execution_count": 16,
     "metadata": {},
     "output_type": "execute_result"
    }
   ],
   "source": [
    "# Print the mean of test scores for each value of learning_rate \n",
    "cv.cv_results_['mean_test_score']"
   ]
  },
  {
   "cell_type": "code",
   "execution_count": 17,
   "metadata": {},
   "outputs": [
    {
     "name": "stdout",
     "output_type": "stream",
     "text": [
      "The best score in parameter tuning is: 0.688\n",
      "The best parameter value is:  {'max_depth': 4}\n"
     ]
    }
   ],
   "source": [
    "# Score goes up very slowly. Therefore, learning_rate beyond 0.2 will not be tested. \n",
    "# Tune max_depth.\n",
    "\n",
    "# Define classifier\n",
    "clf = XGBClassifier(scale_pos_weight=4,random_state=21,n_estimators=100,learning_rate=0.2,subsample=0.8,colsample_bytree=0.7)\n",
    "\n",
    "# Define parameter\n",
    "parameter = {'max_depth':[3,4,5]}\n",
    "\n",
    "# Run tuning on the classifier\n",
    "cv = tuning(clf,parameter)"
   ]
  },
  {
   "cell_type": "code",
   "execution_count": 18,
   "metadata": {},
   "outputs": [
    {
     "data": {
      "text/plain": [
       "array([0.68701559, 0.68807795, 0.68673822])"
      ]
     },
     "execution_count": 18,
     "metadata": {},
     "output_type": "execute_result"
    }
   ],
   "source": [
    "# Print the mean of test scores for each value of max_depth\n",
    "cv.cv_results_['mean_test_score']"
   ]
  },
  {
   "cell_type": "code",
   "execution_count": 19,
   "metadata": {},
   "outputs": [
    {
     "name": "stdout",
     "output_type": "stream",
     "text": [
      "The best score in parameter tuning is: 0.688\n",
      "The best parameter value is:  {'subsample': 0.6}\n"
     ]
    }
   ],
   "source": [
    "# max_depth = 4\n",
    "#Tune subsample\n",
    "\n",
    "# Define classifier\n",
    "clf = XGBClassifier(scale_pos_weight=4,random_state=21,n_estimators=100,learning_rate=0.2,max_depth=4,colsample_bytree=0.7)\n",
    "\n",
    "# Define parameter\n",
    "parameter = {'subsample':[0.6,0.8,1]}\n",
    "\n",
    "# Run tuning on the classifier\n",
    "cv = tuning(clf,parameter)"
   ]
  },
  {
   "cell_type": "code",
   "execution_count": 20,
   "metadata": {},
   "outputs": [
    {
     "data": {
      "text/plain": [
       "array([0.68828205, 0.68807795, 0.68772731])"
      ]
     },
     "execution_count": 20,
     "metadata": {},
     "output_type": "execute_result"
    }
   ],
   "source": [
    "# Print the mean of test scores for each value of subsample \n",
    "cv.cv_results_['mean_test_score']"
   ]
  },
  {
   "cell_type": "code",
   "execution_count": 21,
   "metadata": {},
   "outputs": [
    {
     "name": "stdout",
     "output_type": "stream",
     "text": [
      "The best score in parameter tuning is: 0.688\n",
      "The best parameter value is:  {'colsample_bytree': 0.7}\n"
     ]
    }
   ],
   "source": [
    "# Score goes up very slowly as the subsample goes down. Therefore, subsamples below 0.6 will not be tested. \n",
    "# Tune colsample_bytree\n",
    "\n",
    "# Define classifier\n",
    "clf = XGBClassifier(scale_pos_weight=4,random_state=21,n_estimators=100,learning_rate=0.2,max_depth=4,subsample=0.6)\n",
    "\n",
    "# Define parameter\n",
    "parameter = {'colsample_bytree':[0.4,0.7,1]}\n",
    "\n",
    "# Run tuning on the classifier\n",
    "cv = tuning(clf,parameter)"
   ]
  },
  {
   "cell_type": "code",
   "execution_count": 22,
   "metadata": {},
   "outputs": [
    {
     "data": {
      "text/plain": [
       "array([0.68619395, 0.68828205, 0.68772732])"
      ]
     },
     "execution_count": 22,
     "metadata": {},
     "output_type": "execute_result"
    }
   ],
   "source": [
    "# Print the mean of test scores for each value of colsample_bytree\n",
    "cv.cv_results_['mean_test_score']"
   ]
  },
  {
   "cell_type": "code",
   "execution_count": 10,
   "metadata": {
    "scrolled": true
   },
   "outputs": [
    {
     "data": {
      "text/plain": [
       "XGBClassifier(base_score=0.5, booster='gbtree', colsample_bylevel=1,\n",
       "       colsample_bytree=0.7, gamma=0, learning_rate=0.2, max_delta_step=0,\n",
       "       max_depth=4, min_child_weight=1, missing=None, n_estimators=100,\n",
       "       n_jobs=1, nthread=None, objective='binary:logistic',\n",
       "       random_state=21, reg_alpha=0, reg_lambda=1, scale_pos_weight=4,\n",
       "       seed=None, silent=True, subsample=0.6)"
      ]
     },
     "execution_count": 10,
     "metadata": {},
     "output_type": "execute_result"
    }
   ],
   "source": [
    "# The classifier with tuned parameters is below.\n",
    "clf = XGBClassifier(scale_pos_weight=4,random_state=21,n_estimators=100,learning_rate=0.2,max_depth=4,subsample=0.6\n",
    "                    ,colsample_bytree=0.7)\n",
    "\n",
    "# Fit the classifier to the training set\n",
    "clf.fit(X1_train,y1_train)"
   ]
  },
  {
   "cell_type": "code",
   "execution_count": 13,
   "metadata": {},
   "outputs": [
    {
     "data": {
      "image/png": "[encoded data removed]",
      "text/plain": [
       "<Figure size 576x720 with 1 Axes>"
      ]
     },
     "metadata": {
      "needs_background": "light"
     },
     "output_type": "display_data"
    }
   ],
   "source": [
    "# Plot the feature importance diagram of top 20 most important features.\n",
    "features = pd.DataFrame(clf.feature_importances_, index = X1_train.columns,\n",
    "                            columns=['importance']).sort_values('importance',ascending=True)\n",
    "\n",
    "features.iloc[-20:].plot.barh(figsize=(8,10),legend = False)\n",
    "plt.xlabel('Coefficients',fontsize=15)\n",
    "plt.ylabel('Features',fontsize=15)\n",
    "plt.tick_params(axis='both', labelsize=15)\n",
    "plt.title ('Feature importance diagram of XGBoost classifier - top 20 most important features',fontsize=15)\n",
    "plt.show()"
   ]
  },
  {
   "cell_type": "code",
   "execution_count": 8,
   "metadata": {},
   "outputs": [
    {
     "name": "stdout",
     "output_type": "stream",
     "text": [
      "The average of 3-fold cross-validation recall scores for the XGBoost classifier after removing employment title and zip code \n",
      "is 0.679\n"
     ]
    }
   ],
   "source": [
    "# As the diagram above is showing, emp_title and zip_code are first and forth most important features.\n",
    "# Since the two features were originally categorical variables and were transformed to numerical ones, it is worth \n",
    "# checking if removing them improves the performance of the model\n",
    "\n",
    "X1_train_new = X1_train.drop(['emp_title','zip_code'],axis=1)\n",
    "\n",
    "# Run cross-validation score\n",
    "scores = cross_val_score(clf,X1_train_new,y1_train,cv=kfolds,scoring='recall')\n",
    "\n",
    "# Print the average of results\n",
    "print('The average of 3-fold cross-validation recall scores for the XGBoost classifier after removing employment title \\\n",
    "and zip code \\nis %.3f'%np.mean(scores))"
   ]
  },
  {
   "cell_type": "code",
   "execution_count": null,
   "metadata": {},
   "outputs": [],
   "source": [
    "# Removing 'emp_title','zip_code' did not improve the recall score. Therefore, they will be kept."
   ]
  },
  {
   "cell_type": "code",
   "execution_count": 142,
   "metadata": {
    "scrolled": false
   },
   "outputs": [
    {
     "name": "stdout",
     "output_type": "stream",
     "text": [
      "The number of features with importance more than 0 is  81\n"
     ]
    }
   ],
   "source": [
    "# Now the model is simplified by keeping the important features and removing the rest\n",
    "\n",
    "# Create a list of features with importance higher than 0\n",
    "feature_keep = features.loc[features.importance>0].index\n",
    "\n",
    "# Print the number of important features\n",
    "print('The number of features with importance more than 0 is ',len(feature_keep))"
   ]
  },
  {
   "cell_type": "code",
   "execution_count": 143,
   "metadata": {},
   "outputs": [
    {
     "name": "stdout",
     "output_type": "stream",
     "text": [
      "The average of 3-fold cross-validation accuracy scores for the XGBoost classifier after removing unimportant features is 0.667 \n",
      "The average of 3-fold cross-validation recall scores for the XGBoost classifier after removing unimportant features is 0.689 \n"
     ]
    }
   ],
   "source": [
    "# Remove unimportant features\n",
    "X1_train_new = X1_train.loc[:,feature_keep]\n",
    "\n",
    "# Run cross-validate score to make sure performance of the model did not decrease\n",
    "scores = cross_validate(clf,X1_train_new,y1_train,cv=kfolds,scoring=['recall','accuracy'])\n",
    "\n",
    "# Print the results\n",
    "print('The average of 3-fold cross-validation accuracy scores for the XGBoost classifier after removing unimportant features is %.3f '\n",
    "        %np.mean(scores['test_accuracy']))\n",
    "print('The average of 3-fold cross-validation recall scores for the XGBoost classifier after removing unimportant features is %.3f '\n",
    "        %np.mean(scores['test_recall']))"
   ]
  },
  {
   "cell_type": "markdown",
   "metadata": {},
   "source": [
    "### Final Model: both average 3-fold cross-validation accuracy and recall scores of the XGBoost classifier are only about 1.5% higher than the corresponding scores of the logistic regression model. Since the logistic regression model is simpler and more interpretable, it is selected as the final model."
   ]
  },
  {
   "cell_type": "markdown",
   "metadata": {},
   "source": [
    "### Find the accuracy and recall scores of the test set."
   ]
  },
  {
   "cell_type": "code",
   "execution_count": 9,
   "metadata": {},
   "outputs": [
    {
     "name": "stdout",
     "output_type": "stream",
     "text": [
      "The accuracy score of the test set is 0.658\n",
      "The recall score of the test set is 0.679\n"
     ]
    }
   ],
   "source": [
    "# Classifier with weighted balance\n",
    "clf = LogisticRegression(class_weight='balanced',solver='sag',random_state=21)\n",
    "\n",
    "# define the pipeline\n",
    "pipeline = make_pipeline(scaler,clf)\n",
    "\n",
    "# Fit the pipeline on the train set\n",
    "pipeline.fit(X2_train,y2_train)\n",
    "\n",
    "# Predict the response variable of the test set\n",
    "y2_predict = pipeline.predict(X2_test)\n",
    "\n",
    "# Print recall and accuracy scores of the test set\n",
    "print('The accuracy score of the test set is %.3f'%accuracy_score(y2_test,y2_predict))\n",
    "print('The recall score of the test set is %.3f'%recall_score(y2_test,y2_predict))"
   ]
  },
  {
   "cell_type": "markdown",
   "metadata": {},
   "source": [
    "### Recall score of the test set is the same as the average 3-fold cross-validation recall score of the training set. Accuracy score of the test set is 0.001 more than the average 3-fold cross-validation accuracy score of the training set."
   ]
  },
  {
   "cell_type": "code",
   "execution_count": null,
   "metadata": {},
   "outputs": [],
   "source": []
  }
 ],
 "metadata": {
  "kernelspec": {
   "display_name": "Python 3",
   "language": "python",
   "name": "python3"
  },
  "language_info": {
   "codemirror_mode": {
    "name": "ipython",
    "version": 3
   },
   "file_extension": ".py",
   "mimetype": "text/x-python",
   "name": "python",
   "nbconvert_exporter": "python",
   "pygments_lexer": "ipython3",
   "version": "3.6.6"
  }
 },
 "nbformat": 4,
 "nbformat_minor": 2
}
