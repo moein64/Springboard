{
 "cells": [
  {
   "cell_type": "code",
   "execution_count": null,
   "metadata": {},
   "outputs": [],
   "source": [
    "X1_train.loc[:,['int_rate','loan_amnt','annual_inc','dti']].hist(figsize=(12,8))\n",
    "plt.show()"
   ]
  },
  {
   "cell_type": "code",
   "execution_count": null,
   "metadata": {},
   "outputs": [],
   "source": [
    "df_original.annual_inc[df_original.annual_inc==0]=0.1\n",
    "df_original.dti[df_original.dti==0]=0.1"
   ]
  },
  {
   "cell_type": "code",
   "execution_count": null,
   "metadata": {},
   "outputs": [],
   "source": [
    "def binning(feature,bins):\n",
    "    df_copy = df_original.loc[:,[feature,'charged_off']]\n",
    "    df_copy[feature+'_bins']=pd.cut(df_copy[feature],bins=bins).astype('str').str.replace('(','').str.replace(']','').str.replace(', ','_')\n",
    "    (df_copy.groupby(feature+'_bins')['charged_off'].mean().sort_values()).plot.barh(figsize = (8,4))\n",
    "    plt.ylabel(feature+'_bins',fontsize=20)\n",
    "    plt.xlabel('charged_off ratio',fontsize=20)\n",
    "    plt.title('charged_off ratio across all levels of {}'.format(feature+'_bins'),fontsize=15)\n",
    "    plt.show()"
   ]
  },
  {
   "cell_type": "code",
   "execution_count": null,
   "metadata": {},
   "outputs": [],
   "source": [
    "# Apply binning function on int_rate\n",
    "bins=np.arange(5,30,2.5)\n",
    "binning('int_rate',bins)\n",
    "\n",
    "# Apply binning function on loan_amnt\n",
    "bins=np.arange(0,40001,5000)\n",
    "binning('loan_amnt',bins)\n",
    "\n",
    "# Apply binning function on annual_inc\n",
    "bins=np.arange(0,250001,25000)\n",
    "binning('annual_inc',bins)\n",
    "\n",
    "# Apply binning function on dti\n",
    "bins=np.arange(0,46,5)\n",
    "binning('dti',bins)"
   ]
  }
 ],
 "metadata": {
  "kernelspec": {
   "display_name": "Python 3",
   "language": "python",
   "name": "python3"
  },
  "language_info": {
   "codemirror_mode": {
    "name": "ipython",
    "version": 3
   },
   "file_extension": ".py",
   "mimetype": "text/x-python",
   "name": "python",
   "nbconvert_exporter": "python",
   "pygments_lexer": "ipython3",
   "version": "3.6.6"
  }
 },
 "nbformat": 4,
 "nbformat_minor": 2
}
