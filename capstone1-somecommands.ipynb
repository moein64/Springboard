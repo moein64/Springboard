{
 "cells": [
  {
   "cell_type": "code",
   "execution_count": null,
   "metadata": {},
   "outputs": [],
   "source": [
    "X_train, X_test, y_train, y_test = train_test_split(X,y,test_size=0.3,random_state=21)\n",
    "svr = SVR(kernel = 'rbf')\n",
    "parameters = {'C':[0.2,0.5,1,2],'gamma':[0.01,0.05,0.1]}\n",
    "model = GridSearchCV(svr,param_grid = parameters, cv=5)\n",
    "model.fit(X_train,y_train)\n",
    "print('The best score is %.3f'%model.best_score_)\n",
    "print('The best parameters are: ',model.best_params_)\n",
    "print('The test set score after tuning parameters is %.3f'%model.score(X_test,y_test))"
   ]
  },
  {
   "cell_type": "code",
   "execution_count": null,
   "metadata": {},
   "outputs": [],
   "source": [
    "# In Story Telling section, it was shown that the correlations between poverty and majority of rural urban continuum codes \n",
    "# i.e. all except RUCC 1 and 6, are close to each other . Therefore, any of these seven RUCC (2-5,7-9) could be picked as the \n",
    "# base to simplify the interpretation. I pick RUCC 9 and remove it"
   ]
  },
  {
   "cell_type": "code",
   "execution_count": null,
   "metadata": {},
   "outputs": [],
   "source": [
    "# Build the linear model with OLS command\n",
    "X2 = sm.add_constant(X) #OLS by default does not have intercept\n",
    "model = sm.OLS(y,X2).fit()\n",
    "\n",
    "# Remove predcitors with p-value less than 0.001\n",
    "X_new = X2.loc[:,model.pvalues[model.pvalues <0.001].index]\n",
    "\n",
    "# fit the model on the dataset with reduced number of predictors\n",
    "model = sm.OLS(y,X_new).fit()\n",
    "\n",
    "# print summary of the model\n",
    "model.summary()\n",
    "\n",
    "# Remove predcitors with p-value less than 0.001\n",
    "X_new = X2.loc[:,model.pvalues[model.pvalues <0.001].index]\n",
    "\n",
    "# fit the model on the dataset with reduced number of predictors\n",
    "model = sm.OLS(y,X_new).fit()\n",
    "\n",
    "# print summary of the model\n",
    "model.summary()\n",
    "\n",
    "# Plot residuals vs. fitted values\n",
    "figure,ax = plt.subplots(figsize=(10,6))\n",
    "ax.scatter(model.fittedvalues,model.resid)\n",
    "ax.set_xlabel('Fitted values')\n",
    "ax.set_ylabel('Residuals');\n",
    "ax.set_title('Residuals vs. fitted values',y=1.02)\n",
    "ax.axis([0,45,-35,35])\n",
    "\n",
    "# Plot quantile plot\n",
    "figure,ax = plt.subplots(figsize=(10,6))\n",
    "stats.probplot(model.resid,plot=ax)\n",
    "ax.set_ylabel('Residual quantiles')\n",
    "ax.set_title('Quantile-Quantile plot',y=1.02)\n",
    "ax.axis([-4,4,-35,35])\n",
    "\n",
    "# Show plots\n",
    "plt.show()"
   ]
  },
  {
   "cell_type": "code",
   "execution_count": null,
   "metadata": {},
   "outputs": [],
   "source": [
    "from sklearn.model_selection import train_test_split\n",
    "from sklearn.ensemble import RandomForestRegressor\n",
    "from sklearn.model_selection import GridSearchCV\n",
    "from sklearn.svm import SVR\n",
    "X_train, X_test, y_train, y_test = train_test_split(X,y,test_size=0.3,random_state=21)\n",
    "svr = SVR(kernel='linear')\n",
    "parameters = {'C':[2,5,10],\\\n",
    "             'epsilon':[0.5,0.8]}\n",
    "model = GridSearchCV(svr,param_grid = parameters, cv=5)\n",
    "model.fit(X_train_extended,y_train)\n",
    "print('The test set score after tuning parameters is ',np.round(model.score(X_test_extended,y_test),3))\n",
    "print('The best parameters are: ',model.best_params_)"
   ]
  },
  {
   "cell_type": "code",
   "execution_count": null,
   "metadata": {},
   "outputs": [],
   "source": [
    "# Define the influence array and create a panda peries with the external studentized residuals\n",
    "infl = model.get_influence()\n",
    "p = pd.Series(infl.resid_studentized_external)\n",
    "\n",
    "# Extract the indices of the series for which the absolute value of external studentized residual is more than 3.\n",
    "indices = p[np.abs(p)>3].index\n",
    "\n",
    "# Create a dataframe from the original dataframe which only include the indices extracted above\n",
    "df_outliers = df.iloc[indices]\n",
    "X_reduced=X_new.iloc[p[np.abs(p)<=3].index]\n",
    "y_reduced=y.iloc[p[np.abs(p)<=3].index]"
   ]
  },
  {
   "cell_type": "code",
   "execution_count": 1,
   "metadata": {},
   "outputs": [],
   "source": [
    "# Import DummyRegressor\n",
    "from sklearn.dummy import DummyRegressor\n",
    "\n",
    "# Build the dummy classifier\n",
    "clf = DummyRegressor(strategy = 'mean')"
   ]
  },
  {
   "cell_type": "code",
   "execution_count": null,
   "metadata": {},
   "outputs": [],
   "source": [
    "# Import necessary libraries\n",
    "from sklearn.preprocessing import PolynomialFeatures\n",
    "from sklearn.pipeline import make_pipeline\n",
    "\n",
    "# Create linear regression classifier and polynomial features, and use pipeline\n",
    "linear = LinearRegression()\n",
    "poly = PolynomialFeatures(degree = 2, interaction_only = True)\n",
    "pipeline = make_pipeline(poly, linear)\n",
    "\n",
    "# Run cross-validation with R-squared as scoring and print the results\n",
    "scores = cross_val_score(pipeline,X_reduced,y_reduced,cv=5)\n",
    "print('\\nThe average of 5-fold cross validation score (R-squared) for the simplified linear model is ', np.round(np.mean(scores),2))\n",
    "\n",
    "# Run cross-validation with mean-squared-error as scoring and print the results\n",
    "scores = cross_val_score(pipeline,X_reduced,y_reduced,cv=5,scoring='neg_mean_squared_error')\n",
    "print('The average of 5-fold cross validation score (mean-squared-error) for the simplified linear model is ', np.round(-np.mean(scores),2))"
   ]
  },
  {
   "cell_type": "code",
   "execution_count": null,
   "metadata": {},
   "outputs": [],
   "source": [
    "# Create the dataframe for dummy variables representing the nine RUCC and concat it to the original dataframe\n",
    "ohe = OneHotEncoder()\n",
    "RUCC_matrix = ohe.fit_transform(df.RUCC.values.reshape(-1,1)).toarray()\n",
    "RUCC_df = pd.DataFrame(RUCC_matrix,columns = ['RUCC_'+str(i) for i in np.arange(1,10)])\n",
    "df_concat = pd.concat([df_copy,RUCC_df],axis = 1)"
   ]
  },
  {
   "cell_type": "code",
   "execution_count": null,
   "metadata": {},
   "outputs": [],
   "source": [
    "#Order the data frame based on South, Northeast, Midwest, and West.\n",
    "df.region = pd.Categorical(df.region, categories=[\"South\",\"Northeast\",\"Midwest\",\"West\"],ordered=True)\n",
    "df.sort_values('region',inplace=True)"
   ]
  },
  {
   "cell_type": "code",
   "execution_count": null,
   "metadata": {
    "collapsed": true
   },
   "outputs": [],
   "source": [
    "with pd.option_context('display.max_rows', None, 'display.max_columns', None):\n",
    "    print(df_concat[df_concat['2013 Rural-urban Continuum Code'].isnull()].reset_index(drop=True))"
   ]
  },
  {
   "cell_type": "code",
   "execution_count": 9,
   "metadata": {},
   "outputs": [
    {
     "name": "stdout",
     "output_type": "stream",
     "text": [
      "   height  width\n",
      "0    40.0     10\n",
      "1    20.0      9\n",
      "2     3.4      4\n",
      "   height  width   area\n",
      "0    40.0     10  400.0\n",
      "1    20.0      9  180.0\n",
      "2     3.4      4   13.6\n"
     ]
    }
   ],
   "source": [
    "df=pd.read_csv('wrangled_data.csv')\n",
    "df.RUCC = df.RUCC.astype('int').astype('str')\n",
    "\n",
    "def new_RUCC(row):\n",
    "    if row['RUCC'] in ['4','5']:\n",
    "        k = '4_or_5'\n",
    "    elif row['RUCC'] in ['6','7']:\n",
    "        k = '6_or_7'\n",
    "    elif row['RUCC'] in ['8','9']:\n",
    "        k = '8_or_9'\n",
    "    else:\n",
    "        k = row['RUCC']\n",
    "    return k\n",
    "\n",
    "#print(df.head())\n",
    "df['new_RUCC']=df.apply(new_RUCC,axis=1)\n",
    "df.head()"
   ]
  },
  {
   "cell_type": "code",
   "execution_count": 5,
   "metadata": {},
   "outputs": [
    {
     "name": "stderr",
     "output_type": "stream",
     "text": [
      "C:\\Users\\moein\\Miniconda3\\envs\\mypy36\\lib\\site-packages\\matplotlib\\__init__.py:872: UserWarning: axes.color_cycle is deprecated and replaced with axes.prop_cycle; please use the latter.\n",
      "  warnings.warn(self.msg_depr % (key, alt_key))\n"
     ]
    },
    {
     "data": {
      "text/html": [
       "<div>\n",
       "<table border=\"1\" class=\"dataframe\">\n",
       "  <thead>\n",
       "    <tr style=\"text-align: right;\">\n",
       "      <th></th>\n",
       "      <th>year</th>\n",
       "      <th>month</th>\n",
       "      <th>passengers</th>\n",
       "    </tr>\n",
       "  </thead>\n",
       "  <tbody>\n",
       "    <tr>\n",
       "      <th>0</th>\n",
       "      <td>1949</td>\n",
       "      <td>January</td>\n",
       "      <td>112</td>\n",
       "    </tr>\n",
       "    <tr>\n",
       "      <th>1</th>\n",
       "      <td>1949</td>\n",
       "      <td>February</td>\n",
       "      <td>118</td>\n",
       "    </tr>\n",
       "    <tr>\n",
       "      <th>2</th>\n",
       "      <td>1949</td>\n",
       "      <td>March</td>\n",
       "      <td>132</td>\n",
       "    </tr>\n",
       "    <tr>\n",
       "      <th>3</th>\n",
       "      <td>1949</td>\n",
       "      <td>April</td>\n",
       "      <td>129</td>\n",
       "    </tr>\n",
       "    <tr>\n",
       "      <th>4</th>\n",
       "      <td>1949</td>\n",
       "      <td>May</td>\n",
       "      <td>121</td>\n",
       "    </tr>\n",
       "  </tbody>\n",
       "</table>\n",
       "</div>"
      ],
      "text/plain": [
       "   year     month  passengers\n",
       "0  1949   January         112\n",
       "1  1949  February         118\n",
       "2  1949     March         132\n",
       "3  1949     April         129\n",
       "4  1949       May         121"
      ]
     },
     "execution_count": 5,
     "metadata": {},
     "output_type": "execute_result"
    }
   ],
   "source": [
    "import seaborn as sns\n",
    "flights = sns.load_dataset(\"flights\")\n",
    "flights.head()"
   ]
  },
  {
   "cell_type": "code",
   "execution_count": 6,
   "metadata": {},
   "outputs": [
    {
     "data": {
      "text/html": [
       "<div>\n",
       "<table border=\"1\" class=\"dataframe\">\n",
       "  <thead>\n",
       "    <tr style=\"text-align: right;\">\n",
       "      <th>year</th>\n",
       "      <th>1949</th>\n",
       "      <th>1950</th>\n",
       "      <th>1951</th>\n",
       "      <th>1952</th>\n",
       "      <th>1953</th>\n",
       "      <th>1954</th>\n",
       "      <th>1955</th>\n",
       "      <th>1956</th>\n",
       "      <th>1957</th>\n",
       "      <th>1958</th>\n",
       "      <th>1959</th>\n",
       "      <th>1960</th>\n",
       "    </tr>\n",
       "    <tr>\n",
       "      <th>month</th>\n",
       "      <th></th>\n",
       "      <th></th>\n",
       "      <th></th>\n",
       "      <th></th>\n",
       "      <th></th>\n",
       "      <th></th>\n",
       "      <th></th>\n",
       "      <th></th>\n",
       "      <th></th>\n",
       "      <th></th>\n",
       "      <th></th>\n",
       "      <th></th>\n",
       "    </tr>\n",
       "  </thead>\n",
       "  <tbody>\n",
       "    <tr>\n",
       "      <th>January</th>\n",
       "      <td>112</td>\n",
       "      <td>115</td>\n",
       "      <td>145</td>\n",
       "      <td>171</td>\n",
       "      <td>196</td>\n",
       "      <td>204</td>\n",
       "      <td>242</td>\n",
       "      <td>284</td>\n",
       "      <td>315</td>\n",
       "      <td>340</td>\n",
       "      <td>360</td>\n",
       "      <td>417</td>\n",
       "    </tr>\n",
       "    <tr>\n",
       "      <th>February</th>\n",
       "      <td>118</td>\n",
       "      <td>126</td>\n",
       "      <td>150</td>\n",
       "      <td>180</td>\n",
       "      <td>196</td>\n",
       "      <td>188</td>\n",
       "      <td>233</td>\n",
       "      <td>277</td>\n",
       "      <td>301</td>\n",
       "      <td>318</td>\n",
       "      <td>342</td>\n",
       "      <td>391</td>\n",
       "    </tr>\n",
       "    <tr>\n",
       "      <th>March</th>\n",
       "      <td>132</td>\n",
       "      <td>141</td>\n",
       "      <td>178</td>\n",
       "      <td>193</td>\n",
       "      <td>236</td>\n",
       "      <td>235</td>\n",
       "      <td>267</td>\n",
       "      <td>317</td>\n",
       "      <td>356</td>\n",
       "      <td>362</td>\n",
       "      <td>406</td>\n",
       "      <td>419</td>\n",
       "    </tr>\n",
       "    <tr>\n",
       "      <th>April</th>\n",
       "      <td>129</td>\n",
       "      <td>135</td>\n",
       "      <td>163</td>\n",
       "      <td>181</td>\n",
       "      <td>235</td>\n",
       "      <td>227</td>\n",
       "      <td>269</td>\n",
       "      <td>313</td>\n",
       "      <td>348</td>\n",
       "      <td>348</td>\n",
       "      <td>396</td>\n",
       "      <td>461</td>\n",
       "    </tr>\n",
       "    <tr>\n",
       "      <th>May</th>\n",
       "      <td>121</td>\n",
       "      <td>125</td>\n",
       "      <td>172</td>\n",
       "      <td>183</td>\n",
       "      <td>229</td>\n",
       "      <td>234</td>\n",
       "      <td>270</td>\n",
       "      <td>318</td>\n",
       "      <td>355</td>\n",
       "      <td>363</td>\n",
       "      <td>420</td>\n",
       "      <td>472</td>\n",
       "    </tr>\n",
       "  </tbody>\n",
       "</table>\n",
       "</div>"
      ],
      "text/plain": [
       "year      1949  1950  1951  1952  1953  1954  1955  1956  1957  1958  1959  \\\n",
       "month                                                                        \n",
       "January    112   115   145   171   196   204   242   284   315   340   360   \n",
       "February   118   126   150   180   196   188   233   277   301   318   342   \n",
       "March      132   141   178   193   236   235   267   317   356   362   406   \n",
       "April      129   135   163   181   235   227   269   313   348   348   396   \n",
       "May        121   125   172   183   229   234   270   318   355   363   420   \n",
       "\n",
       "year      1960  \n",
       "month           \n",
       "January    417  \n",
       "February   391  \n",
       "March      419  \n",
       "April      461  \n",
       "May        472  "
      ]
     },
     "execution_count": 6,
     "metadata": {},
     "output_type": "execute_result"
    }
   ],
   "source": [
    "flights = flights.pivot(\"month\", \"year\", \"passengers\")\n",
    "flights.head()"
   ]
  },
  {
   "cell_type": "code",
   "execution_count": null,
   "metadata": {
    "collapsed": true
   },
   "outputs": [],
   "source": [
    "# Group bu RUCC and measure the average\n",
    "df_group = df.groupby('RUCC').mean().loc[:,['high_school_or_less','poverty','unemployment']]\n",
    "\n",
    "# Plot the average of less than high school, poverty, and unemployment across the nine RUCC\n",
    "plt.plot(df_group,'--D')\n",
    "plt.legend(df_group.columns,loc='lower left',bbox_to_anchor=(1,0))\n",
    "plt.xlabel('RUCC',fontsize = 20)\n",
    "plt.ylabel('percentage',fontsize = 20)\n",
    "plt.title('Average percentage of population with high school diploma or less,\\n \\\n",
    "poverty and unemployment across nine RUCC',fontsize = 20)\n",
    "plt.show()"
   ]
  },
  {
   "cell_type": "code",
   "execution_count": null,
   "metadata": {
    "collapsed": true
   },
   "outputs": [],
   "source": []
  }
 ],
 "metadata": {
  "kernelspec": {
   "display_name": "Python 3",
   "language": "python",
   "name": "python3"
  },
  "language_info": {
   "codemirror_mode": {
    "name": "ipython",
    "version": 3
   },
   "file_extension": ".py",
   "mimetype": "text/x-python",
   "name": "python",
   "nbconvert_exporter": "python",
   "pygments_lexer": "ipython3",
   "version": "3.6.6"
  }
 },
 "nbformat": 4,
 "nbformat_minor": 2
}
