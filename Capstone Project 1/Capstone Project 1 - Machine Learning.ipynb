{
 "cells": [
  {
   "cell_type": "markdown",
   "metadata": {},
   "source": [
    "### Preliminary Actions: Read the dataset from csv file first. Then create the features DataFrame and the response variable Series. Create dummy variables for geographical regions and rural-urban continuum codes (RUCC).  At the end, create train and test sets."
   ]
  },
  {
   "cell_type": "code",
   "execution_count": 1,
   "metadata": {},
   "outputs": [
    {
     "name": "stdout",
     "output_type": "stream",
     "text": [
      "The first five rows of X are\n",
      "    less_than_high_school  high_school_diploma  bachelors/higher  unemployment  \\\n",
      "0                 12.417               34.331            24.593           5.1   \n",
      "1                  9.972               28.692            29.547           5.4   \n",
      "2                 26.236               34.927            12.868           8.4   \n",
      "3                 19.302               41.816            12.000           6.5   \n",
      "4                 19.969               32.942            13.050           5.4   \n",
      "\n",
      "   region_Northeast  region_South  region_West  RUCC_1  RUCC_2  RUCC_3  \\\n",
      "0                 0             1            0       0       1       0   \n",
      "1                 0             1            0       0       0       1   \n",
      "2                 0             1            0       0       0       0   \n",
      "3                 0             1            0       1       0       0   \n",
      "4                 0             1            0       1       0       0   \n",
      "\n",
      "   RUCC_4  RUCC_5  RUCC_6  RUCC_7  RUCC_8  \n",
      "0       0       0       0       0       0  \n",
      "1       0       0       0       0       0  \n",
      "2       0       0       1       0       0  \n",
      "3       0       0       0       0       0  \n",
      "4       0       0       0       0       0  \n"
     ]
    }
   ],
   "source": [
    "# There are many warnings regarding the updates in the future releases of the libraries. Ignore them.\n",
    "import warnings\n",
    "warnings.filterwarnings(\"ignore\")\n",
    "\n",
    "# Improt necessary libraries\n",
    "import matplotlib.pyplot as plt\n",
    "import pandas as pd\n",
    "import numpy as np\n",
    "import statsmodels.api as sm\n",
    "import scipy.stats as stats\n",
    "from sklearn.model_selection import cross_val_score\n",
    "from sklearn.model_selection import train_test_split\n",
    "from sklearn.model_selection import GridSearchCV\n",
    "from sklearn.linear_model import LinearRegression\n",
    "from sklearn.preprocessing import PolynomialFeatures\n",
    "from sklearn.pipeline import make_pipeline\n",
    "from sklearn.ensemble import RandomForestRegressor\n",
    "from sklearn.cluster import KMeans\n",
    "from sklearn.model_selection import KFold\n",
    "import seaborn as sns\n",
    "\n",
    "# Load the data set\n",
    "df = pd.read_csv('wrangled_data.csv')\n",
    "\n",
    "# define the features DataFrame and the target variable Series\n",
    "X = df.drop(['state','county','poverty'],axis=1)\n",
    "y = df['poverty']\n",
    "\n",
    "# Transform RUCC column from integer to string to be able to create dummy variables\n",
    "X.RUCC = X.RUCC.astype('str')\n",
    "\n",
    "# Create dummy variables for region and RUCC\n",
    "X = pd.get_dummies(X)\n",
    "\n",
    "# drop one column of the dummy variables for each categorical variable to avoid collinearity. I remove Midwest and RUCC_9.\n",
    "# Also, the sum of the four education levels is 100 and one of them must be removed to avoid collinearity.\n",
    "# I pick college/associate_degree and remove it\n",
    "\n",
    "X.drop(['region_Midwest','RUCC_9','college/associate_degree'],axis=1,inplace=True)\n",
    "\n",
    "# print the first five rows of X\n",
    "print('The first five rows of X are\\n',X.head())\n",
    "# X.head()\n",
    "# Split data into train and test\n",
    "X_train, X_test, y_train, y_test = train_test_split(X,y,test_size=0.2,random_state=21)"
   ]
  },
  {
   "cell_type": "markdown",
   "metadata": {},
   "source": [
    "### Step 1: Build a linear model"
   ]
  },
  {
   "cell_type": "markdown",
   "metadata": {},
   "source": [
    "#### 1.1) Run cross-validation and average the scores."
   ]
  },
  {
   "cell_type": "code",
   "execution_count": 3,
   "metadata": {},
   "outputs": [
    {
     "name": "stdout",
     "output_type": "stream",
     "text": [
      "The average of 5-fold cross-validation scores for the linear model is 0.589\n"
     ]
    }
   ],
   "source": [
    "# Build the linear model \n",
    "model = LinearRegression()\n",
    "\n",
    "# Run cross-validation and print the average of scores\n",
    "scores = cross_val_score(model,X_train,y_train,cv=5)\n",
    "print('The average of 5-fold cross-validation scores for the linear model is %.3f'%np.mean(scores))"
   ]
  },
  {
   "cell_type": "markdown",
   "metadata": {},
   "source": [
    "#### 1.2) Examine if removing outliers will result in a model with a better performance in prediction. In order to do so, split X_train into 5 folds. Run five tests; in each test, leave one fold out, remove the outliers from the rest and fit a linear model on them. Then, find the score of the model in predicting the left-out fold. At the end, average the five scores and compare it with the average of 5-fold cross-validation scores for the linear model with no removed outliers in step 1.1.\n",
    "\n",
    "#### P.S.  I consider a data point an outlier if the the absolute value of the external studentized residual corresponding to that point is more than 3. I pick 3 because more than 99% of the observations for a normal distribution fall within 3 standard deviation of the mean."
   ]
  },
  {
   "cell_type": "code",
   "execution_count": 4,
   "metadata": {},
   "outputs": [
    {
     "name": "stdout",
     "output_type": "stream",
     "text": [
      "The average of five scores is 0.590\n"
     ]
    }
   ],
   "source": [
    "# Create KFold\n",
    "kf = KFold(n_splits = 5)\n",
    "score = np.empty([5])\n",
    "i = 0\n",
    "# Loop over the splits of the train set  \n",
    "for train_index, test_index in kf.split(X_train):\n",
    "    X_train_kf = X_train.iloc[train_index]\n",
    "    X_test_kf = X_train.iloc[test_index]\n",
    "    y_train_kf = y_train.iloc[train_index]\n",
    "    y_test_kf = y_train.iloc[test_index]\n",
    "    # fit the model on the X_train_kf and y_train_kf\n",
    "    model = sm.OLS(y_train_kf,X_train_kf).fit()\n",
    "    # Define the influence array and create a panda Series with the external studentized residuals\n",
    "    infl = model.get_influence()\n",
    "    p = pd.Series(infl.resid_studentized_external,index=X_train_kf.index)\n",
    "    # Remove the outliers from X_train_kf and y_train_kf\n",
    "    X_reduced=X_train_kf.loc[p[np.abs(p)<=3].index]\n",
    "    y_reduced=y_train_kf.loc[p[np.abs(p)<=3].index]\n",
    "    # Build the classifier on X_reduced and y_reduced, and calculate the score of the model predicting the left-out fold\n",
    "    clf = LinearRegression()\n",
    "    clf.fit(X_reduced,y_reduced)\n",
    "    score[i] = clf.score(X_test_kf,y_test_kf)\n",
    "    i += 1\n",
    "# Print the average of five scores\n",
    "print('The average of five scores is %.3f'%np.mean(score))"
   ]
  },
  {
   "cell_type": "markdown",
   "metadata": {},
   "source": [
    "#### Observation: The average of five scores is 0.590 which is only 0.001 more than the averaged score of the linear model developed in step 1 for which no outliers were removed. Therefore, removing outliers does not improve the performance of the linear model in prediction."
   ]
  },
  {
   "cell_type": "markdown",
   "metadata": {},
   "source": [
    "#### 1.3) Add second-degree interaction and nonlinear terms to the linear model. Then, run 5-fold cross-validation and average the scores. "
   ]
  },
  {
   "cell_type": "code",
   "execution_count": 5,
   "metadata": {},
   "outputs": [
    {
     "name": "stdout",
     "output_type": "stream",
     "text": [
      "The average of 5-fold cross-validation scores for the linear model which includes second-degree nonlinear and interaction terms is 0.599\n"
     ]
    }
   ],
   "source": [
    "# Create linear regression and second-degree polynomial features, and use pipeline\n",
    "linear = LinearRegression()\n",
    "poly = PolynomialFeatures(degree = 2, interaction_only = False)\n",
    "pipeline = make_pipeline(poly, linear)\n",
    "\n",
    "# Run cross-validation and print the average of scores\n",
    "scores = cross_val_score(pipeline,X_train,y_train,cv=5)\n",
    "print('The average of 5-fold cross-validation scores for the linear model which includes second-degree\\\n",
    " nonlinear and interaction terms is %.3f'%np.mean(scores))"
   ]
  },
  {
   "cell_type": "markdown",
   "metadata": {},
   "source": [
    "#### Observation: The average of 5-fold cross-validation scores after adding second-degree nonlinear and interaction terms to the linear model have increased by 0.010 compared to the linear model without those terms (0.599 compared to 0.589). Since the number of features have increased from 15 to 135, the improvement in the score is artificial and is not reliable. Therefore, adding second-degree nonlinear and interaction terms to the linear model does not improve the performance of the linear model in prediction."
   ]
  },
  {
   "cell_type": "markdown",
   "metadata": {},
   "source": [
    "#### 1.4) Fit the linear model (with no nonlinear and interaction terms) on the entire train set (without removing the outliers) and test it on the test set to find the test score. "
   ]
  },
  {
   "cell_type": "code",
   "execution_count": 2,
   "metadata": {},
   "outputs": [
    {
     "name": "stdout",
     "output_type": "stream",
     "text": [
      "The test score for the linear model is 0.572\n"
     ]
    }
   ],
   "source": [
    "# Build the linear model, fit it on the train set\n",
    "linear = LinearRegression()\n",
    "linear.fit(X_train,y_train)\n",
    "\n",
    "# Find the test score and print it\n",
    "score = linear.score(X_test,y_test)\n",
    "print('The test score for the linear model is %.3f'%score)"
   ]
  },
  {
   "cell_type": "code",
   "execution_count": 3,
   "metadata": {},
   "outputs": [
    {
     "data": {
      "text/plain": [
       "array([ 0.48045518,  0.07418401,  0.0803422 ,  1.14299717, -0.82670217,\n",
       "        1.27110001,  0.22806483, -3.85180564, -1.82402176, -1.11628727,\n",
       "       -0.93507498, -0.01574991, -1.12488277, -0.3574059 , -0.57405267])"
      ]
     },
     "execution_count": 3,
     "metadata": {},
     "output_type": "execute_result"
    }
   ],
   "source": [
    "linear.coef_"
   ]
  },
  {
   "cell_type": "code",
   "execution_count": 4,
   "metadata": {},
   "outputs": [
    {
     "data": {
      "text/html": [
       "<div>\n",
       "<style scoped>\n",
       "    .dataframe tbody tr th:only-of-type {\n",
       "        vertical-align: middle;\n",
       "    }\n",
       "\n",
       "    .dataframe tbody tr th {\n",
       "        vertical-align: top;\n",
       "    }\n",
       "\n",
       "    .dataframe thead th {\n",
       "        text-align: right;\n",
       "    }\n",
       "</style>\n",
       "<table border=\"1\" class=\"dataframe\">\n",
       "  <thead>\n",
       "    <tr style=\"text-align: right;\">\n",
       "      <th></th>\n",
       "      <th>coefficient</th>\n",
       "    </tr>\n",
       "  </thead>\n",
       "  <tbody>\n",
       "    <tr>\n",
       "      <th>less_than_high_school</th>\n",
       "      <td>0.480455</td>\n",
       "    </tr>\n",
       "    <tr>\n",
       "      <th>high_school_diploma</th>\n",
       "      <td>0.074184</td>\n",
       "    </tr>\n",
       "    <tr>\n",
       "      <th>bachelors/higher</th>\n",
       "      <td>0.080342</td>\n",
       "    </tr>\n",
       "    <tr>\n",
       "      <th>unemployment</th>\n",
       "      <td>1.142997</td>\n",
       "    </tr>\n",
       "    <tr>\n",
       "      <th>region_Northeast</th>\n",
       "      <td>-0.826702</td>\n",
       "    </tr>\n",
       "    <tr>\n",
       "      <th>region_South</th>\n",
       "      <td>1.271100</td>\n",
       "    </tr>\n",
       "    <tr>\n",
       "      <th>region_West</th>\n",
       "      <td>0.228065</td>\n",
       "    </tr>\n",
       "    <tr>\n",
       "      <th>RUCC_1</th>\n",
       "      <td>-3.851806</td>\n",
       "    </tr>\n",
       "    <tr>\n",
       "      <th>RUCC_2</th>\n",
       "      <td>-1.824022</td>\n",
       "    </tr>\n",
       "    <tr>\n",
       "      <th>RUCC_3</th>\n",
       "      <td>-1.116287</td>\n",
       "    </tr>\n",
       "    <tr>\n",
       "      <th>RUCC_4</th>\n",
       "      <td>-0.935075</td>\n",
       "    </tr>\n",
       "    <tr>\n",
       "      <th>RUCC_5</th>\n",
       "      <td>-0.015750</td>\n",
       "    </tr>\n",
       "    <tr>\n",
       "      <th>RUCC_6</th>\n",
       "      <td>-1.124883</td>\n",
       "    </tr>\n",
       "    <tr>\n",
       "      <th>RUCC_7</th>\n",
       "      <td>-0.357406</td>\n",
       "    </tr>\n",
       "    <tr>\n",
       "      <th>RUCC_8</th>\n",
       "      <td>-0.574053</td>\n",
       "    </tr>\n",
       "  </tbody>\n",
       "</table>\n",
       "</div>"
      ],
      "text/plain": [
       "                       coefficient\n",
       "less_than_high_school     0.480455\n",
       "high_school_diploma       0.074184\n",
       "bachelors/higher          0.080342\n",
       "unemployment              1.142997\n",
       "region_Northeast         -0.826702\n",
       "region_South              1.271100\n",
       "region_West               0.228065\n",
       "RUCC_1                   -3.851806\n",
       "RUCC_2                   -1.824022\n",
       "RUCC_3                   -1.116287\n",
       "RUCC_4                   -0.935075\n",
       "RUCC_5                   -0.015750\n",
       "RUCC_6                   -1.124883\n",
       "RUCC_7                   -0.357406\n",
       "RUCC_8                   -0.574053"
      ]
     },
     "execution_count": 4,
     "metadata": {},
     "output_type": "execute_result"
    }
   ],
   "source": [
    "pd.DataFrame(np.transpose(linear.coef_),columns=['coefficient'],index=X_train.columns)"
   ]
  },
  {
   "cell_type": "markdown",
   "metadata": {},
   "source": [
    "#### 1.5) Build the final linear model by fitting the linear model to the entire data set, and then, simplify the model by removing the features with p-value less than 0.05"
   ]
  },
  {
   "cell_type": "code",
   "execution_count": 7,
   "metadata": {},
   "outputs": [
    {
     "data": {
      "text/html": [
       "<table class=\"simpletable\">\n",
       "<caption>OLS Regression Results</caption>\n",
       "<tr>\n",
       "  <th>Dep. Variable:</th>         <td>poverty</td>     <th>  R-squared:         </th> <td>   0.596</td> \n",
       "</tr>\n",
       "<tr>\n",
       "  <th>Model:</th>                   <td>OLS</td>       <th>  Adj. R-squared:    </th> <td>   0.595</td> \n",
       "</tr>\n",
       "<tr>\n",
       "  <th>Method:</th>             <td>Least Squares</td>  <th>  F-statistic:       </th> <td>   308.0</td> \n",
       "</tr>\n",
       "<tr>\n",
       "  <th>Date:</th>             <td>Tue, 08 Jan 2019</td> <th>  Prob (F-statistic):</th>  <td>  0.00</td>  \n",
       "</tr>\n",
       "<tr>\n",
       "  <th>Time:</th>                 <td>21:56:51</td>     <th>  Log-Likelihood:    </th> <td> -8804.6</td> \n",
       "</tr>\n",
       "<tr>\n",
       "  <th>No. Observations:</th>      <td>  3141</td>      <th>  AIC:               </th> <td>1.764e+04</td>\n",
       "</tr>\n",
       "<tr>\n",
       "  <th>Df Residuals:</th>          <td>  3125</td>      <th>  BIC:               </th> <td>1.774e+04</td>\n",
       "</tr>\n",
       "<tr>\n",
       "  <th>Df Model:</th>              <td>    15</td>      <th>                     </th>     <td> </td>    \n",
       "</tr>\n",
       "<tr>\n",
       "  <th>Covariance Type:</th>      <td>nonrobust</td>    <th>                     </th>     <td> </td>    \n",
       "</tr>\n",
       "</table>\n",
       "<table class=\"simpletable\">\n",
       "<tr>\n",
       "            <td></td>               <th>coef</th>     <th>std err</th>      <th>t</th>      <th>P>|t|</th>  <th>[0.025</th>    <th>0.975]</th>  \n",
       "</tr>\n",
       "<tr>\n",
       "  <th>const</th>                 <td>    0.3142</td> <td>    1.200</td> <td>    0.262</td> <td> 0.794</td> <td>   -2.039</td> <td>    2.668</td>\n",
       "</tr>\n",
       "<tr>\n",
       "  <th>less_than_high_school</th> <td>    0.4564</td> <td>    0.019</td> <td>   23.494</td> <td> 0.000</td> <td>    0.418</td> <td>    0.494</td>\n",
       "</tr>\n",
       "<tr>\n",
       "  <th>high_school_diploma</th>   <td>    0.0698</td> <td>    0.020</td> <td>    3.510</td> <td> 0.000</td> <td>    0.031</td> <td>    0.109</td>\n",
       "</tr>\n",
       "<tr>\n",
       "  <th>bachelors/higher</th>      <td>    0.0658</td> <td>    0.019</td> <td>    3.488</td> <td> 0.000</td> <td>    0.029</td> <td>    0.103</td>\n",
       "</tr>\n",
       "<tr>\n",
       "  <th>unemployment</th>          <td>    1.1189</td> <td>    0.045</td> <td>   24.838</td> <td> 0.000</td> <td>    1.031</td> <td>    1.207</td>\n",
       "</tr>\n",
       "<tr>\n",
       "  <th>region_Northeast</th>      <td>   -0.7552</td> <td>    0.326</td> <td>   -2.318</td> <td> 0.021</td> <td>   -1.394</td> <td>   -0.116</td>\n",
       "</tr>\n",
       "<tr>\n",
       "  <th>region_South</th>          <td>    1.4138</td> <td>    0.201</td> <td>    7.029</td> <td> 0.000</td> <td>    1.019</td> <td>    1.808</td>\n",
       "</tr>\n",
       "<tr>\n",
       "  <th>region_West</th>           <td>    0.2012</td> <td>    0.247</td> <td>    0.815</td> <td> 0.415</td> <td>   -0.283</td> <td>    0.685</td>\n",
       "</tr>\n",
       "<tr>\n",
       "  <th>RUCC_1</th>                <td>   -3.7075</td> <td>    0.298</td> <td>  -12.436</td> <td> 0.000</td> <td>   -4.292</td> <td>   -3.123</td>\n",
       "</tr>\n",
       "<tr>\n",
       "  <th>RUCC_2</th>                <td>   -1.7199</td> <td>    0.295</td> <td>   -5.833</td> <td> 0.000</td> <td>   -2.298</td> <td>   -1.142</td>\n",
       "</tr>\n",
       "<tr>\n",
       "  <th>RUCC_3</th>                <td>   -1.0505</td> <td>    0.294</td> <td>   -3.575</td> <td> 0.000</td> <td>   -1.627</td> <td>   -0.474</td>\n",
       "</tr>\n",
       "<tr>\n",
       "  <th>RUCC_4</th>                <td>   -0.6803</td> <td>    0.340</td> <td>   -2.001</td> <td> 0.045</td> <td>   -1.347</td> <td>   -0.014</td>\n",
       "</tr>\n",
       "<tr>\n",
       "  <th>RUCC_5</th>                <td>    0.0143</td> <td>    0.464</td> <td>    0.031</td> <td> 0.975</td> <td>   -0.895</td> <td>    0.923</td>\n",
       "</tr>\n",
       "<tr>\n",
       "  <th>RUCC_6</th>                <td>   -0.8853</td> <td>    0.259</td> <td>   -3.421</td> <td> 0.001</td> <td>   -1.393</td> <td>   -0.378</td>\n",
       "</tr>\n",
       "<tr>\n",
       "  <th>RUCC_7</th>                <td>   -0.4584</td> <td>    0.275</td> <td>   -1.666</td> <td> 0.096</td> <td>   -0.998</td> <td>    0.081</td>\n",
       "</tr>\n",
       "<tr>\n",
       "  <th>RUCC_8</th>                <td>   -0.4698</td> <td>    0.335</td> <td>   -1.401</td> <td> 0.161</td> <td>   -1.127</td> <td>    0.187</td>\n",
       "</tr>\n",
       "</table>\n",
       "<table class=\"simpletable\">\n",
       "<tr>\n",
       "  <th>Omnibus:</th>       <td>726.215</td> <th>  Durbin-Watson:     </th> <td>   1.710</td>\n",
       "</tr>\n",
       "<tr>\n",
       "  <th>Prob(Omnibus):</th> <td> 0.000</td>  <th>  Jarque-Bera (JB):  </th> <td>4505.334</td>\n",
       "</tr>\n",
       "<tr>\n",
       "  <th>Skew:</th>          <td> 0.949</td>  <th>  Prob(JB):          </th> <td>    0.00</td>\n",
       "</tr>\n",
       "<tr>\n",
       "  <th>Kurtosis:</th>      <td> 8.552</td>  <th>  Cond. No.          </th> <td>    733.</td>\n",
       "</tr>\n",
       "</table><br/><br/>Warnings:<br/>[1] Standard Errors assume that the covariance matrix of the errors is correctly specified."
      ],
      "text/plain": [
       "<class 'statsmodels.iolib.summary.Summary'>\n",
       "\"\"\"\n",
       "                            OLS Regression Results                            \n",
       "==============================================================================\n",
       "Dep. Variable:                poverty   R-squared:                       0.596\n",
       "Model:                            OLS   Adj. R-squared:                  0.595\n",
       "Method:                 Least Squares   F-statistic:                     308.0\n",
       "Date:                Tue, 08 Jan 2019   Prob (F-statistic):               0.00\n",
       "Time:                        21:56:51   Log-Likelihood:                -8804.6\n",
       "No. Observations:                3141   AIC:                         1.764e+04\n",
       "Df Residuals:                    3125   BIC:                         1.774e+04\n",
       "Df Model:                          15                                         \n",
       "Covariance Type:            nonrobust                                         \n",
       "=========================================================================================\n",
       "                            coef    std err          t      P>|t|      [0.025      0.975]\n",
       "-----------------------------------------------------------------------------------------\n",
       "const                     0.3142      1.200      0.262      0.794      -2.039       2.668\n",
       "less_than_high_school     0.4564      0.019     23.494      0.000       0.418       0.494\n",
       "high_school_diploma       0.0698      0.020      3.510      0.000       0.031       0.109\n",
       "bachelors/higher          0.0658      0.019      3.488      0.000       0.029       0.103\n",
       "unemployment              1.1189      0.045     24.838      0.000       1.031       1.207\n",
       "region_Northeast         -0.7552      0.326     -2.318      0.021      -1.394      -0.116\n",
       "region_South              1.4138      0.201      7.029      0.000       1.019       1.808\n",
       "region_West               0.2012      0.247      0.815      0.415      -0.283       0.685\n",
       "RUCC_1                   -3.7075      0.298    -12.436      0.000      -4.292      -3.123\n",
       "RUCC_2                   -1.7199      0.295     -5.833      0.000      -2.298      -1.142\n",
       "RUCC_3                   -1.0505      0.294     -3.575      0.000      -1.627      -0.474\n",
       "RUCC_4                   -0.6803      0.340     -2.001      0.045      -1.347      -0.014\n",
       "RUCC_5                    0.0143      0.464      0.031      0.975      -0.895       0.923\n",
       "RUCC_6                   -0.8853      0.259     -3.421      0.001      -1.393      -0.378\n",
       "RUCC_7                   -0.4584      0.275     -1.666      0.096      -0.998       0.081\n",
       "RUCC_8                   -0.4698      0.335     -1.401      0.161      -1.127       0.187\n",
       "==============================================================================\n",
       "Omnibus:                      726.215   Durbin-Watson:                   1.710\n",
       "Prob(Omnibus):                  0.000   Jarque-Bera (JB):             4505.334\n",
       "Skew:                           0.949   Prob(JB):                         0.00\n",
       "Kurtosis:                       8.552   Cond. No.                         733.\n",
       "==============================================================================\n",
       "\n",
       "Warnings:\n",
       "[1] Standard Errors assume that the covariance matrix of the errors is correctly specified.\n",
       "\"\"\""
      ]
     },
     "execution_count": 7,
     "metadata": {},
     "output_type": "execute_result"
    }
   ],
   "source": [
    "# sm.OLS does not have constant by default\n",
    "X1 = sm.add_constant(X)\n",
    "model_linear = sm.OLS(y,X1).fit()\n",
    "\n",
    "# Print the summary of the model\n",
    "model_linear.summary()"
   ]
  },
  {
   "cell_type": "markdown",
   "metadata": {},
   "source": [
    "#### Constant, region_West, RUCC_5, RUCC_7, and RUCC_8 have p-values higher than 0.05 and can be removed from the model"
   ]
  },
  {
   "cell_type": "code",
   "execution_count": 8,
   "metadata": {},
   "outputs": [
    {
     "data": {
      "text/html": [
       "<table class=\"simpletable\">\n",
       "<caption>OLS Regression Results</caption>\n",
       "<tr>\n",
       "  <th>Dep. Variable:</th>         <td>poverty</td>     <th>  R-squared:         </th> <td>   0.946</td> \n",
       "</tr>\n",
       "<tr>\n",
       "  <th>Model:</th>                   <td>OLS</td>       <th>  Adj. R-squared:    </th> <td>   0.945</td> \n",
       "</tr>\n",
       "<tr>\n",
       "  <th>Method:</th>             <td>Least Squares</td>  <th>  F-statistic:       </th> <td>   4945.</td> \n",
       "</tr>\n",
       "<tr>\n",
       "  <th>Date:</th>             <td>Tue, 08 Jan 2019</td> <th>  Prob (F-statistic):</th>  <td>  0.00</td>  \n",
       "</tr>\n",
       "<tr>\n",
       "  <th>Time:</th>                 <td>21:57:40</td>     <th>  Log-Likelihood:    </th> <td> -8806.9</td> \n",
       "</tr>\n",
       "<tr>\n",
       "  <th>No. Observations:</th>      <td>  3141</td>      <th>  AIC:               </th> <td>1.764e+04</td>\n",
       "</tr>\n",
       "<tr>\n",
       "  <th>Df Residuals:</th>          <td>  3130</td>      <th>  BIC:               </th> <td>1.770e+04</td>\n",
       "</tr>\n",
       "<tr>\n",
       "  <th>Df Model:</th>              <td>    11</td>      <th>                     </th>     <td> </td>    \n",
       "</tr>\n",
       "<tr>\n",
       "  <th>Covariance Type:</th>      <td>nonrobust</td>    <th>                     </th>     <td> </td>    \n",
       "</tr>\n",
       "</table>\n",
       "<table class=\"simpletable\">\n",
       "<tr>\n",
       "            <td></td>               <th>coef</th>     <th>std err</th>      <th>t</th>      <th>P>|t|</th>  <th>[0.025</th>    <th>0.975]</th>  \n",
       "</tr>\n",
       "<tr>\n",
       "  <th>less_than_high_school</th> <td>    0.4584</td> <td>    0.015</td> <td>   30.662</td> <td> 0.000</td> <td>    0.429</td> <td>    0.488</td>\n",
       "</tr>\n",
       "<tr>\n",
       "  <th>high_school_diploma</th>   <td>    0.0698</td> <td>    0.007</td> <td>    9.938</td> <td> 0.000</td> <td>    0.056</td> <td>    0.084</td>\n",
       "</tr>\n",
       "<tr>\n",
       "  <th>bachelors/higher</th>      <td>    0.0693</td> <td>    0.007</td> <td>    9.907</td> <td> 0.000</td> <td>    0.056</td> <td>    0.083</td>\n",
       "</tr>\n",
       "<tr>\n",
       "  <th>unemployment</th>          <td>    1.1255</td> <td>    0.043</td> <td>   26.010</td> <td> 0.000</td> <td>    1.041</td> <td>    1.210</td>\n",
       "</tr>\n",
       "<tr>\n",
       "  <th>region_Northeast</th>      <td>   -0.8608</td> <td>    0.300</td> <td>   -2.869</td> <td> 0.004</td> <td>   -1.449</td> <td>   -0.272</td>\n",
       "</tr>\n",
       "<tr>\n",
       "  <th>region_South</th>          <td>    1.3240</td> <td>    0.180</td> <td>    7.347</td> <td> 0.000</td> <td>    0.971</td> <td>    1.677</td>\n",
       "</tr>\n",
       "<tr>\n",
       "  <th>RUCC_1</th>                <td>   -3.4688</td> <td>    0.250</td> <td>  -13.866</td> <td> 0.000</td> <td>   -3.959</td> <td>   -2.978</td>\n",
       "</tr>\n",
       "<tr>\n",
       "  <th>RUCC_2</th>                <td>   -1.4631</td> <td>    0.247</td> <td>   -5.935</td> <td> 0.000</td> <td>   -1.947</td> <td>   -0.980</td>\n",
       "</tr>\n",
       "<tr>\n",
       "  <th>RUCC_3</th>                <td>   -0.7966</td> <td>    0.247</td> <td>   -3.224</td> <td> 0.001</td> <td>   -1.281</td> <td>   -0.312</td>\n",
       "</tr>\n",
       "<tr>\n",
       "  <th>RUCC_4</th>                <td>   -0.4238</td> <td>    0.300</td> <td>   -1.413</td> <td> 0.158</td> <td>   -1.012</td> <td>    0.164</td>\n",
       "</tr>\n",
       "<tr>\n",
       "  <th>RUCC_6</th>                <td>   -0.6279</td> <td>    0.205</td> <td>   -3.068</td> <td> 0.002</td> <td>   -1.029</td> <td>   -0.227</td>\n",
       "</tr>\n",
       "</table>\n",
       "<table class=\"simpletable\">\n",
       "<tr>\n",
       "  <th>Omnibus:</th>       <td>724.816</td> <th>  Durbin-Watson:     </th> <td>   1.707</td>\n",
       "</tr>\n",
       "<tr>\n",
       "  <th>Prob(Omnibus):</th> <td> 0.000</td>  <th>  Jarque-Bera (JB):  </th> <td>4469.600</td>\n",
       "</tr>\n",
       "<tr>\n",
       "  <th>Skew:</th>          <td> 0.949</td>  <th>  Prob(JB):          </th> <td>    0.00</td>\n",
       "</tr>\n",
       "<tr>\n",
       "  <th>Kurtosis:</th>      <td> 8.527</td>  <th>  Cond. No.          </th> <td>    224.</td>\n",
       "</tr>\n",
       "</table><br/><br/>Warnings:<br/>[1] Standard Errors assume that the covariance matrix of the errors is correctly specified."
      ],
      "text/plain": [
       "<class 'statsmodels.iolib.summary.Summary'>\n",
       "\"\"\"\n",
       "                            OLS Regression Results                            \n",
       "==============================================================================\n",
       "Dep. Variable:                poverty   R-squared:                       0.946\n",
       "Model:                            OLS   Adj. R-squared:                  0.945\n",
       "Method:                 Least Squares   F-statistic:                     4945.\n",
       "Date:                Tue, 08 Jan 2019   Prob (F-statistic):               0.00\n",
       "Time:                        21:57:40   Log-Likelihood:                -8806.9\n",
       "No. Observations:                3141   AIC:                         1.764e+04\n",
       "Df Residuals:                    3130   BIC:                         1.770e+04\n",
       "Df Model:                          11                                         \n",
       "Covariance Type:            nonrobust                                         \n",
       "=========================================================================================\n",
       "                            coef    std err          t      P>|t|      [0.025      0.975]\n",
       "-----------------------------------------------------------------------------------------\n",
       "less_than_high_school     0.4584      0.015     30.662      0.000       0.429       0.488\n",
       "high_school_diploma       0.0698      0.007      9.938      0.000       0.056       0.084\n",
       "bachelors/higher          0.0693      0.007      9.907      0.000       0.056       0.083\n",
       "unemployment              1.1255      0.043     26.010      0.000       1.041       1.210\n",
       "region_Northeast         -0.8608      0.300     -2.869      0.004      -1.449      -0.272\n",
       "region_South              1.3240      0.180      7.347      0.000       0.971       1.677\n",
       "RUCC_1                   -3.4688      0.250    -13.866      0.000      -3.959      -2.978\n",
       "RUCC_2                   -1.4631      0.247     -5.935      0.000      -1.947      -0.980\n",
       "RUCC_3                   -0.7966      0.247     -3.224      0.001      -1.281      -0.312\n",
       "RUCC_4                   -0.4238      0.300     -1.413      0.158      -1.012       0.164\n",
       "RUCC_6                   -0.6279      0.205     -3.068      0.002      -1.029      -0.227\n",
       "==============================================================================\n",
       "Omnibus:                      724.816   Durbin-Watson:                   1.707\n",
       "Prob(Omnibus):                  0.000   Jarque-Bera (JB):             4469.600\n",
       "Skew:                           0.949   Prob(JB):                         0.00\n",
       "Kurtosis:                       8.527   Cond. No.                         224.\n",
       "==============================================================================\n",
       "\n",
       "Warnings:\n",
       "[1] Standard Errors assume that the covariance matrix of the errors is correctly specified.\n",
       "\"\"\""
      ]
     },
     "execution_count": 8,
     "metadata": {},
     "output_type": "execute_result"
    }
   ],
   "source": [
    "# drop constant, Region_West, RUCC_5, RUCC_7, and RUCC_8 from X1\n",
    "X1.drop(['const','region_West','RUCC_5','RUCC_7','RUCC_8'],axis=1,inplace=True)\n",
    "# Build the linear model with new X1 and print p-values\n",
    "model_linear = sm.OLS(y,X1).fit()\n",
    "model_linear.summary()"
   ]
  },
  {
   "cell_type": "markdown",
   "metadata": {},
   "source": [
    "#### RUCC_4 has a p-value of higher than 0.05 in the new model and can be removed."
   ]
  },
  {
   "cell_type": "code",
   "execution_count": 9,
   "metadata": {},
   "outputs": [
    {
     "data": {
      "text/html": [
       "<table class=\"simpletable\">\n",
       "<caption>OLS Regression Results</caption>\n",
       "<tr>\n",
       "  <th>Dep. Variable:</th>         <td>poverty</td>     <th>  R-squared:         </th> <td>   0.946</td> \n",
       "</tr>\n",
       "<tr>\n",
       "  <th>Model:</th>                   <td>OLS</td>       <th>  Adj. R-squared:    </th> <td>   0.945</td> \n",
       "</tr>\n",
       "<tr>\n",
       "  <th>Method:</th>             <td>Least Squares</td>  <th>  F-statistic:       </th> <td>   5437.</td> \n",
       "</tr>\n",
       "<tr>\n",
       "  <th>Date:</th>             <td>Tue, 08 Jan 2019</td> <th>  Prob (F-statistic):</th>  <td>  0.00</td>  \n",
       "</tr>\n",
       "<tr>\n",
       "  <th>Time:</th>                 <td>21:57:59</td>     <th>  Log-Likelihood:    </th> <td> -8807.9</td> \n",
       "</tr>\n",
       "<tr>\n",
       "  <th>No. Observations:</th>      <td>  3141</td>      <th>  AIC:               </th> <td>1.764e+04</td>\n",
       "</tr>\n",
       "<tr>\n",
       "  <th>Df Residuals:</th>          <td>  3131</td>      <th>  BIC:               </th> <td>1.770e+04</td>\n",
       "</tr>\n",
       "<tr>\n",
       "  <th>Df Model:</th>              <td>    10</td>      <th>                     </th>     <td> </td>    \n",
       "</tr>\n",
       "<tr>\n",
       "  <th>Covariance Type:</th>      <td>nonrobust</td>    <th>                     </th>     <td> </td>    \n",
       "</tr>\n",
       "</table>\n",
       "<table class=\"simpletable\">\n",
       "<tr>\n",
       "            <td></td>               <th>coef</th>     <th>std err</th>      <th>t</th>      <th>P>|t|</th>  <th>[0.025</th>    <th>0.975]</th>  \n",
       "</tr>\n",
       "<tr>\n",
       "  <th>less_than_high_school</th> <td>    0.4586</td> <td>    0.015</td> <td>   30.668</td> <td> 0.000</td> <td>    0.429</td> <td>    0.488</td>\n",
       "</tr>\n",
       "<tr>\n",
       "  <th>high_school_diploma</th>   <td>    0.0693</td> <td>    0.007</td> <td>    9.878</td> <td> 0.000</td> <td>    0.056</td> <td>    0.083</td>\n",
       "</tr>\n",
       "<tr>\n",
       "  <th>bachelors/higher</th>      <td>    0.0680</td> <td>    0.007</td> <td>    9.804</td> <td> 0.000</td> <td>    0.054</td> <td>    0.082</td>\n",
       "</tr>\n",
       "<tr>\n",
       "  <th>unemployment</th>          <td>    1.1221</td> <td>    0.043</td> <td>   25.967</td> <td> 0.000</td> <td>    1.037</td> <td>    1.207</td>\n",
       "</tr>\n",
       "<tr>\n",
       "  <th>region_Northeast</th>      <td>   -0.9000</td> <td>    0.299</td> <td>   -3.012</td> <td> 0.003</td> <td>   -1.486</td> <td>   -0.314</td>\n",
       "</tr>\n",
       "<tr>\n",
       "  <th>region_South</th>          <td>    1.3135</td> <td>    0.180</td> <td>    7.294</td> <td> 0.000</td> <td>    0.960</td> <td>    1.667</td>\n",
       "</tr>\n",
       "<tr>\n",
       "  <th>RUCC_1</th>                <td>   -3.3891</td> <td>    0.244</td> <td>  -13.903</td> <td> 0.000</td> <td>   -3.867</td> <td>   -2.911</td>\n",
       "</tr>\n",
       "<tr>\n",
       "  <th>RUCC_2</th>                <td>   -1.3893</td> <td>    0.241</td> <td>   -5.765</td> <td> 0.000</td> <td>   -1.862</td> <td>   -0.917</td>\n",
       "</tr>\n",
       "<tr>\n",
       "  <th>RUCC_3</th>                <td>   -0.7261</td> <td>    0.242</td> <td>   -3.000</td> <td> 0.003</td> <td>   -1.201</td> <td>   -0.252</td>\n",
       "</tr>\n",
       "<tr>\n",
       "  <th>RUCC_6</th>                <td>   -0.5635</td> <td>    0.200</td> <td>   -2.824</td> <td> 0.005</td> <td>   -0.955</td> <td>   -0.172</td>\n",
       "</tr>\n",
       "</table>\n",
       "<table class=\"simpletable\">\n",
       "<tr>\n",
       "  <th>Omnibus:</th>       <td>728.522</td> <th>  Durbin-Watson:     </th> <td>   1.704</td>\n",
       "</tr>\n",
       "<tr>\n",
       "  <th>Prob(Omnibus):</th> <td> 0.000</td>  <th>  Jarque-Bera (JB):  </th> <td>4480.276</td>\n",
       "</tr>\n",
       "<tr>\n",
       "  <th>Skew:</th>          <td> 0.955</td>  <th>  Prob(JB):          </th> <td>    0.00</td>\n",
       "</tr>\n",
       "<tr>\n",
       "  <th>Kurtosis:</th>      <td> 8.530</td>  <th>  Cond. No.          </th> <td>    198.</td>\n",
       "</tr>\n",
       "</table><br/><br/>Warnings:<br/>[1] Standard Errors assume that the covariance matrix of the errors is correctly specified."
      ],
      "text/plain": [
       "<class 'statsmodels.iolib.summary.Summary'>\n",
       "\"\"\"\n",
       "                            OLS Regression Results                            \n",
       "==============================================================================\n",
       "Dep. Variable:                poverty   R-squared:                       0.946\n",
       "Model:                            OLS   Adj. R-squared:                  0.945\n",
       "Method:                 Least Squares   F-statistic:                     5437.\n",
       "Date:                Tue, 08 Jan 2019   Prob (F-statistic):               0.00\n",
       "Time:                        21:57:59   Log-Likelihood:                -8807.9\n",
       "No. Observations:                3141   AIC:                         1.764e+04\n",
       "Df Residuals:                    3131   BIC:                         1.770e+04\n",
       "Df Model:                          10                                         \n",
       "Covariance Type:            nonrobust                                         \n",
       "=========================================================================================\n",
       "                            coef    std err          t      P>|t|      [0.025      0.975]\n",
       "-----------------------------------------------------------------------------------------\n",
       "less_than_high_school     0.4586      0.015     30.668      0.000       0.429       0.488\n",
       "high_school_diploma       0.0693      0.007      9.878      0.000       0.056       0.083\n",
       "bachelors/higher          0.0680      0.007      9.804      0.000       0.054       0.082\n",
       "unemployment              1.1221      0.043     25.967      0.000       1.037       1.207\n",
       "region_Northeast         -0.9000      0.299     -3.012      0.003      -1.486      -0.314\n",
       "region_South              1.3135      0.180      7.294      0.000       0.960       1.667\n",
       "RUCC_1                   -3.3891      0.244    -13.903      0.000      -3.867      -2.911\n",
       "RUCC_2                   -1.3893      0.241     -5.765      0.000      -1.862      -0.917\n",
       "RUCC_3                   -0.7261      0.242     -3.000      0.003      -1.201      -0.252\n",
       "RUCC_6                   -0.5635      0.200     -2.824      0.005      -0.955      -0.172\n",
       "==============================================================================\n",
       "Omnibus:                      728.522   Durbin-Watson:                   1.704\n",
       "Prob(Omnibus):                  0.000   Jarque-Bera (JB):             4480.276\n",
       "Skew:                           0.955   Prob(JB):                         0.00\n",
       "Kurtosis:                       8.530   Cond. No.                         198.\n",
       "==============================================================================\n",
       "\n",
       "Warnings:\n",
       "[1] Standard Errors assume that the covariance matrix of the errors is correctly specified.\n",
       "\"\"\""
      ]
     },
     "execution_count": 9,
     "metadata": {},
     "output_type": "execute_result"
    }
   ],
   "source": [
    "# drop constant, Region_West, RUCC_5, RUCC_8, and RUCC_9 from X1\n",
    "X1.drop(['RUCC_4'],axis=1,inplace=True)\n",
    "# Build the linear model with new X1 and print p-values\n",
    "model_linear = sm.OLS(y,X1).fit()\n",
    "model_linear.summary()"
   ]
  },
  {
   "cell_type": "markdown",
   "metadata": {},
   "source": [
    "#### P.S. sm.OLS is not showing the correct value for R-squared here because  it was 0.596 before removing the features with high p-values but it is 0.946 after removing them. Such a huge jump in R-squared does not make sense. There should be some bug with the command (only regarding R-squared) when there is no constant. R-squared for the data set after removing the features with high p-value is calculated with LinearRegression here."
   ]
  },
  {
   "cell_type": "code",
   "execution_count": 17,
   "metadata": {},
   "outputs": [
    {
     "name": "stdout",
     "output_type": "stream",
     "text": [
      "The R-squared of the linear model fitted on the entire dataset after removing the features with high p-values is 0.596\n"
     ]
    }
   ],
   "source": [
    "# Build the linear model and fit it to the dataset with no region_West\n",
    "model_linear = LinearRegression()\n",
    "model_linear.fit(X1,y)\n",
    "\n",
    "# Calculate the r_squared and print it\n",
    "r_squared = model_linear.score(X1,y)\n",
    "print('The R-squared of the linear model fitted on the entire dataset after removing the features with high p-values\\\n",
    " is %.3f'%r_squared)"
   ]
  },
  {
   "cell_type": "markdown",
   "metadata": {},
   "source": [
    "#### 1.7) Examine if the assumptions associated with linear models, i.e. linearity, independent erros, and normal distribution of errors are valid. To do so, draw residual vs. fitted values plot and quantile-quantile plot."
   ]
  },
  {
   "cell_type": "code",
   "execution_count": 19,
   "metadata": {},
   "outputs": [
    {
     "data": {
      "image/png": "[encoded data removed]",
      "text/plain": [
       "<Figure size 720x432 with 1 Axes>"
      ]
     },
     "metadata": {},
     "output_type": "display_data"
    },
    {
     "data": {
      "image/png": "[encoded data removed]",
      "text/plain": [
       "<Figure size 720x432 with 1 Axes>"
      ]
     },
     "metadata": {},
     "output_type": "display_data"
    }
   ],
   "source": [
    "# Set style and context\n",
    "sns.set_style('whitegrid')\n",
    "sns.set_context('talk')\n",
    "\n",
    "#Build the linear model with sm.OLS\n",
    "model_linear = sm.OLS(y,X1).fit()\n",
    "\n",
    "# Plot residuals vs. fitted values\n",
    "figure,ax = plt.subplots(figsize=(10,6))\n",
    "ax.scatter(model_linear.fittedvalues,model_linear.resid)\n",
    "ax.set_xlabel('Fitted values')\n",
    "ax.set_ylabel('Residuals');\n",
    "ax.set_title('Residuals vs. fitted values',y=1.02)\n",
    "ax.axis([0,45,-35,35])\n",
    "\n",
    "# Plot quantile-quantile plot\n",
    "figure,ax = plt.subplots(figsize=(10,6))\n",
    "stats.probplot(model_linear.resid,plot=ax)\n",
    "ax.set_ylabel('Residual quantiles')\n",
    "ax.set_title('Quantile-Quantile plot',y=1.02)\n",
    "ax.axis([-4,4,-35,35])\n",
    "\n",
    "# Show plots\n",
    "plt.show()"
   ]
  },
  {
   "cell_type": "markdown",
   "metadata": {},
   "source": [
    "#### Observation\n",
    "\n",
    "#### 1) residual vs. fitted values plot\n",
    "#### 1.a) Linearity: The residuals bounce randomly around the 0 line. This suggests that the assumption of the linear relationship between features and target variable is reasonable.\n",
    "#### 1.b) Independent errors: The residuals roughly form a horizontal band around the 0 line. This suggests the variances of the error terms are quite equal and the assumption of independent errors is reasonable.\n",
    "\n",
    "#### 2) Quantile-Quantile plot\n",
    "#### Normal distribution of errors: The Quantile-Quantile plot shows the distribution of the residuals is close to the normal distribution except it is heavy tailed"
   ]
  },
  {
   "cell_type": "markdown",
   "metadata": {},
   "source": [
    "### Conclusion 1:\n",
    "\n",
    "### 1) The final linear model (which has no nonlinear or interaction terms), fitted on the entire data set (with no removed outliers), has the following features and corresponding coefficients after simplification:  less_than_high_school with coefficient 0.4586, high_school_diploma with coefficient 0.0693, bachelors/higher with coefficient 0.0680, unemployment with coefficient 1.1221, region_Northeast with coefficient -0.9 , region_South with coefficient 1.3135, RUCC_1 with coefficient -3.3891, RUCC_2 with coefficient -1.3893, RUCC_3 with coefficient -0.7261, and RUCC_6 with coefficient -0.5635. This model adheres to linearity, independent errors, and normal distribution of errors assumptions.\n",
    "\n",
    "### 2) The test score of the linear model is 0.571."
   ]
  },
  {
   "cell_type": "markdown",
   "metadata": {},
   "source": [
    "### The test score of the linear model is not high. A Random Forest model is developed in the next step."
   ]
  },
  {
   "cell_type": "markdown",
   "metadata": {
    "collapsed": true
   },
   "source": [
    "### Step 2: Develop a Random Forest model"
   ]
  },
  {
   "cell_type": "markdown",
   "metadata": {},
   "source": [
    "#### 2-1) Build a Random Forest without parameter tuning, run 5-fold cross-validation and average the scores."
   ]
  },
  {
   "cell_type": "code",
   "execution_count": 10,
   "metadata": {},
   "outputs": [
    {
     "name": "stdout",
     "output_type": "stream",
     "text": [
      "The average of 5-fold cross-validation scores for the Random Forest model with no parameter tuning is 0.499\n"
     ]
    }
   ],
   "source": [
    "# Build the model without parameter tuning. \n",
    "forest = RandomForestRegressor(random_state=21)\n",
    "\n",
    "# Run cross-validation, and average the scores\n",
    "scores = cross_val_score(forest,X,y,cv=5)\n",
    "print('The average of 5-fold cross-validation scores for the Random Forest model with no parameter tuning is %.3f'\n",
    "      %np.mean(scores))"
   ]
  },
  {
   "cell_type": "markdown",
   "metadata": {},
   "source": [
    "#### 2.2) Tune parameters of the Random Forest model. (min_samples_leaf lower than 5 could result in overfitting. Therefore, no value below 5 will be tested.)"
   ]
  },
  {
   "cell_type": "code",
   "execution_count": 17,
   "metadata": {},
   "outputs": [],
   "source": [
    "# Define a function which receives a random forest, parameters, X_train, and y_train as inputs, tune parameters \n",
    "# and prints the best score and best parameters\n",
    "\n",
    "def tuning(forest,parameters,X_train,y_train):\n",
    "    model = GridSearchCV(forest,param_grid=parameters,cv=5)    \n",
    "    model.fit(X_train,y_train)\n",
    "    print('The best score in parameter tuning is: %.3f'%model.best_score_)\n",
    "    print('The best parameters are: ',model.best_params_)    \n",
    "    return model"
   ]
  },
  {
   "cell_type": "code",
   "execution_count": 22,
   "metadata": {},
   "outputs": [
    {
     "name": "stdout",
     "output_type": "stream",
     "text": [
      "The best score in parameter tuning is: 0.616\n",
      "The best parameters are:  {'criterion': 'mse', 'max_features': 'sqrt', 'min_samples_leaf': 5, 'n_estimators': 100}\n"
     ]
    }
   ],
   "source": [
    "# Build the random forest\n",
    "forest = RandomForestRegressor(random_state=21)\n",
    "\n",
    "# Tune parameters\n",
    "parameters = {'n_estimators':[50,80,100],\n",
    "              'criterion': ['mse','mae'],\n",
    "             'min_samples_leaf':[5,7,10],\n",
    "             'max_features':['auto','sqrt','log2']}\n",
    "model = tuning(forest,parameters,X_train,y_train)"
   ]
  },
  {
   "cell_type": "markdown",
   "metadata": {},
   "source": [
    "#### Best 'n_estimators' is 100 which is the largest tested value. A couple of more values will be tested."
   ]
  },
  {
   "cell_type": "code",
   "execution_count": 18,
   "metadata": {},
   "outputs": [
    {
     "name": "stdout",
     "output_type": "stream",
     "text": [
      "The best score in parameter tuning is: 0.618\n",
      "The best parameters are:  {'n_estimators': 1000}\n"
     ]
    }
   ],
   "source": [
    "# Build the random forest with tuned parameters\n",
    "forest = RandomForestRegressor(criterion='mse', max_features='sqrt', min_samples_leaf=5,random_state=21)\n",
    "# Tune parameter\n",
    "parameter2 = {'n_estimators':[100,300,500,1000]}\n",
    "model = tuning(forest,parameter2,X_train,y_train)"
   ]
  },
  {
   "cell_type": "markdown",
   "metadata": {},
   "source": [
    "#### The best score only improved by 0.002 when 'n_estimators' changed from 100 to 1000. Therefore, it is not necessary to test values beyond 1000. I will pick 'n_estimators' equal to 100 to keep the model simpler because the higher values of the parameter will not significantly improve the model."
   ]
  },
  {
   "cell_type": "markdown",
   "metadata": {},
   "source": [
    "#### 2.3) Add one more feature to the features DataFrame and find out if it improves the model. In order to create this feature, the dataset is clustered; the cluster is the new feature. The number of clusters is a parameter which will be tuned along with the random forest parameters by grid search."
   ]
  },
  {
   "cell_type": "markdown",
   "metadata": {},
   "source": [
    "####   2.3.a) First, I define a function which generates clusters for a train set and predcits clusters for a test set."
   ]
  },
  {
   "cell_type": "code",
   "execution_count": 29,
   "metadata": {},
   "outputs": [],
   "source": [
    "#Define clustering function\n",
    "def clustering(X_train,X_test,n_cluster):\n",
    "    \n",
    "    # Build the KMeans cluster, fit it to the train set, create the new feature for the train set, \n",
    "    # cocatenate it to the features DataFrame, transform it to dummy variables, and remove the last dummy variable \n",
    "    kmeans = KMeans(n_clusters=n_cluster,random_state=21)\n",
    "    kmeans.fit(X_train)\n",
    "    new_column_train = kmeans.predict(X_train) \n",
    "    new_df_train = pd.DataFrame(new_column_train,columns = ['cluster'], index = X_train.index)\n",
    "    X_train_extended = pd.concat([X_train,new_df_train],axis=1)\n",
    "    X_train_extended.cluster = X_train_extended.cluster.astype('str')\n",
    "    X_train_extended = pd.get_dummies(X_train_extended)\n",
    "    X_train_extended.drop(['cluster_{}'.format(n_cluster-1)],axis=1,inplace=True)\n",
    "    \n",
    "    # Build the new feature for the test set, concatenate it to the features DataFrame of the test set\n",
    "    # transform it to dummy variables, and remove the last dummy variable \n",
    "    new_column_test = kmeans.predict(X_test) \n",
    "    new_df_test = pd.DataFrame(new_column_test,columns = ['cluster'], index = X_test.index)\n",
    "    X_test_extended = pd.concat([X_test,new_df_test],axis=1)\n",
    "    X_test_extended.cluster = X_test_extended.cluster.astype('str')\n",
    "    X_test_extended = pd.get_dummies(X_test_extended)\n",
    "    X_test_extended.drop(['cluster_{}'.format(n_cluster-1)],axis=1,inplace=True)\n",
    "    \n",
    "    # Return the new features DataFrame for both train and test sets\n",
    "    return X_train_extended,X_test_extended"
   ]
  },
  {
   "cell_type": "markdown",
   "metadata": {},
   "source": [
    "#### 2.3.b) Then I define a function which runs the grid search and finds the best values for number of clusters, n_estimators, min_samples_leaf, criterion, and max_features. Then, it will print the best score of parameter tuning and the best parameters. "
   ]
  },
  {
   "cell_type": "code",
   "execution_count": 30,
   "metadata": {},
   "outputs": [],
   "source": [
    "def cluster_forest_SearchCV(cluster_numbers,n_estimators,min_samples_leaf,criterion,max_features,X_train,y_train):\n",
    "    \n",
    "    # Create KFold with 5 as the number of splits.\n",
    "    kf = KFold(n_splits = 5)\n",
    "    # Create a zero array which will hold the score of each split run. Since the number of splits is 5, the first dimention is 5\n",
    "    a = np.zeros(shape = (5,len(cluster_numbers),len(n_estimators),len(min_samples_leaf),len(criterion),len(max_features)))\n",
    "    \n",
    "    t = 0\n",
    "    # Loop over the splits of the train set  \n",
    "    for train_index, test_index in kf.split(X_train):\n",
    "        X_train_kf = X_train.iloc[train_index]\n",
    "        X_test_kf = X_train.iloc[test_index]\n",
    "        y_train_kf = y_train.iloc[train_index]\n",
    "        y_test_kf = y_train.iloc[test_index]\n",
    "        \n",
    "        # Loop over number of clusters\n",
    "        for i,n_cluster in enumerate(cluster_numbers):\n",
    "            # Cluster each dataset in train set \n",
    "            X_train_kf_extended,X_test_kf_extended = clustering(X_train_kf,X_test_kf,n_cluster)\n",
    "            # Loop over n_estimators\n",
    "            for j,n_estimator in enumerate(n_estimators):\n",
    "                # Loop over min_samples_leaf\n",
    "                for k,min_sample_leaf in enumerate(min_samples_leaf):\n",
    "                    # Loop over criterion\n",
    "                    for l,criteria in enumerate(criterion):\n",
    "                        # Loop over max features\n",
    "                        for m,max_feature in enumerate (max_features):\n",
    "                            # Create the random forest and find the score\n",
    "                            model = RandomForestRegressor(n_estimators = n_estimator, min_samples_leaf = min_sample_leaf,\n",
    "                                                   criterion = criteria, max_features = max_feature, random_state=21)\n",
    "                            model.fit(X_train_kf_extended,y_train_kf)\n",
    "                            score = model.score(X_test_kf_extended,y_test_kf)\n",
    "                            # Save the score in the array\n",
    "                            a[t,i,j,k,l,m] = score\n",
    "        t += 1\n",
    "     \n",
    "    # Average the scores \n",
    "    average_score = np.mean(a,axis = 0)\n",
    "    \n",
    "    \n",
    "    #Find the highest average score\n",
    "    max_score = np.amax(average_score)\n",
    "    \n",
    "    # Find the cluster_number, n_estimator, and min_sample_leaf corresponding to the best score\n",
    "    max_score_index = np.unravel_index(average_score.argmax(), average_score.shape)\n",
    "    cluster_number = cluster_numbers[max_score_index[0]]\n",
    "    n_estimator = n_estimators[max_score_index[1]]\n",
    "    min_sample_leaf = min_samples_leaf[max_score_index[2]]\n",
    "    criteria = criterion[max_score_index[3]]\n",
    "    max_feature = max_features[max_score_index[4]]\n",
    "    \n",
    "    # Print the best score of parameter tuning and best parameters\n",
    "    print('The best score is %.3f'%max_score)\n",
    "    print('\\nThe best parameters are:')\n",
    "    print('Number of clusters: ',cluster_number)\n",
    "    print('n_estimators: ',n_estimator)\n",
    "    print('min_samples_leaf: ',min_sample_leaf)\n",
    "    print('criterion: ',criteria)\n",
    "    print('max_features: ',max_feature)"
   ]
  },
  {
   "cell_type": "markdown",
   "metadata": {},
   "source": [
    "#### Tune the parameters and find the test-set score"
   ]
  },
  {
   "cell_type": "code",
   "execution_count": 31,
   "metadata": {},
   "outputs": [
    {
     "name": "stdout",
     "output_type": "stream",
     "text": [
      "The best score is 0.620\n",
      "\n",
      "The best parameters are:\n",
      "Number of clusters:  2\n",
      "n_estimators:  100\n",
      "min_samples_leaf:  5\n",
      "criterion:  mse\n",
      "max_features:  sqrt\n"
     ]
    }
   ],
   "source": [
    "# Tune the parameters of the random forest fitted on the train set with cluster as the new feature\n",
    "cluster_numbers = [1,2,5,10]\n",
    "n_estimators = [50,80,100]\n",
    "min_samples_leaf = [5,7,10]\n",
    "criterion = ['mse','mae']\n",
    "max_features = ['auto','sqrt','log2']\n",
    "cluster_forest_SearchCV(cluster_numbers,n_estimators,min_samples_leaf,criterion,max_features,X_train,y_train)"
   ]
  },
  {
   "cell_type": "markdown",
   "metadata": {},
   "source": [
    "#### Observation: The best score is 0.620 which is only 0.004 more than the best score of the random forest model with no cluster feature obtained in step 2.2. This improvement in the best score is not quite reliable since the model developed in this step has one more feature than the one developed in step 2. Therefore, adding the cluster feature to the features DataFrame does not improve the performance of the Random Forest model in prediction."
   ]
  },
  {
   "cell_type": "markdown",
   "metadata": {},
   "source": [
    "#### 2.3) Fit the random forest model with tuned parameters in step 2.2 to the entire train set. Then calculate the test score."
   ]
  },
  {
   "cell_type": "code",
   "execution_count": 19,
   "metadata": {},
   "outputs": [
    {
     "name": "stdout",
     "output_type": "stream",
     "text": [
      "The test score for the random forest model is 0.638\n"
     ]
    }
   ],
   "source": [
    "# Build the random forest with tuned parameters\n",
    "forest = RandomForestRegressor(criterion='mse', max_features='sqrt', min_samples_leaf=5, n_estimators=100, random_state=21)\n",
    "# Fit the random forest to the train set\n",
    "forest.fit(X_train,y_train)\n",
    "\n",
    "# Find the test score and print it\n",
    "score = forest.score(X_test,y_test)\n",
    "print('The test score for the random forest model is %.3f'%score)"
   ]
  },
  {
   "cell_type": "markdown",
   "metadata": {},
   "source": [
    "#### 2.4) Build the final random forest by fitting the random forest to the entire data set and sort the features based on theit importance."
   ]
  },
  {
   "cell_type": "code",
   "execution_count": 26,
   "metadata": {},
   "outputs": [
    {
     "data": {
      "text/html": [
       "<div>\n",
       "<style scoped>\n",
       "    .dataframe tbody tr th:only-of-type {\n",
       "        vertical-align: middle;\n",
       "    }\n",
       "\n",
       "    .dataframe tbody tr th {\n",
       "        vertical-align: top;\n",
       "    }\n",
       "\n",
       "    .dataframe thead th {\n",
       "        text-align: right;\n",
       "    }\n",
       "</style>\n",
       "<table border=\"1\" class=\"dataframe\">\n",
       "  <thead>\n",
       "    <tr style=\"text-align: right;\">\n",
       "      <th></th>\n",
       "      <th>importance</th>\n",
       "    </tr>\n",
       "  </thead>\n",
       "  <tbody>\n",
       "    <tr>\n",
       "      <th>less_than_high_school</th>\n",
       "      <td>0.344908</td>\n",
       "    </tr>\n",
       "    <tr>\n",
       "      <th>unemployment</th>\n",
       "      <td>0.234495</td>\n",
       "    </tr>\n",
       "    <tr>\n",
       "      <th>bachelors/higher</th>\n",
       "      <td>0.210041</td>\n",
       "    </tr>\n",
       "    <tr>\n",
       "      <th>region_South</th>\n",
       "      <td>0.077719</td>\n",
       "    </tr>\n",
       "    <tr>\n",
       "      <th>high_school_diploma</th>\n",
       "      <td>0.055807</td>\n",
       "    </tr>\n",
       "    <tr>\n",
       "      <th>RUCC_1</th>\n",
       "      <td>0.039337</td>\n",
       "    </tr>\n",
       "    <tr>\n",
       "      <th>region_West</th>\n",
       "      <td>0.006506</td>\n",
       "    </tr>\n",
       "    <tr>\n",
       "      <th>RUCC_7</th>\n",
       "      <td>0.005771</td>\n",
       "    </tr>\n",
       "    <tr>\n",
       "      <th>RUCC_3</th>\n",
       "      <td>0.005403</td>\n",
       "    </tr>\n",
       "    <tr>\n",
       "      <th>RUCC_6</th>\n",
       "      <td>0.005209</td>\n",
       "    </tr>\n",
       "    <tr>\n",
       "      <th>region_Northeast</th>\n",
       "      <td>0.004265</td>\n",
       "    </tr>\n",
       "    <tr>\n",
       "      <th>RUCC_2</th>\n",
       "      <td>0.003938</td>\n",
       "    </tr>\n",
       "    <tr>\n",
       "      <th>RUCC_4</th>\n",
       "      <td>0.002886</td>\n",
       "    </tr>\n",
       "    <tr>\n",
       "      <th>RUCC_8</th>\n",
       "      <td>0.002524</td>\n",
       "    </tr>\n",
       "    <tr>\n",
       "      <th>RUCC_5</th>\n",
       "      <td>0.001191</td>\n",
       "    </tr>\n",
       "  </tbody>\n",
       "</table>\n",
       "</div>"
      ],
      "text/plain": [
       "                       importance\n",
       "less_than_high_school    0.344908\n",
       "unemployment             0.234495\n",
       "bachelors/higher         0.210041\n",
       "region_South             0.077719\n",
       "high_school_diploma      0.055807\n",
       "RUCC_1                   0.039337\n",
       "region_West              0.006506\n",
       "RUCC_7                   0.005771\n",
       "RUCC_3                   0.005403\n",
       "RUCC_6                   0.005209\n",
       "region_Northeast         0.004265\n",
       "RUCC_2                   0.003938\n",
       "RUCC_4                   0.002886\n",
       "RUCC_8                   0.002524\n",
       "RUCC_5                   0.001191"
      ]
     },
     "execution_count": 26,
     "metadata": {},
     "output_type": "execute_result"
    }
   ],
   "source": [
    "# Build the random forest with tuned parameters\n",
    "model_forest = RandomForestRegressor(criterion='mse', max_features='sqrt', min_samples_leaf=5, n_estimators=100, random_state=21)\n",
    "# Fit the random forest to the entire set\n",
    "model_forest.fit(X,y)\n",
    "\n",
    "# Sort the features based on their importance\n",
    "features = pd.DataFrame(model_forest.feature_importances_, index = X.columns,\n",
    "                        columns=['importance']).sort_values('importance',ascending=False)\n",
    "features"
   ]
  },
  {
   "cell_type": "markdown",
   "metadata": {},
   "source": [
    "#### The most important features in the Random Forest model are less_than_high_school, unemployment, and bachelors/higher."
   ]
  },
  {
   "cell_type": "markdown",
   "metadata": {},
   "source": [
    "### Conclusion 2:\n",
    "### 1) The final random forest model, which is fitted on the entire data set (with no extra feature and RUCC as a quantitative variable), has the following parameters: criterion = mse, max_features = sqrt, min_samples_leaf = 5, and n_estimators = 100.\n",
    "### 2) The test score of the random forest model is 0.638.\n",
    "### 3) The most important features in forming the Random Forest model are less_than_high_school, unemployment, and bachelors/higher."
   ]
  },
  {
   "cell_type": "markdown",
   "metadata": {},
   "source": [
    "### Final Conclusion:\n",
    "### The random forest model with tuned parameters is selected over the linear model because its test score is around 12 percent better (0.638 compared to 0.571). The most important features in forming the Random Forest model are less_than_high_school, unemployment, and bachelors/higher."
   ]
  },
  {
   "cell_type": "code",
   "execution_count": null,
   "metadata": {},
   "outputs": [],
   "source": []
  }
 ],
 "metadata": {
  "kernelspec": {
   "display_name": "Python 3",
   "language": "python",
   "name": "python3"
  },
  "language_info": {
   "codemirror_mode": {
    "name": "ipython",
    "version": 3
   },
   "file_extension": ".py",
   "mimetype": "text/x-python",
   "name": "python",
   "nbconvert_exporter": "python",
   "pygments_lexer": "ipython3",
   "version": "3.6.6"
  }
 },
 "nbformat": 4,
 "nbformat_minor": 1
}
