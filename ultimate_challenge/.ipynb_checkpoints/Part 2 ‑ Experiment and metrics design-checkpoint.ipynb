{
 "cells": [
  {
   "cell_type": "markdown",
   "metadata": {},
   "source": [
    "### 1) What would you choose as the key measure of success of this experiment in encouraging driver partners to serve both cities, and why would you choose this metric?"
   ]
  },
  {
   "cell_type": "markdown",
   "metadata": {},
   "source": [
    "##### Answer: I would compute ratio R1/R2 over a specific period of time such as 7 days before and after reimbursing toll costs: R1 is the number of rejected trips by drivers for which the origin and destination are different (origin is Gotham and destination is Metropolis, or vice versa), and R2 is total number of rejected trips by the drivers in Gotham and Metropolis. The experiment is successful if the ratio decreases after reimbursing toll costs. I would choose this metric because the reduction in the ratio would indicate the increase in willingness of drivers to travel between the two cities. Also, a 7-day period would cover weekends and enough number of nights and days."
   ]
  },
  {
   "cell_type": "markdown",
   "metadata": {},
   "source": [
    "### 2) Describe a practical experiment you would design to compare the effectiveness of the proposed change in relation to the key measure of success. Please provide details on:\n",
    "### a. how you will implement the experiment"
   ]
  },
  {
   "cell_type": "markdown",
   "metadata": {},
   "source": [
    "##### Answer: I will pick a specific number of drivers, e.g. 100 drivers and compute the overall R1/R2 ratio across all of them over a 7-day period.  Then, I will communicate to these drivers about reimbursing toll costs if they accept trips to the other city and make sure they are aware of the new change. Then, I will compute the overall R1/R2 ratio again over a 7-day period and compare it to the ratio before implementing the change according to the statistical test explained in section b."
   ]
  },
  {
   "cell_type": "markdown",
   "metadata": {},
   "source": [
    "### b. what statistical test(s) you will conduct to verify the significance of the observation"
   ]
  },
  {
   "cell_type": "markdown",
   "metadata": {},
   "source": [
    "##### Answer: The null hypothesis is the R1/R2 ratio does not decrease after the new change. 0.05 is selected as the significance level. Let's say the R1/R2 ratio before and after implementing the new change is P0 and P1, respectively. The standard deviation (sigma) of the sample is sqrt(P0(1-P0)/100). Then, the z score is computed by (P0-P1)/sigma (z is selected instead of t because number of samples are more than 30). At the end, the p-value corresponding to the z score is calculated. If the p-value is less than 0.05, it is concluded the decrease in the R1/R2 ratio is statistically significant."
   ]
  },
  {
   "cell_type": "markdown",
   "metadata": {},
   "source": [
    "### c. how you would interpret the results and provide recommendations to the city operations team along with any caveats."
   ]
  },
  {
   "cell_type": "markdown",
   "metadata": {},
   "source": [
    "##### Answer:If the result is not statistically significant, the new change does not encourage the drivers to be available in both cities. Therefore, it will be recommended to the city operations team to look for other solutions. If the result is significantly important, reimbursing tolls encourages drivers to be available in both cities. But, it does not necessarily mean the result is practically significant. I would recommend to the city operations to estimate the extra amount of money the company made because of new trips between the two cities on one hand, and the costs of reimbursing the tolls between the two cities, on the other hand, based on the new R1/R2 ratio. If the former is significantly higher than the latter, it is worth implementing the new change. I will also explain some potential caveats of the experiment method, e.g. if the p-value is quite close to the significant level, it may be necessary to change some test criteria and re-run the test."
   ]
  },
  {
   "cell_type": "code",
   "execution_count": null,
   "metadata": {},
   "outputs": [],
   "source": []
  }
 ],
 "metadata": {
  "kernelspec": {
   "display_name": "Python 3",
   "language": "python",
   "name": "python3"
  },
  "language_info": {
   "codemirror_mode": {
    "name": "ipython",
    "version": 3
   },
   "file_extension": ".py",
   "mimetype": "text/x-python",
   "name": "python",
   "nbconvert_exporter": "python",
   "pygments_lexer": "ipython3",
   "version": "3.6.6"
  }
 },
 "nbformat": 4,
 "nbformat_minor": 2
}
