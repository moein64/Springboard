{
 "cells": [
  {
   "cell_type": "markdown",
   "metadata": {},
   "source": [
    "# What is the True Normal Human Body Temperature? \n",
    "\n",
    "#### Background\n",
    "\n",
    "The mean normal body temperature was held to be 37$^{\\circ}$C or 98.6$^{\\circ}$F for more than 120 years since it was first conceptualized and reported by Carl Wunderlich in a famous 1868 book. But, is this value statistically correct?"
   ]
  },
  {
   "cell_type": "markdown",
   "metadata": {},
   "source": [
    "<h3>Exercises</h3>\n",
    "\n",
    "<p>In this exercise, you will analyze a dataset of human body temperatures and employ the concepts of hypothesis testing, confidence intervals, and statistical significance.</p>\n",
    "\n",
    "<p>Answer the following questions <b>in this notebook below and submit to your Github account</b>.</p> \n",
    "\n",
    "<ol>\n",
    "<li>  Is the distribution of body temperatures normal? \n",
    "    <ul>\n",
    "    <li> Although this is not a requirement for the Central Limit Theorem to hold (read the introduction on Wikipedia's page about the CLT carefully: https://en.wikipedia.org/wiki/Central_limit_theorem), it gives us some peace of mind that the population may also be normally distributed if we assume that this sample is representative of the population.\n",
    "    <li> Think about the way you're going to check for the normality of the distribution. Graphical methods are usually used first, but there are also other ways: https://en.wikipedia.org/wiki/Normality_test\n",
    "    </ul>\n",
    "<li>  Is the sample size large? Are the observations independent?\n",
    "    <ul> The sample size is significantly higher than 30 and is large enough to use central limit theorem.\n",
    "    The observations are independent because theye are less than 10% of the population (all humans)\n",
    "    <li> Remember that this is a condition for the Central Limit Theorem, and hence the statistical tests we are using, to apply.\n",
    "    </ul>\n",
    "<li>  Is the true population mean really 98.6 degrees F?\n",
    "    <ul>\n",
    "    <li> First, try a bootstrap hypothesis test.\n",
    "    <li> Now, let's try frequentist statistical testing. Would you use a one-sample or two-sample test? Why?\n",
    "    <li> In this situation, is it appropriate to use the $t$ or $z$ statistic? \n",
    "    <li> Now try using the other test. How is the result be different? Why?\n",
    "    </ul>\n",
    "<li>  Draw a small sample of size 10 from the data and repeat both frequentist tests. \n",
    "    <ul>\n",
    "    <li> Which one is the correct one to use? \n",
    "    <li> What do you notice? What does this tell you about the difference in application of the $t$ and $z$ statistic?\n",
    "    </ul>\n",
    "<li>  At what temperature should we consider someone's temperature to be \"abnormal\"?\n",
    "    <ul>\n",
    "    <li> As in the previous example, try calculating everything using the boostrap approach, as well as the frequentist approach.\n",
    "    <li> Start by computing the margin of error and confidence interval. When calculating the confidence interval, keep in mind that you should use the appropriate formula for one draw, and not N draws.\n",
    "    </ul>\n",
    "<li>  Is there a significant difference between males and females in normal temperature?\n",
    "    <ul>\n",
    "    <li> What testing approach did you use and why?\n",
    "    <li> Write a story with your conclusion in the context of the original problem.\n",
    "    </ul>\n",
    "</ol>\n",
    "\n",
    "You can include written notes in notebook cells using Markdown: \n",
    "   - In the control panel at the top, choose Cell > Cell Type > Markdown\n",
    "   - Markdown syntax: http://nestacms.com/docs/creating-content/markdown-cheat-sheet\n",
    "\n",
    "#### Resources\n",
    "\n",
    "+ Information and data sources: http://www.amstat.org/publications/jse/datasets/normtemp.txt, http://www.amstat.org/publications/jse/jse_data_archive.htm\n",
    "+ Markdown syntax: http://nestacms.com/docs/creating-content/markdown-cheat-sheet\n",
    "\n",
    "****"
   ]
  },
  {
   "cell_type": "code",
   "execution_count": 8,
   "metadata": {},
   "outputs": [
    {
     "name": "stdout",
     "output_type": "stream",
     "text": [
      "The information of the DataFrame: \n",
      "\n",
      "<class 'pandas.core.frame.DataFrame'>\n",
      "RangeIndex: 130 entries, 0 to 129\n",
      "Data columns (total 3 columns):\n",
      "temperature    130 non-null float64\n",
      "gender         130 non-null object\n",
      "heart_rate     130 non-null float64\n",
      "dtypes: float64(2), object(1)\n",
      "memory usage: 3.1+ KB\n",
      "None\n",
      "\n",
      "The first five rows of the DataFrame are: \n",
      "\n",
      "   temperature gender  heart_rate\n",
      "0         99.3      F        68.0\n",
      "1         98.4      F        81.0\n",
      "2         97.8      M        73.0\n",
      "3         99.2      F        66.0\n",
      "4         98.0      F        73.0\n"
     ]
    }
   ],
   "source": [
    "# import pandas and read the csv file\n",
    "import pandas as pd\n",
    "df = pd.read_csv('data/human_body_temperature.csv')\n",
    "\n",
    "# Print the information in the DataFrame\n",
    "print('The information of the DataFrame: \\n')\n",
    "print(df.info())\n",
    "\n",
    "# print the first five rows of the DataFrame\n",
    "print ('\\nThe first five rows of the DataFrame are: \\n')\n",
    "print(df.head())"
   ]
  },
  {
   "cell_type": "code",
   "execution_count": 9,
   "metadata": {},
   "outputs": [],
   "source": [
    "# Import necessary libraries \n",
    "import numpy as np\n",
    "import seaborn as sns\n",
    "import matplotlib.pyplot as plt\n",
    "import scipy.stats as st\n",
    "\n",
    "# Set the random seed to 132 to get the same results every time the code is run\n",
    "np.random.seed(132)\n",
    "\n",
    "# Define Empirical Cumulative Distribution (ecdf) Function\n",
    "def ecdf(variable):\n",
    "    x = sorted(variable)\n",
    "    y = np.arange(1,len(variable)+1)/len(variable)\n",
    "    return x,y"
   ]
  },
  {
   "cell_type": "markdown",
   "metadata": {},
   "source": [
    "1) Is the distribution of body temperatures normal? \n",
    "<ul>\n",
    "<li> Although this is not a requirement for the Central Limit Theorem to hold (read the introduction on Wikipedia's page about the CLT carefully: https://en.wikipedia.org/wiki/Central_limit_theorem), it gives us some peace of mind that the population may also be normally distributed if we assume that this sample is representative of the population.<li> Think about the way you're going to check for the normality of the distribution. Graphical methods are usually used first, but there are also other ways: https://en.wikipedia.org/wiki/Normality_test"
   ]
  },
  {
   "cell_type": "code",
   "execution_count": 13,
   "metadata": {},
   "outputs": [
    {
     "data": {
      "image/png": "[encoded data removed]",
      "text/plain": [
       "<Figure size 720x576 with 1 Axes>"
      ]
     },
     "metadata": {},
     "output_type": "display_data"
    }
   ],
   "source": [
    "# Set sns\n",
    "sns.set()\n",
    "\n",
    "# Plot ecdf of the body temperature \n",
    "x , y = ecdf(df.temperature)\n",
    "plt.figure(figsize=(10,8))\n",
    "plt.plot(x,y,marker='.',color = 'blue')\n",
    "\n",
    "# Plot the ecdf of a normal distribution with the mean and standard deviation set the to the mean and standard deviation of \n",
    "# the body temperature\n",
    "mean = np.mean(df.temperature)\n",
    "std = np.std(df.temperature)\n",
    "samples = np.random.normal(mean, std, size=100000)\n",
    "x_normal , y_normal = ecdf(samples)\n",
    "plt.plot(x_normal,y_normal,marker='.',color='green')\n",
    "\n",
    "# Set the labels and legends\n",
    "plt.xlabel ('body temperature (F)')\n",
    "plt.ylabel ('ecdf')\n",
    "plt.legend(['data','normal distribution'],loc = 'lower right')\n",
    "\n",
    "# Show the plot\n",
    "plt.show()"
   ]
  },
  {
   "cell_type": "markdown",
   "metadata": {},
   "source": [
    "### Conclusion: The ecdf of the body temperature and normal distribution are close to each other. Thefore, the body temperature data is normally distributed"
   ]
  },
  {
   "cell_type": "markdown",
   "metadata": {},
   "source": [
    "2)  Is the sample size large? Are the observations independent?\n",
    "    <li>Remember that this is a condition for the Central Limit Theorem, and hence the statistical tests we are using, to apply. "
   ]
  },
  {
   "cell_type": "markdown",
   "metadata": {},
   "source": [
    "####  ANSWER: The sample size is significantly higher than 30 and is large enough to use central limit theorem. The observations are independent because theye are less than 10% of the population (all humans)"
   ]
  },
  {
   "cell_type": "markdown",
   "metadata": {},
   "source": [
    "3) Is the true population mean really 98.6 degrees F?\n",
    "    <ul>\n",
    "    <li> First, try a bootstrap hypothesis test.\n",
    "    <li> Now, let's try frequentist statistical testing. Would you use a one-sample or two-sample test? Why?\n",
    "    <li> In this situation, is it appropriate to use the $t$ or $z$ statistic? \n",
    "    <li> Now try using the other test. How is the result be different? Why?"
   ]
  },
  {
   "cell_type": "markdown",
   "metadata": {},
   "source": [
    "Hypothesis: True population mean is 98.6"
   ]
  },
  {
   "cell_type": "code",
   "execution_count": 20,
   "metadata": {
    "collapsed": true
   },
   "outputs": [],
   "source": [
    "# Define the bootstrap function\n",
    "def bs_draw_reps(variable,func,size=1):\n",
    "    bs_reps=np.empty(size)\n",
    "    for i in range(size):\n",
    "        bs_reps[i]=func(np.random.choice(variable,size=len(variable)))\n",
    "    return bs_reps"
   ]
  },
  {
   "cell_type": "code",
   "execution_count": 21,
   "metadata": {},
   "outputs": [
    {
     "name": "stdout",
     "output_type": "stream",
     "text": [
      "sample mean is  98.2492307692\n",
      "p-value is  0.0\n"
     ]
    }
   ],
   "source": [
    "sample_mean = np.mean(df.temperature)\n",
    "print('sample mean is ',sample_mean)\n",
    "temperature_shifted = df.temperature - sample_mean + 98.6\n",
    "bs_mean = bs_draw_reps(temperature_shifted,np.mean,10000)\n",
    "p = np.sum(bs_mean<=sample_mean)/len(bs_mean)\n",
    "print('p-value is ',p)\n",
    "#plt.hist(bs_mean,bins=100,normed=True)\n",
    "#plt.show()\n",
    "#print(np.mean(bs_mean))"
   ]
  },
  {
   "cell_type": "markdown",
   "metadata": {},
   "source": [
    "#### The true population mean is not 98.6"
   ]
  },
  {
   "cell_type": "code",
   "execution_count": 22,
   "metadata": {},
   "outputs": [
    {
     "name": "stdout",
     "output_type": "stream",
     "text": [
      "sample mean is  98.2492307692\n",
      "sample std is  0.730357778905\n",
      "I use z-score because the number of samples is more than 30\n",
      "z-score is  -5.47592520208\n",
      "The probability of having the mean value of  98.2492307692  based on z-statistic is  2.17615758294e-08\n",
      "The probability of having the mean value of  98.2492307692  based on t-statistic is  1.08257052408e-07\n"
     ]
    }
   ],
   "source": [
    "sample_mean = np.mean(df.temperature)\n",
    "sample_std = np.std(df.temperature)\n",
    "print('sample mean is ',sample_mean)\n",
    "print('sample std is ',sample_std)\n",
    "print('I use z-score because the number of samples is more than 30')\n",
    "z_score = (sample_mean - 98.6)/(sample_std/np.sqrt(np.size(df.temperature)))\n",
    "print('z-score is ',z_score)\n",
    "p_zscore = st.norm.cdf(z_score)\n",
    "print('The probability of having the mean value of ',sample_mean,' based on z-statistic is ', p_zscore)\n",
    "p_tscore = st.t.cdf(z_score,df=130)\n",
    "print('The probability of having the mean value of ',sample_mean,' based on t-statistic is ', p_tscore)"
   ]
  },
  {
   "cell_type": "markdown",
   "metadata": {},
   "source": [
    "#### The results from t and z statistics are very close since number of samples is large enough (more than 30)"
   ]
  },
  {
   "cell_type": "markdown",
   "metadata": {},
   "source": [
    "4) Draw a small sample of size 10 from the data and repeat both frequentist tests.\n",
    "    <ul>\n",
    "    <li> Which one is the correct one to use?\n",
    "    <li> What do you notice? What does this tell you about the difference in application of the  t  and  z  statistic?"
   ]
  },
  {
   "cell_type": "code",
   "execution_count": 23,
   "metadata": {},
   "outputs": [
    {
     "name": "stdout",
     "output_type": "stream",
     "text": [
      "sample mean is  98.41\n",
      "sample std is  0.427668095607\n",
      "new score is  -1.40490432091\n",
      "The probability of having the mean value of  98.41  based on z-statistic is  0.0800248657722\n",
      "The probability of having the mean value of  98.41  based on t-statistic is  0.0951718614656\n"
     ]
    }
   ],
   "source": [
    "np.random.seed(132)\n",
    "new_sample = np.random.choice(df.temperature,size=10)\n",
    "new_sample_mean = np.mean(new_sample)\n",
    "new_sample_std = np.std(new_sample)\n",
    "print('sample mean is ',new_sample_mean)\n",
    "print('sample std is ',new_sample_std)\n",
    "score = (new_sample_mean - 98.6)/(new_sample_std/np.sqrt(np.size(new_sample)))\n",
    "print('new score is ',score)\n",
    "p_zscore = st.norm.cdf(score)\n",
    "print('The probability of having the mean value of ',new_sample_mean,' based on z-statistic is ', p_zscore)\n",
    "p_tscore = st.t.cdf(score,df=10)\n",
    "print('The probability of having the mean value of ',new_sample_mean,' based on t-statistic is ', p_tscore)"
   ]
  },
  {
   "cell_type": "markdown",
   "metadata": {},
   "source": [
    "#### The results from t and z statistics are different if the number of samples is not large enough. t-value is more accurate\n",
    "#### Also, we fail to reject the null hypothesis that the temperature mean is 98.6"
   ]
  },
  {
   "cell_type": "markdown",
   "metadata": {
    "collapsed": true
   },
   "source": [
    "5) At what temperature should we consider someone's temperature to be \"abnormal\"?\n",
    "    <ul>\n",
    "    <li> As in the previous example, try calculating everything using the boostrap approach, as well as the frequentist approach.\n",
    "    <li> Start by computing the margin of error and confidence interval. When calculating the confidence interval, keep in mind that you should use the appropriate formula for one draw, and not N draws."
   ]
  },
  {
   "cell_type": "code",
   "execution_count": 24,
   "metadata": {},
   "outputs": [
    {
     "name": "stdout",
     "output_type": "stream",
     "text": [
      "bootstrap approach: If the body temperature is outside [ 98.1861538462 , 98.3123076923 ], it is considered abnormal\n",
      "z-score for 68% confidence interval is the z-score for probability of 0.84 which is 0.99445788321\n",
      "frequentist approach: If the body temperature is outside [ 98.1855291638 , 98.3129323747 ], it is considered abnormal\n"
     ]
    }
   ],
   "source": [
    "bs_mean = bs_draw_reps(df.temperature,np.mean,10000)\n",
    "confidence_level = 0.68\n",
    "a,b=np.percentile(bs_mean,[50-100*confidence_level/2,50+100*confidence_level/2])\n",
    "print('bootstrap approach: If the body temperature is outside [',a,',',b,'], it is considered abnormal')\n",
    "p = 1-(1-confidence_level)/2\n",
    "z_score2=st.norm.ppf(p)\n",
    "print('z-score for 68% confidence interval is the z-score for probability of 0.84 which is', z_score2)\n",
    "confidence = z_score2*sample_std/np.sqrt(np.size(df.temperature))\n",
    "print('frequentist approach: If the body temperature is outside [',sample_mean-confidence,',',sample_mean+confidence,'], it is considered abnormal')"
   ]
  },
  {
   "cell_type": "markdown",
   "metadata": {},
   "source": [
    "6) Is there a significant difference between males and females in normal temperature?\n",
    "    <ul>\n",
    "    <li> What testing approach did you use and why?\n",
    "    <li> Write a story with your conclusion in the context of the original problem.\n",
    "    </ul>"
   ]
  },
  {
   "cell_type": "code",
   "execution_count": 25,
   "metadata": {},
   "outputs": [
    {
     "name": "stdout",
     "output_type": "stream",
     "text": [
      "p-value of the difference between mean female and male body temperatures as small as  0.289230769231  is  0.0121\n",
      "this probability is less than 0.05, i.e. we reject the null hypothesis and therefore we can conclude that the mean body temperature of women is higher than men's. In other words, we need to examine the true normal temperature for men and women separately\n"
     ]
    }
   ],
   "source": [
    "# I run a permutation test to check if the hypothesis that male and female body temperatures have the same distribution\n",
    "\n",
    "df_m=df[df.gender=='M']\n",
    "df_f=df[df.gender=='F']\n",
    "np.random.seed(132)\n",
    "def perm_mean_reps(x,y,size=1):\n",
    "    concat=np.concatenate((x,y))\n",
    "    perm_replicates=np.empty(size)\n",
    "    for i in range(size):\n",
    "        permutation=np.random.permutation(concat)\n",
    "        x_perm = permutation[:len(x)]\n",
    "        y_perm = permutation[len(x):]\n",
    "        perm_replicates[i]=np.mean(x_perm)-np.mean(y_perm)\n",
    "    return perm_replicates\n",
    "\n",
    "mean_diff = np.mean(df_f.temperature)-np.mean(df_m.temperature)\n",
    "perm_replicates=perm_mean_reps(df_f.temperature,df_m.temperature,size=10000)\n",
    "p = np.sum(perm_replicates>=mean_diff)/len(perm_replicates)\n",
    "print('p-value of the difference between mean female and male body temperatures as small as ',mean_diff,' is ',p)\n",
    "print('this probability is less than 0.05, i.e. we reject the null hypothesis and therefore we can conclude that the mean body\\\n",
    " temperature of women is higher than men\\'s. In other words, we need to examine the true normal temperature for men and\\\n",
    " women separately')"
   ]
  },
  {
   "cell_type": "code",
   "execution_count": null,
   "metadata": {
    "collapsed": true
   },
   "outputs": [],
   "source": []
  }
 ],
 "metadata": {
  "kernelspec": {
   "display_name": "Python 3",
   "language": "python",
   "name": "python3"
  },
  "language_info": {
   "codemirror_mode": {
    "name": "ipython",
    "version": 3
   },
   "file_extension": ".py",
   "mimetype": "text/x-python",
   "name": "python",
   "nbconvert_exporter": "python",
   "pygments_lexer": "ipython3",
   "version": "3.6.6"
  }
 },
 "nbformat": 4,
 "nbformat_minor": 1
}
